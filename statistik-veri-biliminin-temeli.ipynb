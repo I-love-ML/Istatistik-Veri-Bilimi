{
 "cells": [
  {
   "cell_type": "markdown",
   "id": "9577a71b",
   "metadata": {
    "papermill": {
     "duration": 0.052421,
     "end_time": "2023-12-31T11:49:38.428524",
     "exception": false,
     "start_time": "2023-12-31T11:49:38.376103",
     "status": "completed"
    },
    "tags": []
   },
   "source": [
    "<div style=\"text-align: center;\">\n",
    "    <img src=\"https://cdn.discordapp.com/attachments/1188840936072028262/1190966919419932772/kaan.xtr_I_want_you_to_produce_a_visual_related_to_statistics_1aba6d09-0b5a-4490-9cd3-b62db73472ee.png\" style=\"width: 100%; height: 100%;\">\n",
    "</div>"
   ]
  },
  {
   "cell_type": "markdown",
   "id": "63ca45ac",
   "metadata": {
    "papermill": {
     "duration": 0.050236,
     "end_time": "2023-12-31T11:49:38.529418",
     "exception": false,
     "start_time": "2023-12-31T11:49:38.479182",
     "status": "completed"
    },
    "tags": []
   },
   "source": [
    "<div style=\"background-color: #D3D3D3; font-family: newtimeroman; font-size: 120%; color: black; text-align: center; border-radius: 80px; padding: 7px; border: solid 5px #4F4F4F;\">\n",
    "    <h1 id=\"0.01\">Notebook Hakkında</h1>\n",
    "</div>"
   ]
  },
  {
   "cell_type": "markdown",
   "id": "26893e29",
   "metadata": {
    "papermill": {
     "duration": 0.051196,
     "end_time": "2023-12-31T11:49:38.695501",
     "exception": false,
     "start_time": "2023-12-31T11:49:38.644305",
     "status": "completed"
    },
    "tags": []
   },
   "source": [
    "<span style=\"font-size: 16px; color: black; background-color: transparent;line-height: 1; font-family: Verdana, sans-serif;\">Bu notebook, istatistik ve olasılık disiplinlerini keşfetmeyi amaçlayarak, verileri anlama, analiz etme ve yorumlama için temel araçlara odaklanıyor. Örnek teorisi, verileri örnekleme yoluyla temsil etme sürecini incelerken, dağılım teorisi kesikli ve sürekli veri dağılımlarına odaklanarak olasılıkla bağlantılar kurmaktadır. Hipotez testi, bilim ve araştırma alanlarında hipotezlerin geçerliliğini ve önemini değerlendirmeyi sağlayan hayati bir araçtır. </span>\n",
    "\n",
    "<span style=\"font-size: 16px; color: black; background-color: transparent;line-height: 1; font-family: Verdana, sans-serif;\">Bu proje boyunca, her konuyu daha fazla ayrıntıyla inceleyerek istatistik ve olasılığın gücünün ve öneminin temel bir anlayışını geliştirmeyi hedefliyorum ve veri odaklı karar verme ve bilimsel keşiflere katkıda bulunmayı amaçlıyorum.</span>"
   ]
  },
  {
   "cell_type": "markdown",
   "id": "3c0a6c71",
   "metadata": {
    "papermill": {
     "duration": 0.0519,
     "end_time": "2023-12-31T11:49:38.798537",
     "exception": false,
     "start_time": "2023-12-31T11:49:38.746637",
     "status": "completed"
    },
    "tags": []
   },
   "source": [
    "<div style=\"background-color: #D3D3D3; font-family: newtimeroman; font-size: 120%; color: black; text-align: center; border-radius: 80px; padding: 7px; border: solid 5px #4F4F4F;\">\n",
    "    <h1 id=\"0.02\">İçerikler</h1>\n",
    "</div>\n",
    "\n",
    "\n",
    "#### 1) [Betimsel İstatistikler](#1)\n",
    "\n",
    "* [Ortalama](#1.1)\n",
    "* [Medyan](#1.2)\n",
    "* [Mod](#1.3)\n",
    "* [Aralık](#1.4)\n",
    "* [Standart Sapma](#1.5)\n",
    "* [Varyans](#1.6)\n",
    "* [Kovaryans](#1.7)\n",
    "* [Korelasyon](#1.8)\n",
    "\n",
    "#### 2) [Örnek Teorisi](#2)\n",
    "\n",
    "#### 3) [Kesikli Dağılım](#3)\n",
    "*  [Bernoulli Dağılımı](#3.1)\n",
    "*  [Büyük Sayılar Yasası](#3.2)\n",
    "*  [Binom Dağılımı](#3.3)\n",
    "*  [Poisson Dağılımı](#3.4)\n",
    "\n",
    "#### 4) [Sürekli Dağılım](#4)\n",
    "*  [Normal Dağılım](#4.1)\n",
    "\n",
    "#### 5) [Hipotez Tesleri](#5)\n",
    "*  [Tek Örneklem T-Testi](#5.1)\n",
    "*  [Nonparametrik Tek Örneklem T-Testi](#5.2)\n",
    "*  [Tek Örneklem Oran Testi](#5.3)\n",
    "*  [Bağımsız İki Örneklem T-Testi](#5.4)\n",
    "*  [Nonparametrik Bağımsız İki Örneklem T-Testi](#5.5)\n",
    "*  [Bağımlı İki Örneklem T-Testi](#5.6)\n",
    "*  [Nonparametrik Bağımlı İki Örneklem T-Testi](#5.7)\n",
    "*  [İki Örneklem Oran Testi](#5.8)\n",
    "\n",
    "#### 6) [ANOVA (Varyans Analizi)](#6)\n",
    "\n",
    "* [Parametrik Hipotez Testi](#6.1)\n",
    "* [Nonparametrik Hipotez Testi](#6.2)\n",
    "\n",
    "#### 7) [Korelasyon Analizi](#7)\n",
    "\n",
    "* [Parametrik Hipotez Testi](#7.1)\n",
    "* [Nonparametrik Hipotez Testi](#7.2)\n"
   ]
  },
  {
   "cell_type": "code",
   "execution_count": 1,
   "id": "e8912204",
   "metadata": {
    "_cell_guid": "b1076dfc-b9ad-4769-8c92-a6c4dae69d19",
    "_kg_hide-input": true,
    "_kg_hide-output": true,
    "_uuid": "8f2839f25d086af736a60e9eeb907d3b93b6e0e5",
    "execution": {
     "iopub.execute_input": "2023-12-31T11:49:38.903445Z",
     "iopub.status.busy": "2023-12-31T11:49:38.902629Z",
     "iopub.status.idle": "2023-12-31T11:49:57.365760Z",
     "shell.execute_reply": "2023-12-31T11:49:57.364443Z"
    },
    "papermill": {
     "duration": 18.518947,
     "end_time": "2023-12-31T11:49:57.368892",
     "exception": false,
     "start_time": "2023-12-31T11:49:38.849945",
     "status": "completed"
    },
    "tags": []
   },
   "outputs": [
    {
     "name": "stdout",
     "output_type": "stream",
     "text": [
      "Collecting researchpy\r\n",
      "  Downloading researchpy-0.3.5-py3-none-any.whl (33 kB)\r\n",
      "Requirement already satisfied: scipy in /opt/conda/lib/python3.10/site-packages (from researchpy) (1.11.2)\r\n",
      "Requirement already satisfied: numpy in /opt/conda/lib/python3.10/site-packages (from researchpy) (1.23.5)\r\n",
      "Requirement already satisfied: pandas in /opt/conda/lib/python3.10/site-packages (from researchpy) (2.0.3)\r\n",
      "Requirement already satisfied: statsmodels in /opt/conda/lib/python3.10/site-packages (from researchpy) (0.14.0)\r\n",
      "Requirement already satisfied: patsy in /opt/conda/lib/python3.10/site-packages (from researchpy) (0.5.3)\r\n",
      "Requirement already satisfied: python-dateutil>=2.8.2 in /opt/conda/lib/python3.10/site-packages (from pandas->researchpy) (2.8.2)\r\n",
      "Requirement already satisfied: pytz>=2020.1 in /opt/conda/lib/python3.10/site-packages (from pandas->researchpy) (2023.3)\r\n",
      "Requirement already satisfied: tzdata>=2022.1 in /opt/conda/lib/python3.10/site-packages (from pandas->researchpy) (2023.3)\r\n",
      "Requirement already satisfied: six in /opt/conda/lib/python3.10/site-packages (from patsy->researchpy) (1.16.0)\r\n",
      "Requirement already satisfied: packaging>=21.3 in /opt/conda/lib/python3.10/site-packages (from statsmodels->researchpy) (21.3)\r\n",
      "Requirement already satisfied: pyparsing!=3.0.5,>=2.0.2 in /opt/conda/lib/python3.10/site-packages (from packaging>=21.3->statsmodels->researchpy) (3.0.9)\r\n",
      "Installing collected packages: researchpy\r\n",
      "Successfully installed researchpy-0.3.5\r\n"
     ]
    }
   ],
   "source": [
    "# import libraries\n",
    "\n",
    "!pip install researchpy\n",
    "\n",
    "import researchpy as rp\n",
    "import numpy as np\n",
    "import warnings\n",
    "warnings.filterwarnings(\"ignore\")"
   ]
  },
  {
   "cell_type": "markdown",
   "id": "869e60c9",
   "metadata": {
    "papermill": {
     "duration": 0.051677,
     "end_time": "2023-12-31T11:49:57.472752",
     "exception": false,
     "start_time": "2023-12-31T11:49:57.421075",
     "status": "completed"
    },
    "tags": []
   },
   "source": [
    "<a id =\"1.0\"></a>\n",
    "\n",
    "\n",
    "<div style=\"background-color: #D3D3D3; font-family: newtimeroman; font-size: 120%; color: black; text-align: center; border-radius: 80px; padding: 7px; border: solid 5px #4F4F4F;\">\n",
    "    <h1 id=\"0.03\">Betimsel İstatistikler</h1>\n",
    "</div>"
   ]
  },
  {
   "cell_type": "markdown",
   "id": "b84d7234",
   "metadata": {
    "execution": {
     "iopub.execute_input": "2023-10-25T05:02:25.786204Z",
     "iopub.status.busy": "2023-10-25T05:02:25.78582Z",
     "iopub.status.idle": "2023-10-25T05:02:25.790673Z",
     "shell.execute_reply": "2023-10-25T05:02:25.789398Z",
     "shell.execute_reply.started": "2023-10-25T05:02:25.786176Z"
    },
    "papermill": {
     "duration": 0.052709,
     "end_time": "2023-12-31T11:49:57.577413",
     "exception": false,
     "start_time": "2023-12-31T11:49:57.524704",
     "status": "completed"
    },
    "tags": []
   },
   "source": [
    "<a id =\"1.1\"></a>\n",
    "## Ortalama"
   ]
  },
  {
   "cell_type": "markdown",
   "id": "43273a6d",
   "metadata": {
    "papermill": {
     "duration": 0.051718,
     "end_time": "2023-12-31T11:49:57.681580",
     "exception": false,
     "start_time": "2023-12-31T11:49:57.629862",
     "status": "completed"
    },
    "tags": []
   },
   "source": [
    "<span style=\"font-size: 15px; color: black; background-color: transparent;line-height: 1;\">Ortalama, bir veri kümesindeki sayıların toplamının, veri sayısına bölünmesiyle hesaplanan bir istatistiksel ölçüdür. Bu ölçü, veri noktalarının genel merkezini temsil eder. Bir veri kümesinin merkezi eğilimini gösteren ortalama, veri noktalarının toplamının eşit olarak dağıtıldığı bir noktayı ifade eder.</span>\n",
    "\n",
    "\n",
    "\n",
    "##### Aşağıdaki formül ortalama hesaplamak için kullanılır:\n",
    "\n",
    "### $ \\overline{x} = \\frac{\\sum x_{i}}{n} $\n",
    "\n",
    "##### Örneğin, 10, 20, 30, 40 ve 50 sayılarının ortalamasını hesaplamak istiyorsanız:\n",
    "\n",
    "### $ \\overline{x} =\\frac{10 + 20 +30+40+50}{5} = \\frac{150}{5} =30 $\n",
    "\n",
    "##### ***Sonuç olarak, bu veri kümesinin ortalaması 30 olacaktır. Ortalama, bir veri setinin merkezi bir temsilcisidir ve verilerin genel dağılımını anlamamıza yardımcı olur.***"
   ]
  },
  {
   "cell_type": "markdown",
   "id": "ceddc328",
   "metadata": {
    "papermill": {
     "duration": 0.052267,
     "end_time": "2023-12-31T11:49:57.786516",
     "exception": false,
     "start_time": "2023-12-31T11:49:57.734249",
     "status": "completed"
    },
    "tags": []
   },
   "source": [
    "<a id =\"1.2\"></a>\n",
    "## Medyan"
   ]
  },
  {
   "cell_type": "markdown",
   "id": "089b6bf2",
   "metadata": {
    "papermill": {
     "duration": 0.051919,
     "end_time": "2023-12-31T11:49:57.891903",
     "exception": false,
     "start_time": "2023-12-31T11:49:57.839984",
     "status": "completed"
    },
    "tags": []
   },
   "source": [
    "<span style=\"font-size: 15px; color: black; background-color: transparent;line-height: 1;\">Medyan, bir veri kümesinin değerlerinin sıralandığı zaman, veri kümesinin ortasındaki değeri temsil eden istatistiksel bir ölçüdür. Median, veriler sıralandığında veri kümesinin merkezindeki değeri ifade eder. Median hesaplanırken veriler düzenlenir ve veri noktalarının sayısı tek ise ortadaki değer median olarak kabul edilir. Eğer veri noktalarının sayısı çift ise median, iki orta değerin ortalaması olarak hesaplanır.</span>\n",
    "\n",
    "<span style=\"font-size: 15px; color: black; background-color: transparent;line-height: 1;\">Medyan, bir veri kümesindeki merkezi eğilimi ölçen bir istatistiksel ölçüdür ve aykırı değerlerin etkisine daha dayanıklıdır. Bir veri kümesi normalden saparsa veya çarpık bir dağılıma sahipse, median genellikle merkezi eğilimi daha güvenilir bir şekilde temsil eder çünkü ortalama bu tür durumlarda yanıltıcı olabilir.</span>\n",
    "\n",
    "<span style=\"font-size: 15px; color: black; background-color: transparent;line-height: 1;\">Örneğin, gelir verileri içeren bir veri kümesinde, median gelirler sıralandığında orta gelir düzeyini temsil eder. Bu nedenle median, veri analizinde ve istatistiksel incelemelerde yaygın olarak kullanılır ve merkezi eğilim hakkında değerli bilgiler sunar.</span>\n",
    "\n",
    "\n",
    "\n",
    "##### Formül;\n",
    "\n",
    "### $Medyan=\\begin{cases}\\frac{(N+1)^2}{2}.terim;& N\\:Tek \\:olduğunda\\\\\\frac{(\\frac{N}{2}).terim \\:+\\:(\\frac{N}{2}+1).terim}{2};& N\\: Çift\\:olduğunda\\end{cases}$"
   ]
  },
  {
   "cell_type": "markdown",
   "id": "f5251deb",
   "metadata": {
    "papermill": {
     "duration": 0.051664,
     "end_time": "2023-12-31T11:49:57.995143",
     "exception": false,
     "start_time": "2023-12-31T11:49:57.943479",
     "status": "completed"
    },
    "tags": []
   },
   "source": [
    "Bir grup arkadaşın yaşlarını düşünüyorsunuz ve yaşları şu şekilde:\n",
    "\n",
    "21, 23, 24, 25, 26, 30, 32\n",
    "\n",
    "Bu yaşları artan sırayla düzenlediğinizde:\n",
    "\n",
    "21, 23, 24, 25, 26, 30, 32\n",
    "\n",
    "Bu veri kümesi tek sayıda veri noktası içeriyor (7 veri noktası), medianı bulmak oldukça basittir. Median, tam ortada bulunan değeri temsil eder. Bu nedenle bu veri kümesinin medianı 4. değerdir, yani \"25.\"\n",
    "\n",
    "Şimdi, veri noktası sayısı çift olan bir veri kümesi için median hesaplayalım. Başka bir örnek kullanarak:\n",
    "\n",
    "Bir grup insanın yaşlarını ölçtüğünüzü varsayalım ve yaşları şöyle:\n",
    "\n",
    "18, 20, 21, 24, 26, 30\n",
    "\n",
    "Bu yaşları artan sırayla düzenlediğinizde:\n",
    "\n",
    "18, 20, 21, 24, 26, 30\n",
    "\n",
    "Bu sefer 6 veri noktası var, yani veri noktası sayısı çifttir. Medianı hesaplamak için iki ortadaki değeri alır ve aritmetik ortalamalarını hesaplarsınız:\n",
    "\n",
    "(21 + 24) / 2 = 45 / 2 = 22,5\n",
    "\n",
    "Bu nedenle bu veri kümesinin medianı 22,5 yaşındadır."
   ]
  },
  {
   "cell_type": "markdown",
   "id": "6da8f1e2",
   "metadata": {
    "papermill": {
     "duration": 0.053468,
     "end_time": "2023-12-31T11:49:58.101980",
     "exception": false,
     "start_time": "2023-12-31T11:49:58.048512",
     "status": "completed"
    },
    "tags": []
   },
   "source": [
    "<a id =\"1.3\"></a>\n",
    "## Mod"
   ]
  },
  {
   "cell_type": "markdown",
   "id": "9a8e5cf0",
   "metadata": {
    "papermill": {
     "duration": 0.052315,
     "end_time": "2023-12-31T11:49:58.207877",
     "exception": false,
     "start_time": "2023-12-31T11:49:58.155562",
     "status": "completed"
    },
    "tags": []
   },
   "source": [
    "<span style=\"font-size: 15px; color: black; background-color: transparent;line-height: 1;\">Mod, bir veri kümesinde en sık tekrarlanan değeri temsil eden istatistiksel bir ölçüdür. Mod, veri kümesinde en yaygın veya en sık tekrarlanan değeri temsil eder. Merkezi eğilim ölçülerinden biri olup, veri dağılımındaki yoğunluğun en yüksek olduğu değeri gösterir.</span>\n",
    "\n",
    "<span style=\"font-size: 15px; color: black; background-color: transparent;line-height: 1;\">Mod hesaplama işlemi oldukça basittir. Veriler sıralandığında en sık tekrarlanan değer belirlenir. Bu değer, veri kümesinin modu olarak kabul edilir.</span>\n",
    "\n",
    "\n",
    "##### Formül:\n",
    "\n",
    "### $Mod=l +(\\frac{f1 - f0}{2f1 - f0 -f2})*h$\n",
    "\n",
    "\n",
    "##### l = Modlu sınıfın alt sınırı\n",
    "\n",
    "##### h = Sınıf aralığının büyüklüğü\n",
    "\n",
    "##### f1 = Modal sınıfın frekansı\n",
    "\n",
    "##### f0 = Modal sınıfının öncesindeki sınıfın frekansı\n",
    "\n",
    "##### f2 = Modal sınıfının sonrasındaki sınıfın frekansı\n",
    "\n",
    "\n",
    "\n",
    "##### ***Örneğin, öğrencilerin sınav notlarının bulunduğu bir veri kümesini düşünün. Veri kümesi şöyle görünebilir;***:\n",
    "\n",
    "**80, 85, 90, 90, 92, 85, 88, 95, 90, 92**\n",
    "\n",
    "##### Bu veri kümesinde \"90\" değeri en sık görülen değerdir. Bu nedenle bu veri kümesinin modu \"90\" olarak kabul edilir.\n",
    "\n",
    "##### Mod, verinin frekans dağılımını anlamamıza yardımcı olur ve verinin hangi değere daha eğilimli olduğunu gösterir. Özellikle kategorik veriler ve kesirli sayılarla sıkça kullanılır."
   ]
  },
  {
   "cell_type": "markdown",
   "id": "2405118b",
   "metadata": {
    "papermill": {
     "duration": 0.052474,
     "end_time": "2023-12-31T11:49:58.312766",
     "exception": false,
     "start_time": "2023-12-31T11:49:58.260292",
     "status": "completed"
    },
    "tags": []
   },
   "source": [
    "<a id =\"1.4\"></a>\n",
    "## Aralık"
   ]
  },
  {
   "cell_type": "markdown",
   "id": "59990993",
   "metadata": {
    "papermill": {
     "duration": 0.051108,
     "end_time": "2023-12-31T11:49:58.415585",
     "exception": false,
     "start_time": "2023-12-31T11:49:58.364477",
     "status": "completed"
    },
    "tags": []
   },
   "source": [
    "<span style=\"font-size: 15px; color: black; background-color: transparent;line-height: 1;\">\"Aralık\", istatistikte, bir veri setindeki en büyük ve en küçük değerler arasındaki farkı temsil eden bir terimdir. Bu, veri setinin dağılımının ne kadar geniş veya dar olduğunu ölçen bir ölçü olarak hizmet eder ve verinin yayılma derecesini anlamamıza yardımcı olur. Aralığı hesaplamak için aşağıdaki adımları takip edebilirsiniz:</span>\n",
    "\n",
    "* Verilerinizi en küçükten en büyüğe veya en büyükten en küçüğe doğru sıralayın.\n",
    "* Veri setinin minimum değerini belirleyin (en küçük değer).\n",
    "* Veri setinin maksimum değerini belirleyin (en büyük değer).\n",
    "* Aralığı hesaplamak için maksimum değeri minimum değerden çıkarın.\"\n",
    "\n",
    "<span style=\"font-size: 15px; color: black; background-color: transparent;line-height: 1;\">Aralık, veri setinin ne kadar yayıldığını veya yoğunlaştığını ölçen bir terimdir. Geniş bir aralık, verinin daha fazla yayıldığını ve değişken olduğunu gösterirken, dar bir aralık, veri değerlerinin birbirine daha yakın olduğunu gösterir.</span>\n",
    "\n",
    "##### Formül:\n",
    "\n",
    "#### $Aralık=Max_{x}- Min_{x}$\n",
    "\n",
    "##### Örneğin, bir sınıfın öğrenci notlarını düşünelim ve en düşük notun 60, en yüksek notun ise 95 olduğunu buldunuz. Bu durumda aralık, 95 - 60 = 35 olacaktır. Bu, notların 60 ile 95 arasında dağıldığını ve dağılımın yakın gruplanmadığını gösterir."
   ]
  },
  {
   "cell_type": "markdown",
   "id": "63e14e01",
   "metadata": {
    "papermill": {
     "duration": 0.05187,
     "end_time": "2023-12-31T11:49:58.520086",
     "exception": false,
     "start_time": "2023-12-31T11:49:58.468216",
     "status": "completed"
    },
    "tags": []
   },
   "source": [
    "<a id =\"1.5\"></a>\n",
    "## Standart Sapma"
   ]
  },
  {
   "cell_type": "markdown",
   "id": "3c14ddcf",
   "metadata": {
    "papermill": {
     "duration": 0.052309,
     "end_time": "2023-12-31T11:49:58.627630",
     "exception": false,
     "start_time": "2023-12-31T11:49:58.575321",
     "status": "completed"
    },
    "tags": []
   },
   "source": [
    "<span style=\"font-size: 15px; color: black; background-color: transparent;line-height: 1;\">Standart sapma, bir veri kümesinin ortalamasından ne kadar sapma gösterdiğini ölçen istatistiksel bir ölçüdür ve veri dağılımının ne kadar dağınık olduğunu temsil eder. İlk olarak veri setinin ortalaması bulunarak hesaplanır, sonra her veri noktasının ortalamadan farkı ölçülür. Bu farklar kare alınır, ortalama alınır (varyansı temsil eder) ve son olarak varyansın karekökü alınarak standart sapma elde edilir. Yüksek bir standart sapma, veri noktalarının ortalamadan geniş bir şekilde sapma gösterdiğini ve daha yaygın bir dağılıma sahip olduğunu gösterirken, düşük bir standart sapma, veri noktalarının ortalamaya yakın bir şekilde gruplandığını ve daha dar bir dağılımı temsil ettiğini belirtir. Standart sapma, verinin değişkenliğini ve tahmin edilebilirliğini değerlendirmek için kullanılan kritik bir istatistiksel araçtır ve veri analizi, istatistik ve karar verme süreçlerinde önemli bir rol oynar.</span>\n",
    "\n",
    "##### Formül:\n",
    "\n",
    "### $Standart Sapma=\\begin{cases}\\sqrt{\\frac{\\sum(x_{i}-\\mu)^2}{N}} ;& Anakütle \\:için(\\sigma)\\\\\\sqrt{\\frac{\\sum(x_{i}-\\bar{x})^2}{n-1}}; & Örneklem \\:için(S)\\end{cases}$ "
   ]
  },
  {
   "cell_type": "markdown",
   "id": "587efefe",
   "metadata": {
    "papermill": {
     "duration": 0.051429,
     "end_time": "2023-12-31T11:49:58.732216",
     "exception": false,
     "start_time": "2023-12-31T11:49:58.680787",
     "status": "completed"
    },
    "tags": []
   },
   "source": [
    "<a id =\"1.6\"></a>\n",
    "## Varyans"
   ]
  },
  {
   "cell_type": "markdown",
   "id": "479012b9",
   "metadata": {
    "papermill": {
     "duration": 0.05246,
     "end_time": "2023-12-31T11:49:58.836926",
     "exception": false,
     "start_time": "2023-12-31T11:49:58.784466",
     "status": "completed"
    },
    "tags": []
   },
   "source": [
    "<span style=\"font-size: 15px; color: black; background-color: transparent;line-height: 1;\">Varyans, bir veri kümesindeki veri noktalarının ortalama değer etrafında nasıl yayıldığını ölçen istatistiksel bir terimdir. Her veri noktası ile ortalama arasındaki farkların karesini alarak hesaplanır ve bu karelerin ortalaması alınır. Varyans, verideki değişkenliğin derecesini temsil eder. Diğer yandan standart sapma, varyansın kareköküdür ve aynı değişkenliği ölçer, ancak verinin orijinal birimlerinde ifade eder. Varyans, aslında standart sapmanın karesi olup veri noktalarının ortalama değerden ne kadar sapma gösterdiğini anlamamıza yardımcı olur. Hem varyans hem de standart sapma, veri değişkenliğini değerlendirmek için kullanılan temel istatistik araçlarıdır ve istatistiksel analizlerde yaygın bir şekilde kullanılırlar.</span>\n",
    "\n",
    "##### Formül:\n",
    "\n",
    "### $Varyans=\\begin{cases}\\frac{\\sum(x_{i}-\\mu)^2}{N} ;& Anakütle \\:için(\\sigma^2)\\\\\\frac{\\sum(x_{i}-\\bar{x})^2}{n-1}; & Örneklem \\:için(S^2)\\end{cases}$"
   ]
  },
  {
   "cell_type": "markdown",
   "id": "e4a65e4a",
   "metadata": {
    "papermill": {
     "duration": 0.053142,
     "end_time": "2023-12-31T11:49:58.943143",
     "exception": false,
     "start_time": "2023-12-31T11:49:58.890001",
     "status": "completed"
    },
    "tags": []
   },
   "source": [
    "<a id =\"1.7\"></a>\n",
    "## Kovaryans"
   ]
  },
  {
   "cell_type": "markdown",
   "id": "526801e6",
   "metadata": {
    "papermill": {
     "duration": 0.051137,
     "end_time": "2023-12-31T11:49:59.046380",
     "exception": false,
     "start_time": "2023-12-31T11:49:58.995243",
     "status": "completed"
    },
    "tags": []
   },
   "source": [
    "<span style=\"font-size: 15px; color:black; background-color: transparent;line-height: 1;\">Kovaryans, iki farklı değişken arasındaki ilişkiyi ölçmek için kullanılan bir istatistiksel terimdir. Bu iki değişkenin birlikte nasıl değiştiğini belirler. Pozitif bir kovaryans, bir değişkenin artışının diğerini de artırdığını gösterirken, negatif bir kovaryans, bir değişken artarken diğerinin azaldığını gösterir. Ancak kovaryansın büyüklüğü, bu değişkenler arasındaki ilişkinin ne kadar güçlü olduğunu belirler. Kovaryans, istatistiksel analizlerde iki değişken arasındaki ilişkiyi anlamak ve ölçmek için kullanılır, ancak bu değer değişkenlerin ölçüm birimlerine bağlı olarak farklılık gösterebilir, bu nedenle bazen standartlaştırılmış kovaryans veya korelasyon katsayısı (Pearson korelasyonu gibi) bu farklılıkları hesaba katarak kullanılır.\n",
    "</span>\n",
    "\n",
    "##### Formül:\n",
    "\n",
    "### $Cov(X,Y)=\\begin{cases}\\frac{\\sum((X_{i}-\\mu_{x})(Y_{i}-\\mu_{y}))}{N}\\:\\:\\:; & Anakütle \\:için\\\\\\frac{\\sum((X_{i}-\\overline{x})(Y_{i}-\\overline{y}))}{n-1}\\:\\:\\:; & Örneklem \\:için\\end{cases}$\n",
    "\n",
    "\n",
    "\n",
    "\n",
    "\n"
   ]
  },
  {
   "cell_type": "markdown",
   "id": "7511226d",
   "metadata": {
    "papermill": {
     "duration": 0.051686,
     "end_time": "2023-12-31T11:49:59.149542",
     "exception": false,
     "start_time": "2023-12-31T11:49:59.097856",
     "status": "completed"
    },
    "tags": []
   },
   "source": [
    "##### Kovaryans ve korelasyon, iki değişken arasındaki ilişkiyi ölçmek için kullanılan iki farklı istatistiksel terimdir, ancak aralarında önemli farklar bulunur:\n",
    "\n",
    "##### **Kovaryans**:\n",
    "\n",
    "* Kovaryans, iki değişkenin birlikte nasıl değiştiğini ölçer.\n",
    "* Kovaryans pozitif veya negatif olabilir. Pozitif bir kovaryans, iki değişkenin birlikte arttığını gösterirken, negatif bir kovaryans, bir değişken artarken diğerinin azaldığını gösterir.\n",
    "* Kovaryansın büyüklüğü, ilişkinin ne kadar güçlü olduğunu belirler.\n",
    "* Kovaryans, değişkenlerin ölçüm birimlerine bağlıdır ve farklı birimlerle çalışırken karşılaştırmak zor olabilir.\n",
    "\n",
    "##### **Korelasyon**:\n",
    "\n",
    "* Korelasyon, iki değişken arasındaki ilişkinin yönünü (pozitif veya negatif) ve gücünü ölçer.\n",
    "* Korelasyon -1 ile 1 arasında değer alır. 1, mükemmel pozitif korelasyonu temsil ederken, -1 mükemmel negatif korelasyonu ifade eder ve 0, iki değişken arasında herhangi bir ilişki olmadığını gösterir.\n",
    "* Korelasyon, değişkenlerin ölçüm birimlerinden bağımsızdır ve farklı birimlerle çalışırken karşılaştırmak daha kolaydır.\n",
    "* Korelasyon, değişkenler arasındaki ilişkiyi daha net, standartlaştırılmış ve genellikle daha anlaşılır bir ölçüyle ifade eder.\n",
    "\n",
    "##### Özetle, kovaryans ve korelasyon her ikisi de iki değişken arasındaki ilişkiyi ölçmek için kullanılır, ancak korelasyon daha spesifik, standartlaştırılmış ve yorumlaması daha kolay bir ölçüdür."
   ]
  },
  {
   "cell_type": "markdown",
   "id": "f7f06745",
   "metadata": {
    "papermill": {
     "duration": 0.052379,
     "end_time": "2023-12-31T11:49:59.255712",
     "exception": false,
     "start_time": "2023-12-31T11:49:59.203333",
     "status": "completed"
    },
    "tags": []
   },
   "source": [
    "<a id =\"1.8\"></a>\n",
    "## Korelasyon"
   ]
  },
  {
   "cell_type": "markdown",
   "id": "7819b6c1",
   "metadata": {
    "papermill": {
     "duration": 0.051247,
     "end_time": "2023-12-31T11:49:59.359206",
     "exception": false,
     "start_time": "2023-12-31T11:49:59.307959",
     "status": "completed"
    },
    "tags": []
   },
   "source": [
    "<span style=\"font-size: 15px; color: black; background-color: transparent;line-height: 1;\">Korelasyon, iki değişken arasındaki ilişkiyi ölçen bir istatistik kavramıdır. İki değişken arasındaki ilişkiyi anlamamıza yardımcı olur ve bu değişkenlerin birlikte nasıl değiştiğini inceleyerek birbirlerini nasıl etkilediğini anlamamıza yardımcı olur. Korelasyon katsayısı -1 ile 1 arasında bir değer alır. Pozitif bir korelasyon, iki değişken arasında pozitif bir ilişki olduğunu gösterirken, negatif bir korelasyon negatif bir ilişkiyi ifade eder. Korelasyon analizi, veri arasındaki ilişkiyi anlamak, tahminlerde bulunmak ve karar verme süreçlerine katkıda bulunmak için yaygın olarak kullanılır.</span>\n",
    "\n",
    "#### Formül: \n",
    "\n",
    "#### ${\\displaystyle r_{xy}=\\frac{\\sum_{}x_i y_i-n \\mathbf{x̅} \\mathbf{y̅}}{\\sqrt{{\\sum_{}x_i}^2-{n}{\\mathbf{x̅}}^2} \\sqrt{{\\sum_{}y_i}^2-{n}{\\mathbf{y̅}}^2}}}$"
   ]
  },
  {
   "cell_type": "code",
   "execution_count": 2,
   "id": "262232a5",
   "metadata": {
    "execution": {
     "iopub.execute_input": "2023-12-31T11:49:59.465443Z",
     "iopub.status.busy": "2023-12-31T11:49:59.464921Z",
     "iopub.status.idle": "2023-12-31T11:49:59.470197Z",
     "shell.execute_reply": "2023-12-31T11:49:59.469063Z"
    },
    "papermill": {
     "duration": 0.061513,
     "end_time": "2023-12-31T11:49:59.472657",
     "exception": false,
     "start_time": "2023-12-31T11:49:59.411144",
     "status": "completed"
    },
    "tags": []
   },
   "outputs": [],
   "source": [
    "x=[7,2,2,3,9,15]\n",
    "y=[8,9,12,4,7,16]"
   ]
  },
  {
   "cell_type": "code",
   "execution_count": 3,
   "id": "16208a2e",
   "metadata": {
    "execution": {
     "iopub.execute_input": "2023-12-31T11:49:59.579706Z",
     "iopub.status.busy": "2023-12-31T11:49:59.579301Z",
     "iopub.status.idle": "2023-12-31T11:49:59.594627Z",
     "shell.execute_reply": "2023-12-31T11:49:59.593576Z"
    },
    "papermill": {
     "duration": 0.071896,
     "end_time": "2023-12-31T11:49:59.596798",
     "exception": false,
     "start_time": "2023-12-31T11:49:59.524902",
     "status": "completed"
    },
    "tags": []
   },
   "outputs": [
    {
     "data": {
      "text/plain": [
       "0.5446773202462236"
      ]
     },
     "execution_count": 3,
     "metadata": {},
     "output_type": "execute_result"
    }
   ],
   "source": [
    "# formül ile hesaplama\n",
    "rxy=np.divide(np.subtract(np.dot(x,y),np.multiply(np.mean(x),np.mean(y))*len(x)),np.multiply(np.sqrt(np.subtract(np.sum(np.power(x,2)),np.power(np.mean(x),2)*len(x))),np.sqrt(np.subtract(np.sum(np.power(y,2)),np.power(np.mean(y),2)*len(x)))))\n",
    "rxy"
   ]
  },
  {
   "cell_type": "code",
   "execution_count": 4,
   "id": "700fb773",
   "metadata": {
    "execution": {
     "iopub.execute_input": "2023-12-31T11:49:59.704101Z",
     "iopub.status.busy": "2023-12-31T11:49:59.703699Z",
     "iopub.status.idle": "2023-12-31T11:49:59.716275Z",
     "shell.execute_reply": "2023-12-31T11:49:59.715120Z"
    },
    "papermill": {
     "duration": 0.069634,
     "end_time": "2023-12-31T11:49:59.718620",
     "exception": false,
     "start_time": "2023-12-31T11:49:59.648986",
     "status": "completed"
    },
    "tags": []
   },
   "outputs": [
    {
     "data": {
      "text/plain": [
       "array([[1.        , 0.54467732],\n",
       "       [0.54467732, 1.        ]])"
      ]
     },
     "execution_count": 4,
     "metadata": {},
     "output_type": "execute_result"
    }
   ],
   "source": [
    "# numpy ile hesaplama\n",
    "np.corrcoef(x,y)"
   ]
  },
  {
   "cell_type": "markdown",
   "id": "94dd86e2",
   "metadata": {
    "papermill": {
     "duration": 0.052073,
     "end_time": "2023-12-31T11:49:59.822929",
     "exception": false,
     "start_time": "2023-12-31T11:49:59.770856",
     "status": "completed"
    },
    "tags": []
   },
   "source": [
    "Görüldüğü gibi, bu durumda X ve Y arasında pozitif bir orta düzey korelasyon bulunmaktadır. NumPy kullanılarak hesaplandığında, X ve Y nin kendileri ile olan korelasyonları 1 iken, aralarındaki korelasyon 0.54 olarak hesaplanıyor."
   ]
  },
  {
   "cell_type": "markdown",
   "id": "d19abc5b",
   "metadata": {
    "papermill": {
     "duration": 0.051654,
     "end_time": "2023-12-31T11:49:59.926502",
     "exception": false,
     "start_time": "2023-12-31T11:49:59.874848",
     "status": "completed"
    },
    "tags": []
   },
   "source": [
    "<a id =\"2\"></a>\n",
    "<div style=\"background-color: #D3D3D3; font-family: newtimeroman; font-size: 120%; color: black; text-align: center; border-radius: 80px; padding: 7px; border: solid 5px #4F4F4F;\">\n",
    "    <h1 id=\"0.04\">Örnek Teorisi</h1>\n",
    "</div>"
   ]
  },
  {
   "cell_type": "markdown",
   "id": "159d1882",
   "metadata": {
    "papermill": {
     "duration": 0.052053,
     "end_time": "2023-12-31T11:50:00.030849",
     "exception": false,
     "start_time": "2023-12-31T11:49:59.978796",
     "status": "completed"
    },
    "tags": []
   },
   "source": [
    "<span style=\"font-size: 15px; color: black; background-color: transparent;line-height: 1;\">Örneklem teorisi, büyük bir veri kümesini (popülasyon) daha küçük ve yönetilebilir bir alt küme (örneklem) ile temsil etmeyi sağlayan önemli bir istatistik kavramıdır. Örneklem genellikle rastgele seçilir ve rastgelelik ilkesine dayanır. Amaç, örneklerin popülasyonu doğru bir şekilde temsil etmesidir, bu da veri analizini ve istatistiksel sonuçların çıkarılmasını daha kolay ve güvenilir hale getirir. Örneklem teorisi, istatistiksel analizin temelini oluşturur, anketler, deneyler ve veri analizi gibi süreçlerde kullanılır ve bilimsel dünyada hipotez testi gibi işlemlerde önemli bir rol oynar.</span>"
   ]
  },
  {
   "cell_type": "markdown",
   "id": "b55ec80e",
   "metadata": {
    "papermill": {
     "duration": 0.052768,
     "end_time": "2023-12-31T11:50:00.137588",
     "exception": false,
     "start_time": "2023-12-31T11:50:00.084820",
     "status": "completed"
    },
    "tags": []
   },
   "source": [
    "Hadi bir örnek popülasyonu düşünelim: 10,000 kişilik bir popülasyonumuz olduğunu varsayalım ve yaş ortalamaları 0 ile 100 arasında değişiyor."
   ]
  },
  {
   "cell_type": "code",
   "execution_count": 5,
   "id": "613f3b63",
   "metadata": {
    "execution": {
     "iopub.execute_input": "2023-12-31T11:50:00.268606Z",
     "iopub.status.busy": "2023-12-31T11:50:00.267981Z",
     "iopub.status.idle": "2023-12-31T11:50:00.275840Z",
     "shell.execute_reply": "2023-12-31T11:50:00.274537Z"
    },
    "papermill": {
     "duration": 0.082226,
     "end_time": "2023-12-31T11:50:00.278593",
     "exception": false,
     "start_time": "2023-12-31T11:50:00.196367",
     "status": "completed"
    },
    "tags": []
   },
   "outputs": [],
   "source": [
    "import numpy as np \n",
    "population = np.random.randint(0,100,10000)"
   ]
  },
  {
   "cell_type": "markdown",
   "id": "bef7d809",
   "metadata": {
    "papermill": {
     "duration": 0.051677,
     "end_time": "2023-12-31T11:50:00.384870",
     "exception": false,
     "start_time": "2023-12-31T11:50:00.333193",
     "status": "completed"
    },
    "tags": []
   },
   "source": [
    "Bu popülasyonun bir örneğini aldığımızda, popülasyon ve örneklerin ortalamaları birbirine ne kadar yakınsa, örnek o kadar iyi bir şekilde popülasyonu temsil eder."
   ]
  },
  {
   "cell_type": "code",
   "execution_count": 6,
   "id": "f52ecc16",
   "metadata": {
    "execution": {
     "iopub.execute_input": "2023-12-31T11:50:00.492036Z",
     "iopub.status.busy": "2023-12-31T11:50:00.491231Z",
     "iopub.status.idle": "2023-12-31T11:50:00.499037Z",
     "shell.execute_reply": "2023-12-31T11:50:00.498076Z"
    },
    "papermill": {
     "duration": 0.064138,
     "end_time": "2023-12-31T11:50:00.501300",
     "exception": false,
     "start_time": "2023-12-31T11:50:00.437162",
     "status": "completed"
    },
    "tags": []
   },
   "outputs": [
    {
     "data": {
      "text/plain": [
       "100"
      ]
     },
     "execution_count": 6,
     "metadata": {},
     "output_type": "execute_result"
    }
   ],
   "source": [
    "np.random.seed(40)\n",
    "sample=np.random.choice(a=population,size=100)\n",
    "sample.size"
   ]
  },
  {
   "cell_type": "code",
   "execution_count": 7,
   "id": "93294a46",
   "metadata": {
    "execution": {
     "iopub.execute_input": "2023-12-31T11:50:00.611868Z",
     "iopub.status.busy": "2023-12-31T11:50:00.610984Z",
     "iopub.status.idle": "2023-12-31T11:50:00.617968Z",
     "shell.execute_reply": "2023-12-31T11:50:00.616759Z"
    },
    "papermill": {
     "duration": 0.063917,
     "end_time": "2023-12-31T11:50:00.620267",
     "exception": false,
     "start_time": "2023-12-31T11:50:00.556350",
     "status": "completed"
    },
    "tags": []
   },
   "outputs": [
    {
     "name": "stdout",
     "output_type": "stream",
     "text": [
      "Sample mean:  51.67\n",
      "Population mean:  49.489\n"
     ]
    }
   ],
   "source": [
    "print(\"Sample mean: \",sample.mean())\n",
    "print(\"Population mean: \",population.mean())"
   ]
  },
  {
   "cell_type": "markdown",
   "id": "792b5b4c",
   "metadata": {
    "papermill": {
     "duration": 0.052909,
     "end_time": "2023-12-31T11:50:00.726048",
     "exception": false,
     "start_time": "2023-12-31T11:50:00.673139",
     "status": "completed"
    },
    "tags": []
   },
   "source": [
    "Örnek sayısı arttıkça ve bu örneklerin ortalamalarını aldıkça, popülasyon ortalamasına daha da yaklaşacaktır."
   ]
  },
  {
   "cell_type": "code",
   "execution_count": 8,
   "id": "67725a22",
   "metadata": {
    "execution": {
     "iopub.execute_input": "2023-12-31T11:50:00.834477Z",
     "iopub.status.busy": "2023-12-31T11:50:00.833736Z",
     "iopub.status.idle": "2023-12-31T11:50:00.842234Z",
     "shell.execute_reply": "2023-12-31T11:50:00.841099Z"
    },
    "papermill": {
     "duration": 0.06613,
     "end_time": "2023-12-31T11:50:00.844788",
     "exception": false,
     "start_time": "2023-12-31T11:50:00.778658",
     "status": "completed"
    },
    "tags": []
   },
   "outputs": [
    {
     "name": "stdout",
     "output_type": "stream",
     "text": [
      "Multisample mean:  50.07133333333332\n",
      "Population mean:  49.489\n"
     ]
    }
   ],
   "source": [
    "total=[]\n",
    "number_of_samples=30\n",
    "for i in range(number_of_samples):\n",
    "    total.append(np.random.choice(a=population,size=100).mean())\n",
    "multisample_mean=sum(total)/number_of_samples\n",
    "print(\"Multisample mean: \",multisample_mean)\n",
    "print(\"Population mean: \",population.mean())"
   ]
  },
  {
   "cell_type": "markdown",
   "id": "40d74958",
   "metadata": {
    "papermill": {
     "duration": 0.052585,
     "end_time": "2023-12-31T11:50:00.950071",
     "exception": false,
     "start_time": "2023-12-31T11:50:00.897486",
     "status": "completed"
    },
    "tags": []
   },
   "source": [
    "<a id =\"3\"></a>\n",
    "<div style=\"background-color: #D3D3D3; font-family: newtimeroman; font-size: 120%; color: black; text-align: center; border-radius: 80px; padding: 7px; border: solid 5px #4F4F4F;\">\n",
    "    <h1 id=\"0.05\">Kesikli Dağılım</h1>\n",
    "</div>\n"
   ]
  },
  {
   "cell_type": "markdown",
   "id": "047d037c",
   "metadata": {
    "execution": {
     "iopub.execute_input": "2023-10-23T17:29:22.281841Z",
     "iopub.status.busy": "2023-10-23T17:29:22.281439Z",
     "iopub.status.idle": "2023-10-23T17:29:22.291147Z",
     "shell.execute_reply": "2023-10-23T17:29:22.288941Z",
     "shell.execute_reply.started": "2023-10-23T17:29:22.281809Z"
    },
    "papermill": {
     "duration": 0.052402,
     "end_time": "2023-12-31T11:50:01.055052",
     "exception": false,
     "start_time": "2023-12-31T11:50:01.002650",
     "status": "completed"
    },
    "tags": []
   },
   "source": [
    "<span style=\"font-size: 15px; color: black; background-color: transparent;line-height: 1;\">Kesikli dağılım, rasgele olayların sonuçlarının kesirli veya tam sayılar olarak ifade edildiği istatistiksel bir dağılım türüdür. Bu dağılımlar, belirli olayların meydana gelme olasılıklarını modellemek için kullanılır ve genellikle kesirli veya tam sayı değerlerini temsil ederler. Örneğin, bir zarın atılmasının sonuçları, sadece 1, 2, 3, 4, 5 veya 6 gibi tam sayı sonuçlar mümkün olduğu için bir kesikli dağılıma sahiptir. Kesikli dağılımlar, sayısal sonuçların rasgele olaylarla ilişkilendirildiği durumlarda özellikle önemlidir ve istatistiksel analizde geniş bir şekilde kullanılır.</span>"
   ]
  },
  {
   "cell_type": "markdown",
   "id": "3da81e1c",
   "metadata": {
    "papermill": {
     "duration": 0.053082,
     "end_time": "2023-12-31T11:50:01.160871",
     "exception": false,
     "start_time": "2023-12-31T11:50:01.107789",
     "status": "completed"
    },
    "tags": []
   },
   "source": [
    "<a id =\"3.1\"></a>\n",
    "## Bernoulli"
   ]
  },
  {
   "cell_type": "markdown",
   "id": "cf3b0fa8",
   "metadata": {
    "papermill": {
     "duration": 0.053364,
     "end_time": "2023-12-31T11:50:01.268792",
     "exception": false,
     "start_time": "2023-12-31T11:50:01.215428",
     "status": "completed"
    },
    "tags": []
   },
   "source": [
    "<span style=\"font-size: 15px; color: black; background-color: transparent;line-height: 1;\">Bernoulli dağılımı, iki olası sonuca sahip basit bir olasılık dağılımıdır: başarı ve başarısızlık. Örneğin, bir madeni para atışında, \"yazı\" veya \"tura\" sonuçları, Bernoulli denemesinin temel bir örneğidir. Bu dağılım, sadece bir parametre olan \"p\" ile tanımlanır ve bu parametre başarılı bir sonucun olasılığını temsil eder. Örneğin, bir madeni para atışında \"yazı\" sonucunun olasılığı \"p\" ise, \"tura\" sonucunun olasılığı (1 - p) olacaktır. Bernoulli dağılımı, basit ikili olayları modellemek için kullanılır, örneğin bir müşterinin reklama tıklama olasılığı (başarı) veya tıklamama olasılığı (başarısızlık), bir ürünün kusurlu olma olasılığı (başarı) veya olmama olasılığı (başarısızlık), veya bir hastanın tedaviye yanıt verme olasılığı (başarı) veya yanıt vermeme olasılığı (başarısızlık). Ayrıca, bağımsız Bernoulli denemelerinin sabit sayıda başarılı sonuçlarını ele alan Binom dağılımının temelini oluşturur.</span>"
   ]
  },
  {
   "cell_type": "markdown",
   "id": "f788ecd1",
   "metadata": {
    "papermill": {
     "duration": 0.070593,
     "end_time": "2023-12-31T11:50:01.394458",
     "exception": false,
     "start_time": "2023-12-31T11:50:01.323865",
     "status": "completed"
    },
    "tags": []
   },
   "source": [
    "### $ {\\displaystyle f(x;p)=p^{x}{(1-p)}^{1-x}{\\text , }\\quad {\\text{for }} x\\in \\{0,1\\}}$\n",
    "\n",
    "### ${\\displaystyle \\operatorname {E}\\left(X\\right)=p}$\n",
    "\n",
    "### $\\operatorname {Var} [X]=pq=p(1-p)$"
   ]
  },
  {
   "cell_type": "code",
   "execution_count": 9,
   "id": "466bff22",
   "metadata": {
    "execution": {
     "iopub.execute_input": "2023-12-31T11:50:01.503458Z",
     "iopub.status.busy": "2023-12-31T11:50:01.502690Z",
     "iopub.status.idle": "2023-12-31T11:50:01.507052Z",
     "shell.execute_reply": "2023-12-31T11:50:01.506267Z"
    },
    "papermill": {
     "duration": 0.061472,
     "end_time": "2023-12-31T11:50:01.509314",
     "exception": false,
     "start_time": "2023-12-31T11:50:01.447842",
     "status": "completed"
    },
    "tags": []
   },
   "outputs": [],
   "source": [
    "from scipy.stats import bernoulli"
   ]
  },
  {
   "cell_type": "markdown",
   "id": "29a0414f",
   "metadata": {
    "execution": {
     "iopub.execute_input": "2023-10-23T17:38:52.407092Z",
     "iopub.status.busy": "2023-10-23T17:38:52.406734Z",
     "iopub.status.idle": "2023-10-23T17:38:52.414796Z",
     "shell.execute_reply": "2023-10-23T17:38:52.412871Z",
     "shell.execute_reply.started": "2023-10-23T17:38:52.407066Z"
    },
    "papermill": {
     "duration": 0.052383,
     "end_time": "2023-12-31T11:50:01.615120",
     "exception": false,
     "start_time": "2023-12-31T11:50:01.562737",
     "status": "completed"
    },
    "tags": []
   },
   "source": [
    "Hadi yazı veya tura elde etme olasılıklarını hesaplayalım. Diyelim ki yazı elde etme olasılığını bildiğimizi varsayalım ve bu olasılığın %60 olduğunu biliyoruz."
   ]
  },
  {
   "cell_type": "code",
   "execution_count": 10,
   "id": "3c231a12",
   "metadata": {
    "execution": {
     "iopub.execute_input": "2023-12-31T11:50:01.723183Z",
     "iopub.status.busy": "2023-12-31T11:50:01.722436Z",
     "iopub.status.idle": "2023-12-31T11:50:01.730873Z",
     "shell.execute_reply": "2023-12-31T11:50:01.729855Z"
    },
    "papermill": {
     "duration": 0.065112,
     "end_time": "2023-12-31T11:50:01.733330",
     "exception": false,
     "start_time": "2023-12-31T11:50:01.668218",
     "status": "completed"
    },
    "tags": []
   },
   "outputs": [
    {
     "data": {
      "text/plain": [
       "0.4000000000000001"
      ]
     },
     "execution_count": 10,
     "metadata": {},
     "output_type": "execute_result"
    }
   ],
   "source": [
    "p=0.6 # yazı için\n",
    "rv = bernoulli(p)\n",
    "rv.pmf(k=0) "
   ]
  },
  {
   "cell_type": "markdown",
   "id": "3a8fece6",
   "metadata": {
    "execution": {
     "iopub.execute_input": "2023-10-23T17:45:00.891269Z",
     "iopub.status.busy": "2023-10-23T17:45:00.890888Z",
     "iopub.status.idle": "2023-10-23T17:45:00.898086Z",
     "shell.execute_reply": "2023-10-23T17:45:00.89673Z",
     "shell.execute_reply.started": "2023-10-23T17:45:00.891218Z"
    },
    "papermill": {
     "duration": 0.052338,
     "end_time": "2023-12-31T11:50:01.838499",
     "exception": false,
     "start_time": "2023-12-31T11:50:01.786161",
     "status": "completed"
    },
    "tags": []
   },
   "source": [
    "Bu durumda K, 0 olduğu durumlarda tura elde etme olasılığını temsil eder ve K, 1 olduğu durumlarda yazı elde etme olasılığını temsil eder."
   ]
  },
  {
   "cell_type": "markdown",
   "id": "8b7eabc5",
   "metadata": {
    "papermill": {
     "duration": 0.053647,
     "end_time": "2023-12-31T11:50:01.946242",
     "exception": false,
     "start_time": "2023-12-31T11:50:01.892595",
     "status": "completed"
    },
    "tags": []
   },
   "source": [
    "<a id =\"3.2\"></a>\n",
    "## Büyük Sayılar Yasası"
   ]
  },
  {
   "cell_type": "markdown",
   "id": "683888ea",
   "metadata": {
    "papermill": {
     "duration": 0.05271,
     "end_time": "2023-12-31T11:50:02.052141",
     "exception": false,
     "start_time": "2023-12-31T11:50:01.999431",
     "status": "completed"
    },
    "tags": []
   },
   "source": [
    "<span style=\"font-size: 15px; color: black; background-color: transparent;line-height: 1;\">Büyük Sayılar Yasası, istatistik ve olasılık teorisinde önemli bir prensiptir. Aşağıdaki gibi açıklanabilir: Büyük sayıda örnek veya denemeler kullanıldığında, rastgele olayların uzun vadeli istatistiksel sonuçları beklenen değerlere yaklaşma eğilimindedir. Başka bir deyişle, bir rastgele olayı tekrar tekrar gerçekleştirdiğinizde ve sonuçların ortalamasını hesapladığınızda, bu ortalama teorik olasılıklara giderek daha da yaklaşır. Büyük Sayılar Yasası, büyük sayıda örnek veya denemeyi içeren istatistiksel analizlerde temel bir rol oynar, rastgele olayların davranışını daha tahmin edilebilir hale getirir ve güvenilir sonuçlar elde etmeye yardımcı olur. Bernoulli dağılımına benzer, ancak birden fazla deneme veya örneği içerir.</span>"
   ]
  },
  {
   "cell_type": "code",
   "execution_count": 11,
   "id": "216b50ee",
   "metadata": {
    "execution": {
     "iopub.execute_input": "2023-12-31T11:50:02.162490Z",
     "iopub.status.busy": "2023-12-31T11:50:02.161650Z",
     "iopub.status.idle": "2023-12-31T11:50:02.183024Z",
     "shell.execute_reply": "2023-12-31T11:50:02.181469Z"
    },
    "papermill": {
     "duration": 0.08077,
     "end_time": "2023-12-31T11:50:02.185812",
     "exception": false,
     "start_time": "2023-12-31T11:50:02.105042",
     "status": "completed"
    },
    "tags": []
   },
   "outputs": [
    {
     "name": "stdout",
     "output_type": "stream",
     "text": [
      "Atış sayısı: 1 --- Yazı gelme olasılığı 0.0\n",
      "Atış sayısı: 2 --- Yazı gelme olasılığı 50.0\n",
      "Atış sayısı: 4 --- Yazı gelme olasılığı 25.0\n",
      "Atış sayısı: 8 --- Yazı gelme olasılığı 25.0\n",
      "Atış sayısı: 16 --- Yazı gelme olasılığı 75.0\n",
      "Atış sayısı: 32 --- Yazı gelme olasılığı 46.9\n",
      "Atış sayısı: 64 --- Yazı gelme olasılığı 67.2\n",
      "Atış sayısı: 128 --- Yazı gelme olasılığı 40.6\n",
      "Atış sayısı: 256 --- Yazı gelme olasılığı 52.3\n",
      "Atış sayısı: 512 --- Yazı gelme olasılığı 50.6\n",
      "Atış sayısı: 1024 --- Yazı gelme olasılığı 47.7\n",
      "Atış sayısı: 2048 --- Yazı gelme olasılığı 51.1\n",
      "Atış sayısı: 4096 --- Yazı gelme olasılığı 49.6\n",
      "Atış sayısı: 8192 --- Yazı gelme olasılığı 49.4\n",
      "Atış sayısı: 16384 --- Yazı gelme olasılığı 50.5\n",
      "Atış sayısı: 32768 --- Yazı gelme olasılığı 50.0\n",
      "Atış sayısı: 65536 --- Yazı gelme olasılığı 50.2\n",
      "Atış sayısı: 131072 --- Yazı gelme olasılığı 50.0\n",
      "Atış sayısı: 262144 --- Yazı gelme olasılığı 50.0\n",
      "Atış sayısı: 524288 --- Yazı gelme olasılığı 50.0\n"
     ]
    }
   ],
   "source": [
    "rnd=np.random.RandomState(42)\n",
    "for i in np.arange(0,20):\n",
    "    number_of_experiments=2**i\n",
    "    heads_tails=rnd.randint(0,2,size=number_of_experiments)\n",
    "    probability_of_tails=heads_tails.mean()\n",
    "    print(\"Atış sayısı: {} --- Yazı gelme olasılığı {:.1f}\".format(number_of_experiments,probability_of_tails*100))"
   ]
  },
  {
   "cell_type": "markdown",
   "id": "da8e23e9",
   "metadata": {
    "papermill": {
     "duration": 0.055403,
     "end_time": "2023-12-31T11:50:02.297802",
     "exception": false,
     "start_time": "2023-12-31T11:50:02.242399",
     "status": "completed"
    },
    "tags": []
   },
   "source": [
    "<a id =\"3.3\"></a>\n",
    "## Binom Dağılımı"
   ]
  },
  {
   "cell_type": "markdown",
   "id": "d71f677c",
   "metadata": {
    "papermill": {
     "duration": 0.053283,
     "end_time": "2023-12-31T11:50:02.404210",
     "exception": false,
     "start_time": "2023-12-31T11:50:02.350927",
     "status": "completed"
    },
    "tags": []
   },
   "source": [
    "<span style=\"font-size: 15px; color: black; background-color: transparent;line-height: 1;\">Binom dağılımı, istatistik ve olasılık teorisinde kullanılan bir olasılık dağılımıdır ve temel olarak üç ana parametre tarafından tanımlanır: toplam deneme sayısı için 'n', her denemede başarı olasılığı için 'p' ve başarılı deneme sayısı için 'k' (genellikle 'x' olarak gösterilir). Bu dağılım, bağımsız Bernoulli denemelerinin sonuçlarını modellemek için kullanılır ve özellikle belirli bir deneme sayısı içinde belirli bir başarılı deneme sayısının olasılığını hesaplamak için kullanılır. Çeşitli alanlarda yaygın olarak kullanılır, özellikle kalite kontrol, pazarlama stratejileri ve ilaç testi gibi başarı-başarısızlık olaylarının modellemesi ve analizi gereken senaryolarda.</span>"
   ]
  },
  {
   "cell_type": "markdown",
   "id": "d65c6d02",
   "metadata": {
    "papermill": {
     "duration": 0.052835,
     "end_time": "2023-12-31T11:50:02.509759",
     "exception": false,
     "start_time": "2023-12-31T11:50:02.456924",
     "status": "completed"
    },
    "tags": []
   },
   "source": [
    "### ${\\displaystyle f(x;n,p) =  \\begin{pmatrix}n \\\\ x  \\end{pmatrix} ~p^x~(1-p)^{n-x}, ~~~~~~~~~ x=0,1,2,...,n }$\n",
    "### ${\\displaystyle \\operatorname {E}\\left(X\\right)=np}$\n",
    "### $\\operatorname {Var} (X)=np(1-p)$"
   ]
  },
  {
   "cell_type": "markdown",
   "id": "2fe5ee0c",
   "metadata": {
    "papermill": {
     "duration": 0.052563,
     "end_time": "2023-12-31T11:50:02.614895",
     "exception": false,
     "start_time": "2023-12-31T11:50:02.562332",
     "status": "completed"
    },
    "tags": []
   },
   "source": [
    "#### **Problem**: Bir madeni para 4 kez atıldığında 2 kez yazı gelme olasılığı nedir?"
   ]
  },
  {
   "cell_type": "code",
   "execution_count": 12,
   "id": "41acf3bd",
   "metadata": {
    "execution": {
     "iopub.execute_input": "2023-12-31T11:50:02.723835Z",
     "iopub.status.busy": "2023-12-31T11:50:02.723407Z",
     "iopub.status.idle": "2023-12-31T11:50:02.732277Z",
     "shell.execute_reply": "2023-12-31T11:50:02.731090Z"
    },
    "papermill": {
     "duration": 0.065825,
     "end_time": "2023-12-31T11:50:02.734628",
     "exception": false,
     "start_time": "2023-12-31T11:50:02.668803",
     "status": "completed"
    },
    "tags": []
   },
   "outputs": [
    {
     "data": {
      "text/plain": [
       "0.375"
      ]
     },
     "execution_count": 12,
     "metadata": {},
     "output_type": "execute_result"
    }
   ],
   "source": [
    "fact = lambda x: np.math.factorial(x)\n",
    "\n",
    "# Förmül ile hesaplandığında;\n",
    "\n",
    "p=0.5 # Yazı ve tura gelme olasılıkları\n",
    "n=4 # Atış sayısı\n",
    "x=2 # Başarılı gelme sayısı\n",
    "\n",
    "result= fact(n) / (fact(n-x) * fact(x)) * p**x * (1-p)**(n-x)\n",
    "result"
   ]
  },
  {
   "cell_type": "code",
   "execution_count": 13,
   "id": "670c740e",
   "metadata": {
    "execution": {
     "iopub.execute_input": "2023-12-31T11:50:02.843571Z",
     "iopub.status.busy": "2023-12-31T11:50:02.843188Z",
     "iopub.status.idle": "2023-12-31T11:50:02.851302Z",
     "shell.execute_reply": "2023-12-31T11:50:02.850135Z"
    },
    "papermill": {
     "duration": 0.066043,
     "end_time": "2023-12-31T11:50:02.853581",
     "exception": false,
     "start_time": "2023-12-31T11:50:02.787538",
     "status": "completed"
    },
    "tags": []
   },
   "outputs": [
    {
     "data": {
      "text/plain": [
       "0.375"
      ]
     },
     "execution_count": 13,
     "metadata": {},
     "output_type": "execute_result"
    }
   ],
   "source": [
    "# scipy ile kullanımı\n",
    "from scipy.stats import binom\n",
    "binom.pmf(x,n,p)"
   ]
  },
  {
   "cell_type": "markdown",
   "id": "c3a124ba",
   "metadata": {
    "papermill": {
     "duration": 0.053971,
     "end_time": "2023-12-31T11:50:02.961743",
     "exception": false,
     "start_time": "2023-12-31T11:50:02.907772",
     "status": "completed"
    },
    "tags": []
   },
   "source": [
    "#### **Problem**: Bir internet reklamı, bir web sitesine yerleştirilecektir. Bu reklamın tıklanma olasılığının 0.01 olduğu göz önüne alındığında, bu reklamı gören 100 kişiden 1, 5 ve 10 kişinin tıklama olasılıkları nelerdir?"
   ]
  },
  {
   "cell_type": "code",
   "execution_count": 14,
   "id": "29db3682",
   "metadata": {
    "execution": {
     "iopub.execute_input": "2023-12-31T11:50:03.069984Z",
     "iopub.status.busy": "2023-12-31T11:50:03.069290Z",
     "iopub.status.idle": "2023-12-31T11:50:03.074539Z",
     "shell.execute_reply": "2023-12-31T11:50:03.073525Z"
    },
    "papermill": {
     "duration": 0.062132,
     "end_time": "2023-12-31T11:50:03.077002",
     "exception": false,
     "start_time": "2023-12-31T11:50:03.014870",
     "status": "completed"
    },
    "tags": []
   },
   "outputs": [],
   "source": [
    "n=100 # Reklamı gören kişi sayısı\n",
    "x=[1,5,10] # Başarılı tıklama sayısı\n",
    "p=0.01 # Reklama tıklama olasılığı"
   ]
  },
  {
   "cell_type": "code",
   "execution_count": 15,
   "id": "09d0de8e",
   "metadata": {
    "execution": {
     "iopub.execute_input": "2023-12-31T11:50:03.186478Z",
     "iopub.status.busy": "2023-12-31T11:50:03.186048Z",
     "iopub.status.idle": "2023-12-31T11:50:03.194249Z",
     "shell.execute_reply": "2023-12-31T11:50:03.192575Z"
    },
    "papermill": {
     "duration": 0.066693,
     "end_time": "2023-12-31T11:50:03.197184",
     "exception": false,
     "start_time": "2023-12-31T11:50:03.130491",
     "status": "completed"
    },
    "tags": []
   },
   "outputs": [
    {
     "name": "stdout",
     "output_type": "stream",
     "text": [
      "1 Kez reklama tıklama olasılığı:  0.36972963764972666\n",
      "5 Kez reklama tıklama olasılığı:  0.002897787123761478\n",
      "10 Kez reklama tıklama olasılığı:  7.006035693977194e-08\n"
     ]
    }
   ],
   "source": [
    "prob1,prob5,prob10 = binom.pmf(x,n,p)\n",
    "print(\"1 Kez reklama tıklama olasılığı: \",prob1)\n",
    "print(\"5 Kez reklama tıklama olasılığı: \",prob5)\n",
    "print(\"10 Kez reklama tıklama olasılığı: \",prob10)\n"
   ]
  },
  {
   "cell_type": "markdown",
   "id": "d31c1297",
   "metadata": {
    "papermill": {
     "duration": 0.053259,
     "end_time": "2023-12-31T11:50:03.304619",
     "exception": false,
     "start_time": "2023-12-31T11:50:03.251360",
     "status": "completed"
    },
    "tags": []
   },
   "source": [
    "<a id =\"3.4\"></a>\n",
    "## Poisson Dağılımı"
   ]
  },
  {
   "cell_type": "markdown",
   "id": "98e2da08",
   "metadata": {
    "papermill": {
     "duration": 0.05307,
     "end_time": "2023-12-31T11:50:03.411409",
     "exception": false,
     "start_time": "2023-12-31T11:50:03.358339",
     "status": "completed"
    },
    "tags": []
   },
   "source": [
    "<span style=\"font-size: 15px; color: black; background-color: transparent;line-height: 1;\">Poisson dağılımı, belirli bir zaman aralığında veya alanda nadir olayların gerçekleşme olasılığını modellemek için kullanılan bir olasılık dağılımıdır. Bu dağılım, olayların birbirinden bağımsız olduğu ve herhangi bir verilen zaman aralığında olayların meydana gelme olasılığının sabit olduğu varsayımına dayanmaktadır. Poisson dağılımı, özellikle olayların ortalama hızı (λ) gibi belirli anahtar parametrelerle karakterize edilir. Bu dağılım, belirli bir zaman diliminde veya belirli bir alanda kaç olayın meydana geleceği konusundaki soruları yanıtlamak için yaygın olarak kullanılır. Örneğin, bir web sitesini bir saat içinde ziyaret eden kullanıcı sayısı veya belirli bir zaman diliminde alınan telefon çağrıları gibi nadir olayları modellemek için geniş bir şekilde uygulanır.</span>"
   ]
  },
  {
   "cell_type": "markdown",
   "id": "083cf278",
   "metadata": {
    "papermill": {
     "duration": 0.053531,
     "end_time": "2023-12-31T11:50:03.519411",
     "exception": false,
     "start_time": "2023-12-31T11:50:03.465880",
     "status": "completed"
    },
    "tags": []
   },
   "source": [
    "### ${\\displaystyle f(x, λ) =\\frac{ λ^x e^{- λ}}{x!}, ~~~~~~~~~ x=0,1,2,...,n }$\n",
    "### ${\\displaystyle \\operatorname {E}\\left(X\\right)=  λ}$\n",
    "### $\\operatorname {Var} (X)= λ$"
   ]
  },
  {
   "cell_type": "markdown",
   "id": "6dbac5c8",
   "metadata": {
    "papermill": {
     "duration": 0.054016,
     "end_time": "2023-12-31T11:50:03.631121",
     "exception": false,
     "start_time": "2023-12-31T11:50:03.577105",
     "status": "completed"
    },
    "tags": []
   },
   "source": [
    "**Bilgi**\n",
    "\n",
    "* Lambda beklenen sonuçların ortalama sayısıdır. Varyans ve ortalama ile aynıdır.\n",
    "* 'x' ifadesi ilgilendiğimiz olayın meydana gelme sayısını temsil eder.\n",
    "\n",
    "**Kurallar**\n",
    "\n",
    "* Bir olayın nadir olduğundan emin olmak için n, p'den büyük olmalıdır (n gözlemlerin sayısını temsil ederken, p olasılığı temsil eder).\n",
    "* Genel olarak, n 50'den büyük olmalı ve λ (λ = n * p) 5'ten küçük olmalıdır.\n",
    "* Rastgele denemeler iki olası sonuç içermelidir.\n",
    "* Aynı koşullar altında meydana gelmelidirler.\n",
    "* Rastgele denemeler birbirinden bağımsız olmalıdır."
   ]
  },
  {
   "cell_type": "markdown",
   "id": "e0d83da6",
   "metadata": {
    "papermill": {
     "duration": 0.055089,
     "end_time": "2023-12-31T11:50:03.740349",
     "exception": false,
     "start_time": "2023-12-31T11:50:03.685260",
     "status": "completed"
    },
    "tags": []
   },
   "source": [
    "#### **Problem**: Bir üniversitede 1000 not girişinden 2 notun yanlış girilme olasılığı nedir? Dağılımın λ (lambda) değeri 0.2 olarak bilinmektedir."
   ]
  },
  {
   "cell_type": "code",
   "execution_count": 16,
   "id": "905b3418",
   "metadata": {
    "execution": {
     "iopub.execute_input": "2023-12-31T11:50:03.850866Z",
     "iopub.status.busy": "2023-12-31T11:50:03.850438Z",
     "iopub.status.idle": "2023-12-31T11:50:03.856074Z",
     "shell.execute_reply": "2023-12-31T11:50:03.854880Z"
    },
    "papermill": {
     "duration": 0.063836,
     "end_time": "2023-12-31T11:50:03.858543",
     "exception": false,
     "start_time": "2023-12-31T11:50:03.794707",
     "status": "completed"
    },
    "tags": []
   },
   "outputs": [],
   "source": [
    "lamda=0.2\n",
    "x=2"
   ]
  },
  {
   "cell_type": "code",
   "execution_count": 17,
   "id": "970c692d",
   "metadata": {
    "execution": {
     "iopub.execute_input": "2023-12-31T11:50:03.967437Z",
     "iopub.status.busy": "2023-12-31T11:50:03.967014Z",
     "iopub.status.idle": "2023-12-31T11:50:03.975527Z",
     "shell.execute_reply": "2023-12-31T11:50:03.974217Z"
    },
    "papermill": {
     "duration": 0.066183,
     "end_time": "2023-12-31T11:50:03.978154",
     "exception": false,
     "start_time": "2023-12-31T11:50:03.911971",
     "status": "completed"
    },
    "tags": []
   },
   "outputs": [
    {
     "data": {
      "text/plain": [
       "0.016374615061559638"
      ]
     },
     "execution_count": 17,
     "metadata": {},
     "output_type": "execute_result"
    }
   ],
   "source": [
    "fact = lambda x: np.math.factorial(x)\n",
    "\n",
    "result= lamda**x * np.exp(-lamda) / fact(x)\n",
    "result"
   ]
  },
  {
   "cell_type": "markdown",
   "id": "62378c83",
   "metadata": {
    "papermill": {
     "duration": 0.053541,
     "end_time": "2023-12-31T11:50:04.085563",
     "exception": false,
     "start_time": "2023-12-31T11:50:04.032022",
     "status": "completed"
    },
    "tags": []
   },
   "source": [
    "#### 1000 not girişinden 2 notun yanlış girilme olasılığı yaklaşık olarak %1.5 olarak gerçekleşebilir."
   ]
  },
  {
   "cell_type": "markdown",
   "id": "f3451b5c",
   "metadata": {
    "papermill": {
     "duration": 0.054281,
     "end_time": "2023-12-31T11:50:04.193591",
     "exception": false,
     "start_time": "2023-12-31T11:50:04.139310",
     "status": "completed"
    },
    "tags": []
   },
   "source": [
    "<a id =\"4\"></a>\n",
    "<div style=\"background-color: #D3D3D3; font-family: newtimeroman; font-size: 120%; color: black; text-align: center; border-radius: 80px; padding: 7px; border: solid 5px #4F4F4F;\">\n",
    "    <h1 id=\"0.06\">Sürekli Dağılım</h1>\n",
    "</div>"
   ]
  },
  {
   "cell_type": "markdown",
   "id": "8319b086",
   "metadata": {
    "papermill": {
     "duration": 0.053376,
     "end_time": "2023-12-31T11:50:04.300855",
     "exception": false,
     "start_time": "2023-12-31T11:50:04.247479",
     "status": "completed"
    },
    "tags": []
   },
   "source": [
    "<span style=\"font-size: 15px; color: black; background-color: transparent;line-height: 1;\">Sürekli bir dağılım, bir rasgele değişkenin herhangi bir değeri alabileceği bir olasılık dağılımı türüdür. Bu dağılımlar, kesirli değerlere sınırlı değildir, herhangi bir aralıktaki herhangi bir değeri alabilirler. Sürekli dağılımlar ölçüm verilerini veya sürekli değişkenleri modellemek için kullanılır. Örnekler arasında normal dağılım, uniform dağılım ve üstel dağılım yer alır. Bu dağılımların olasılık yoğunluk fonksiyonları belirli bir aralık içindeki olasılıkları tanımlar ve bu dağılımların altındaki alanlar çeşitli olasılık hesaplamaları için kullanılır. Sürekli dağılımlar, istatistik, mühendislik, doğa bilimleri ve birçok başka alanda önemli bir rol oynar.</span>\n",
    "\n",
    "<div class=\"alert alert-block alert-info\">\n",
    "Sürekli dağılımlarda en yaygın kullanılanı normal dağılımdır. Bu nedenle, sizi diğer dağılım türleriyle bunaltmadan sadece normal dağılımı açıklayacağım..\n",
    "</div>"
   ]
  },
  {
   "cell_type": "markdown",
   "id": "1a2f57da",
   "metadata": {
    "papermill": {
     "duration": 0.053004,
     "end_time": "2023-12-31T11:50:04.407333",
     "exception": false,
     "start_time": "2023-12-31T11:50:04.354329",
     "status": "completed"
    },
    "tags": []
   },
   "source": [
    "<a id =\"4.1\"></a>\n",
    "## Normal Dağılım"
   ]
  },
  {
   "cell_type": "markdown",
   "id": "29c99758",
   "metadata": {
    "papermill": {
     "duration": 0.054196,
     "end_time": "2023-12-31T11:50:04.516091",
     "exception": false,
     "start_time": "2023-12-31T11:50:04.461895",
     "status": "completed"
    },
    "tags": []
   },
   "source": [
    "<span style=\"font-size: 15px; color: black; background-color: transparent;line-height: 1;\">Normal dağılım, belirli bir ortalama ve standart sapmaya sahip, simetrik bir çan şeklinde grafiğe sahip sürekli bir olasılık dağılımıdır. Çeşitli doğal olayların ve sürekli verilerin istatistiksel analizi için yaygın olarak kullanılır. Normal dağılımın iki temel parametresi vardır: ortalama (μ) ve standart sapma (σ). Dağılımın grafiği, ortalama etrafında merkezlenmiş simetrik bir eğri olarak görünür. 68-95-99.7 kuralı gibi kurallar, normal dağılım içinde belirli aralıklara düşme olasılığını açıklar. Merkezi limit teoremi sayesinde, normal dağılım birçok rasgele sürecin sonuçlarını doğru bir şekilde modellemek için yaygın olarak kullanılır. Sonuç olarak, istatistiksel analiz ve hipotez testi içinde sıkça karşılaşılan bir dağılım türüdür.</span>\n",
    "\n",
    "<img src=\"https://www.w3schools.com/statistics/img_normal_distribution.svg\" width=\"100%\">"
   ]
  },
  {
   "cell_type": "markdown",
   "id": "4870fbdc",
   "metadata": {
    "papermill": {
     "duration": 0.053834,
     "end_time": "2023-12-31T11:50:04.624864",
     "exception": false,
     "start_time": "2023-12-31T11:50:04.571030",
     "status": "completed"
    },
    "tags": []
   },
   "source": [
    "## $\\ f(x ~|~ μ,σ^2 ) =\\frac{1}{\\sqrt{2\\pi σ^2}} e^{-\\frac{\\left(x-μ\\right)^2}{2σ^2}}$\n",
    "\n",
    "* μ = Ortalamanın veya dağılımın beklenen değeri\n",
    "* σ = Standart Sapma\n",
    "* $ σ^2 $ = Varyans"
   ]
  },
  {
   "cell_type": "markdown",
   "id": "f1d8f351",
   "metadata": {
    "papermill": {
     "duration": 0.05379,
     "end_time": "2023-12-31T11:50:04.734727",
     "exception": false,
     "start_time": "2023-12-31T11:50:04.680937",
     "status": "completed"
    },
    "tags": []
   },
   "source": [
    "***Problem***: Bir şirkette ürünlerin ortalama aylık satış değerinin 80K olduğu ve standart sapmasının 5K olduğu bilinmektedir.\n",
    "Buna göre;\n",
    "\n",
    "1) Gelecek ay 90K dan fazla satış yapma olasılığı,\n",
    "\n",
    "2) Gelecek ay 70K dan fazla satış yapma olasılığı,\n",
    "\n",
    "3) Gelecek ay 73K dan az satış yapma olasığı,\n",
    "\n",
    "4) Gelecek ay 85K ile 90K aralığında satış yapma olasılığı."
   ]
  },
  {
   "cell_type": "markdown",
   "id": "ec7ee86b",
   "metadata": {
    "papermill": {
     "duration": 0.053245,
     "end_time": "2023-12-31T11:50:04.841875",
     "exception": false,
     "start_time": "2023-12-31T11:50:04.788630",
     "status": "completed"
    },
    "tags": []
   },
   "source": [
    "### _Bunu bulmak için Kumulatif Dağılım Fonksiyonunu (CDF) kullanabiliriz. Peki CDF nedir?_\n",
    "\n",
    "<span style=\"font-size: 15px; color: black; background-color: transparent;line-height: 1;\">Kümülatif Dağılım Fonksiyonu (CDF), bir olasılık dağılımında belirli bir değerin veya daha düşük bir değerin olasılığını hesaplamak için kullanılan istatistiksel bir fonksiyondur. Bu, rastgele bir değişkenin belirli bir noktaya kadar olan değerler alma olasılığını değerlendirmenin bir yolunu sağlar. CDF'nin matematiksel formülü F(x)=P(X≤x), burada F(x) CDF'yi temsil eder ve P(X≤x), rastgele değişken X'in x'den küçük veya eşit olma olasılığını ifade eder. CDF, özellikle hem kesikli hem de sürekli dağılımlarda temel bir araç olup, hipotez testi ve güven aralıkları da dahil olmak üzere çeşitli istatistiksel analizler için önemlidir.</span>"
   ]
  },
  {
   "cell_type": "markdown",
   "id": "26bd6d32",
   "metadata": {
    "papermill": {
     "duration": 0.053324,
     "end_time": "2023-12-31T11:50:04.948526",
     "exception": false,
     "start_time": "2023-12-31T11:50:04.895202",
     "status": "completed"
    },
    "tags": []
   },
   "source": [
    "<img src=\"https://i.stack.imgur.com/c3kj8.png\" width=\"100%\">"
   ]
  },
  {
   "cell_type": "markdown",
   "id": "7359702c",
   "metadata": {
    "papermill": {
     "duration": 0.053151,
     "end_time": "2023-12-31T11:50:05.055193",
     "exception": false,
     "start_time": "2023-12-31T11:50:05.002042",
     "status": "completed"
    },
    "tags": []
   },
   "source": [
    "1) Gelecek ay 90K'dan fazla olan bölgenin olasığı bizi ilgilendirdiği için. Normalde alt sınırı veren cdf fonksiyonunu 1 den çıkartarak üst bölgeyi buluyoruz."
   ]
  },
  {
   "cell_type": "code",
   "execution_count": 18,
   "id": "6fa292a2",
   "metadata": {
    "execution": {
     "iopub.execute_input": "2023-12-31T11:50:05.164011Z",
     "iopub.status.busy": "2023-12-31T11:50:05.163475Z",
     "iopub.status.idle": "2023-12-31T11:50:05.174176Z",
     "shell.execute_reply": "2023-12-31T11:50:05.172885Z"
    },
    "papermill": {
     "duration": 0.068072,
     "end_time": "2023-12-31T11:50:05.176632",
     "exception": false,
     "start_time": "2023-12-31T11:50:05.108560",
     "status": "completed"
    },
    "tags": []
   },
   "outputs": [
    {
     "data": {
      "text/plain": [
       "0.02275013194817921"
      ]
     },
     "execution_count": 18,
     "metadata": {},
     "output_type": "execute_result"
    }
   ],
   "source": [
    "from scipy.stats import norm\n",
    "1-norm.cdf(90,80,5) # 1. Parametre: İstenen değer, 2. Parametre: ortalama , 3. parametre: standart sapma"
   ]
  },
  {
   "cell_type": "markdown",
   "id": "2a005f75",
   "metadata": {
    "papermill": {
     "duration": 0.054051,
     "end_time": "2023-12-31T11:50:05.288260",
     "exception": false,
     "start_time": "2023-12-31T11:50:05.234209",
     "status": "completed"
    },
    "tags": []
   },
   "source": [
    "2) Önümüzdeki ay 70Kyi aşan satış yapma olasılığı"
   ]
  },
  {
   "cell_type": "code",
   "execution_count": 19,
   "id": "db1a59b8",
   "metadata": {
    "execution": {
     "iopub.execute_input": "2023-12-31T11:50:05.398549Z",
     "iopub.status.busy": "2023-12-31T11:50:05.398068Z",
     "iopub.status.idle": "2023-12-31T11:50:05.405912Z",
     "shell.execute_reply": "2023-12-31T11:50:05.404756Z"
    },
    "papermill": {
     "duration": 0.065963,
     "end_time": "2023-12-31T11:50:05.408208",
     "exception": false,
     "start_time": "2023-12-31T11:50:05.342245",
     "status": "completed"
    },
    "tags": []
   },
   "outputs": [
    {
     "data": {
      "text/plain": [
       "0.9772498680518208"
      ]
     },
     "execution_count": 19,
     "metadata": {},
     "output_type": "execute_result"
    }
   ],
   "source": [
    "1-norm.cdf(70,80,5)\n",
    "# Burada, ortalama zaten 80K, doğal olarak 70K 'yi aşan satış yapma olasılığı oldukça yüksek olacaktır."
   ]
  },
  {
   "cell_type": "markdown",
   "id": "7e2de7b0",
   "metadata": {
    "papermill": {
     "duration": 0.054977,
     "end_time": "2023-12-31T11:50:05.518704",
     "exception": false,
     "start_time": "2023-12-31T11:50:05.463727",
     "status": "completed"
    },
    "tags": []
   },
   "source": [
    "3) Önümüzdeki ay 73K'dan az satış yapma olasılığı"
   ]
  },
  {
   "cell_type": "code",
   "execution_count": 20,
   "id": "7654b10a",
   "metadata": {
    "execution": {
     "iopub.execute_input": "2023-12-31T11:50:05.630852Z",
     "iopub.status.busy": "2023-12-31T11:50:05.630062Z",
     "iopub.status.idle": "2023-12-31T11:50:05.638249Z",
     "shell.execute_reply": "2023-12-31T11:50:05.636998Z"
    },
    "papermill": {
     "duration": 0.067802,
     "end_time": "2023-12-31T11:50:05.640842",
     "exception": false,
     "start_time": "2023-12-31T11:50:05.573040",
     "status": "completed"
    },
    "tags": []
   },
   "outputs": [
    {
     "data": {
      "text/plain": [
       "0.08075665923377107"
      ]
     },
     "execution_count": 20,
     "metadata": {},
     "output_type": "execute_result"
    }
   ],
   "source": [
    "norm.cdf(73,80,5)\n",
    "# Burada fonksiyonu 1 den çıkartmıyoruz çünkü zaten cdf fonksiyonu bize alt bölge olan olasılığı verecektir."
   ]
  },
  {
   "cell_type": "markdown",
   "id": "5cc5e707",
   "metadata": {
    "papermill": {
     "duration": 0.055098,
     "end_time": "2023-12-31T11:50:05.751361",
     "exception": false,
     "start_time": "2023-12-31T11:50:05.696263",
     "status": "completed"
    },
    "tags": []
   },
   "source": [
    "4) Önümüzdeki ay 85K ile 90K aralığında satış yapma olasılığı"
   ]
  },
  {
   "cell_type": "code",
   "execution_count": 21,
   "id": "bf7177b2",
   "metadata": {
    "execution": {
     "iopub.execute_input": "2023-12-31T11:50:05.862784Z",
     "iopub.status.busy": "2023-12-31T11:50:05.862320Z",
     "iopub.status.idle": "2023-12-31T11:50:05.870813Z",
     "shell.execute_reply": "2023-12-31T11:50:05.869654Z"
    },
    "papermill": {
     "duration": 0.067036,
     "end_time": "2023-12-31T11:50:05.873268",
     "exception": false,
     "start_time": "2023-12-31T11:50:05.806232",
     "status": "completed"
    },
    "tags": []
   },
   "outputs": [
    {
     "data": {
      "text/plain": [
       "0.13590512198327787"
      ]
     },
     "execution_count": 21,
     "metadata": {},
     "output_type": "execute_result"
    }
   ],
   "source": [
    "norm.cdf(90,80,5) - norm.cdf(85,80,5)\n",
    "# Bizden istenilen değer 90K ile 85K aralığında olduğu için  öncelikle 90K nın altında olan bölgenin olasılığını buluyoruz\n",
    "# Sonra 85 K nın altında olan olasılığı buluyoruz.\n",
    "# Bulduğumuz değerleri birbirinden çıkarttığımızda aradaki taralı alanın olasılığını bulmuş oluruz."
   ]
  },
  {
   "cell_type": "markdown",
   "id": "92554320",
   "metadata": {
    "papermill": {
     "duration": 0.054584,
     "end_time": "2023-12-31T11:50:05.982327",
     "exception": false,
     "start_time": "2023-12-31T11:50:05.927743",
     "status": "completed"
    },
    "tags": []
   },
   "source": [
    "<a id =\"5\"></a>\n",
    "<div style=\"background-color: #D3D3D3; font-family: newtimeroman; font-size: 120%; color: black; text-align: center; border-radius: 80px; padding: 7px; border: solid 5px #4F4F4F;\">\n",
    "    <h1 id=\"0.07\">Hipotez Testleri</h1>\n",
    "</div>"
   ]
  },
  {
   "cell_type": "markdown",
   "id": "ab1e72ca",
   "metadata": {
    "papermill": {
     "duration": 0.056056,
     "end_time": "2023-12-31T11:50:06.093530",
     "exception": false,
     "start_time": "2023-12-31T11:50:06.037474",
     "status": "completed"
    },
    "tags": []
   },
   "source": [
    "<span style=\"font-size: 15px; color: black; background-color: transparent;line-height: 1;\">Hipotez testleri, istatistiksel bir önermenin (hipotez) doğruluğunu veya kesinliğini belirlemek için kullanılan istatistiksel bir yöntemdir. Bu testler, bir önermenin doğru olup olmadığını değerlendirmek veya iki farklı grup veya veri kümesi arasında anlamlı bir fark olup olmadığını değerlendirmek için kullanılır. Temelde hipotez testleri iki ana adım içerir: bir null hipotez (H0) ve bir alternatif hipotez (H1) belirleme. Null hipotez mevcut bir durumu veya varsayımı temsil ederken, alternatif hipotez bu durumun doğru olmadığını veya bir farkın olduğunu iddia eder. Bir test istatistiği kullanarak, verilerin null hipoteze ne kadar iyi uyduğunu veya alternatif hipotezi desteklediğini değerlendirir ve sonuçları istatistiksel olarak anlamlı hale getirir. Hipotez testleri, bilimsel araştırmadan iş kararlarına kadar çeşitli alanlarda güvenilir istatistiksel çıkarımların sağlanmasını sağlamak için kullanılır.</span>"
   ]
  },
  {
   "cell_type": "markdown",
   "id": "5444aac3",
   "metadata": {
    "papermill": {
     "duration": 0.055791,
     "end_time": "2023-12-31T11:50:06.204186",
     "exception": false,
     "start_time": "2023-12-31T11:50:06.148395",
     "status": "completed"
    },
    "tags": []
   },
   "source": [
    "**Örneğin, aşağıdaki yaklaşım kullanılarak basit bir hipotez testi oluşturulabilir.**;\n",
    "\n",
    "H0: μ = 20 **Bilinmeyen popülasyon ortalaması μ = 20**\n",
    " \n",
    " H1: μ ≠ 20 **Bilinmeyen popülasyon ortalaması μ ≠ 20**\n",
    "\n",
    "a=0.05 **(Anlamlılık düzeyi(alfa), istatistik topluluğunda genellikle 0.05 olarak kabul edilir. Ayrıca hata payı olarak da bilinir. )**\n",
    "\n",
    "p<a(0.05) **H0 reddedilir. Ancak, dağılım testlerinde H0 genellikle reddedilmez çünkü H0, 'örnek dağılımı ile teorik dağılım arasında fark yoktur' ifadesini belirtir.**"
   ]
  },
  {
   "cell_type": "markdown",
   "id": "0cba9cca",
   "metadata": {
    "papermill": {
     "duration": 0.05818,
     "end_time": "2023-12-31T11:50:06.318484",
     "exception": false,
     "start_time": "2023-12-31T11:50:06.260304",
     "status": "completed"
    },
    "tags": []
   },
   "source": [
    "<a id =\"5.1\"></a>\n",
    "## Tek Örneklem T-Testi"
   ]
  },
  {
   "cell_type": "markdown",
   "id": "de9441af",
   "metadata": {
    "papermill": {
     "duration": 0.054076,
     "end_time": "2023-12-31T11:50:06.427416",
     "exception": false,
     "start_time": "2023-12-31T11:50:06.373340",
     "status": "completed"
    },
    "tags": []
   },
   "source": [
    "<span style=\"font-size: 15px; color: black; background-color: transparent;line-height: 1;\">Tek Örneklem T Testi, bir popülasyonun genel özellikleri hakkında bir çıkarımda bulunmak için tek bir örneklemle çalışılırken kullanılan istatistiksel bir testtir. Bu test, örneklem ortalamasının teorik bir popülasyon ortalamasından anlamlı bir şekilde farklı olup olmadığını değerlendirmek için kullanılır. Temel hipotezler şu şekildedir:</span>\n",
    "\n",
    "* Null hipotez (H0): Örneklem ortalaması ile popülasyon ortalaması arasında istatistiksel olarak anlamlı bir fark yoktur.\n",
    "* Alternatif hipotez (H1 veya Hₐ): Örneklem ortalaması ile popülasyon ortalaması arasında istatistiksel olarak anlamlı bir fark vardır.\n",
    "\n",
    "<span style=\"font-size: 15px; color: black; background-color: transparent;line-height: 1;\">Test istatistiği hesaplandıktan sonra, bu istatistik bir t-tablosu veya istatistiksel yazılım kullanılarak değerlendirilir. Eğer test istatistiği kabul edilen anlamlılık düzeyi içinde kalıyorsa (örneğin, p < 0.05), null hipotez reddedilir ve örneklem ile popülasyon ortalaması arasında anlamlı bir fark olduğu sonucuna varılır. Tek Örneklem T Testi, örneklem ortalamasını popülasyon ortalaması ile karşılaştırmak ve bu farkın istatistiksel olarak anlamlı olup olmadığını belirlemek için yaygın olarak kullanılır.</span>"
   ]
  },
  {
   "cell_type": "markdown",
   "id": "9cd88b79",
   "metadata": {
    "papermill": {
     "duration": 0.05465,
     "end_time": "2023-12-31T11:50:06.537982",
     "exception": false,
     "start_time": "2023-12-31T11:50:06.483332",
     "status": "completed"
    },
    "tags": []
   },
   "source": [
    "#### **Problem**: Website üzerinde geçirilen ortalama sürenin 170 saniye olup olamayacağına dair bir hipotezimiz var ve bunu test etmek istiyoruz."
   ]
  },
  {
   "cell_type": "code",
   "execution_count": 22,
   "id": "49a26b74",
   "metadata": {
    "execution": {
     "iopub.execute_input": "2023-12-31T11:50:06.648054Z",
     "iopub.status.busy": "2023-12-31T11:50:06.647618Z",
     "iopub.status.idle": "2023-12-31T11:50:06.655170Z",
     "shell.execute_reply": "2023-12-31T11:50:06.653850Z"
    },
    "papermill": {
     "duration": 0.065633,
     "end_time": "2023-12-31T11:50:06.657851",
     "exception": false,
     "start_time": "2023-12-31T11:50:06.592218",
     "status": "completed"
    },
    "tags": []
   },
   "outputs": [],
   "source": [
    "measurements= np.array([17,160,234,149,145,107,197,75,201,225,211,119,157,145,127,244,163,114,145,65,112,185\n",
    "                   ,202,146,203,224,203,114,188,156,187,154,177,95,165,50,110,216,138,151,166,135,155,84,\n",
    "                    251,173,131,207,121,120])"
   ]
  },
  {
   "cell_type": "code",
   "execution_count": 23,
   "id": "2764544d",
   "metadata": {
    "execution": {
     "iopub.execute_input": "2023-12-31T11:50:06.768369Z",
     "iopub.status.busy": "2023-12-31T11:50:06.767988Z",
     "iopub.status.idle": "2023-12-31T11:50:06.778007Z",
     "shell.execute_reply": "2023-12-31T11:50:06.776835Z"
    },
    "papermill": {
     "duration": 0.067505,
     "end_time": "2023-12-31T11:50:06.780281",
     "exception": false,
     "start_time": "2023-12-31T11:50:06.712776",
     "status": "completed"
    },
    "tags": []
   },
   "outputs": [
    {
     "data": {
      "text/plain": [
       "DescribeResult(nobs=50, minmax=(17, 251), mean=154.38, variance=2578.0363265306123, skewness=-0.32398897278694483, kurtosis=-0.05849823498415985)"
      ]
     },
     "execution_count": 23,
     "metadata": {},
     "output_type": "execute_result"
    }
   ],
   "source": [
    "import scipy.stats as stats\n",
    "stats.describe(measurements)"
   ]
  },
  {
   "cell_type": "markdown",
   "id": "e2b4a6d7",
   "metadata": {
    "papermill": {
     "duration": 0.054126,
     "end_time": "2023-12-31T11:50:06.889941",
     "exception": false,
     "start_time": "2023-12-31T11:50:06.835815",
     "status": "completed"
    },
    "tags": []
   },
   "source": [
    "<span style=\"font-size: 15px; color: black; background-color: transparent;line-height: 1;\">Gözlemlendiği üzere, ortalama değeri 154.38 olan bir değişkenimiz var. Ancak, bu değeri doğrudan kabul edemeyiz çünkü bu değer tesadüfen meydana gelmiş olabilir. Başka bir değişken çektiğimizde bu değer farklı olabilir. Bu nedenle hipotez testleri yaparız ve işi şansa bırakmamaya çalışırız.</span>\n",
    "\n",
    "<span style=\"font-size: 15px; color: black; background-color: transparent;line-height: 1;\">İlk olarak, bu hipotezi test etmek için dağılımın normal olup olmadığını kontrol etmemiz gerekiyor. Eğer dağılım normal değilse, parametrik olmayan bir test uygularız. Normal dağılım varsayımını değerlendirmenin iki yolu vardır:</span>\n",
    "\n",
    "* Görsel olarak inceleme\n",
    "* Shapiro Test'i uygulayarak"
   ]
  },
  {
   "cell_type": "markdown",
   "id": "9bbe9b0a",
   "metadata": {
    "papermill": {
     "duration": 0.054146,
     "end_time": "2023-12-31T11:50:06.998495",
     "exception": false,
     "start_time": "2023-12-31T11:50:06.944349",
     "status": "completed"
    },
    "tags": []
   },
   "source": [
    "### Normallik varsayımı testi\n",
    "\n",
    "#### Görsel olarak inceleme"
   ]
  },
  {
   "cell_type": "code",
   "execution_count": 24,
   "id": "db9299ec",
   "metadata": {
    "execution": {
     "iopub.execute_input": "2023-12-31T11:50:07.109229Z",
     "iopub.status.busy": "2023-12-31T11:50:07.108846Z",
     "iopub.status.idle": "2023-12-31T11:50:07.511820Z",
     "shell.execute_reply": "2023-12-31T11:50:07.510450Z"
    },
    "papermill": {
     "duration": 0.461502,
     "end_time": "2023-12-31T11:50:07.514362",
     "exception": false,
     "start_time": "2023-12-31T11:50:07.052860",
     "status": "completed"
    },
    "tags": []
   },
   "outputs": [
    {
     "data": {
      "image/png": "[encoded data removed]",
      "text/plain": [
       "<Figure size 640x480 with 1 Axes>"
      ]
     },
     "metadata": {},
     "output_type": "display_data"
    }
   ],
   "source": [
    "import pandas as pd\n",
    "pd.DataFrame(measurements).plot.hist();"
   ]
  },
  {
   "cell_type": "markdown",
   "id": "032963c3",
   "metadata": {
    "papermill": {
     "duration": 0.055315,
     "end_time": "2023-12-31T11:50:07.624695",
     "exception": false,
     "start_time": "2023-12-31T11:50:07.569380",
     "status": "completed"
    },
    "tags": []
   },
   "source": [
    "##### ***Bu grafikte, dağılmanın bozulmadığı ve normal bir dağılıma uygun olabileceği gözlemlenmektedir.***\n",
    "\n",
    "##### Farklı bir yöntemi grafiksel olarak düşündüğümüzde;"
   ]
  },
  {
   "cell_type": "code",
   "execution_count": 25,
   "id": "6f2f6bac",
   "metadata": {
    "execution": {
     "iopub.execute_input": "2023-12-31T11:50:07.737767Z",
     "iopub.status.busy": "2023-12-31T11:50:07.737330Z",
     "iopub.status.idle": "2023-12-31T11:50:08.026331Z",
     "shell.execute_reply": "2023-12-31T11:50:08.025007Z"
    },
    "papermill": {
     "duration": 0.348945,
     "end_time": "2023-12-31T11:50:08.028923",
     "exception": false,
     "start_time": "2023-12-31T11:50:07.679978",
     "status": "completed"
    },
    "tags": []
   },
   "outputs": [
    {
     "data": {
      "image/png": "[encoded data removed]",
      "text/plain": [
       "<Figure size 640x480 with 1 Axes>"
      ]
     },
     "metadata": {},
     "output_type": "display_data"
    }
   ],
   "source": [
    "# qqplot\n",
    "import pylab\n",
    "stats.probplot(measurements,dist=\"norm\",plot=pylab)\n",
    "pylab.show()"
   ]
  },
  {
   "cell_type": "markdown",
   "id": "d22ef844",
   "metadata": {
    "papermill": {
     "duration": 0.055603,
     "end_time": "2023-12-31T11:50:08.139822",
     "exception": false,
     "start_time": "2023-12-31T11:50:08.084219",
     "status": "completed"
    },
    "tags": []
   },
   "source": [
    "***Grafiği incelediğimizde, sol taraf örnek dağılımıyken alt taraf teorik dağılımı temsil eder.***\n",
    "\n",
    "* Örnek dağılım: Elimizdeki ölçümlerdir.\n",
    "* Teorik dağılım: İlgilendiğimiz normal dağılımdır.\n",
    "* Mavi noktaların kırmızı çizgi etrafında konumlanmasını bekleriz.\n",
    "\n",
    "Ancak, grafik yöntemler hatalara duyarlı olabilir, bu nedenle bunları bilimsel olarak incelemek daha doğru olur"
   ]
  },
  {
   "cell_type": "markdown",
   "id": "31b8084f",
   "metadata": {
    "papermill": {
     "duration": 0.057287,
     "end_time": "2023-12-31T11:50:08.253120",
     "exception": false,
     "start_time": "2023-12-31T11:50:08.195833",
     "status": "completed"
    },
    "tags": []
   },
   "source": [
    "#### Shapiro Test'i uygulayarak"
   ]
  },
  {
   "cell_type": "code",
   "execution_count": 26,
   "id": "b1e0d03f",
   "metadata": {
    "execution": {
     "iopub.execute_input": "2023-12-31T11:50:08.367680Z",
     "iopub.status.busy": "2023-12-31T11:50:08.367277Z",
     "iopub.status.idle": "2023-12-31T11:50:08.372095Z",
     "shell.execute_reply": "2023-12-31T11:50:08.370978Z"
    },
    "papermill": {
     "duration": 0.064997,
     "end_time": "2023-12-31T11:50:08.374467",
     "exception": false,
     "start_time": "2023-12-31T11:50:08.309470",
     "status": "completed"
    },
    "tags": []
   },
   "outputs": [],
   "source": [
    "# H0: Veri normal dağılıma uygundur\n",
    "# H1: Veri normal dağılıma uygun değildir"
   ]
  },
  {
   "cell_type": "code",
   "execution_count": 27,
   "id": "9e99bbac",
   "metadata": {
    "execution": {
     "iopub.execute_input": "2023-12-31T11:50:08.488794Z",
     "iopub.status.busy": "2023-12-31T11:50:08.488341Z",
     "iopub.status.idle": "2023-12-31T11:50:08.498478Z",
     "shell.execute_reply": "2023-12-31T11:50:08.497407Z"
    },
    "papermill": {
     "duration": 0.070282,
     "end_time": "2023-12-31T11:50:08.501014",
     "exception": false,
     "start_time": "2023-12-31T11:50:08.430732",
     "status": "completed"
    },
    "tags": []
   },
   "outputs": [
    {
     "data": {
      "text/plain": [
       "ShapiroResult(statistic=0.9853101372718811, pvalue=0.7848551869392395)"
      ]
     },
     "execution_count": 27,
     "metadata": {},
     "output_type": "execute_result"
    }
   ],
   "source": [
    "from scipy.stats import shapiro\n",
    "shapiro(measurements)"
   ]
  },
  {
   "cell_type": "markdown",
   "id": "c051a2bf",
   "metadata": {
    "papermill": {
     "duration": 0.056493,
     "end_time": "2023-12-31T11:50:08.615533",
     "exception": false,
     "start_time": "2023-12-31T11:50:08.559040",
     "status": "completed"
    },
    "tags": []
   },
   "source": [
    "H0 reddedilemez, bu dağılımın normal bir dağılıma uygun göründüğü anlamına gelir.\n",
    "\n",
    "Şimdi t-testini uygulayabiliriz."
   ]
  },
  {
   "cell_type": "markdown",
   "id": "81c1683a",
   "metadata": {
    "papermill": {
     "duration": 0.055221,
     "end_time": "2023-12-31T11:50:08.727853",
     "exception": false,
     "start_time": "2023-12-31T11:50:08.672632",
     "status": "completed"
    },
    "tags": []
   },
   "source": [
    "### Hipotez Testi"
   ]
  },
  {
   "cell_type": "code",
   "execution_count": 28,
   "id": "e57bcf4e",
   "metadata": {
    "execution": {
     "iopub.execute_input": "2023-12-31T11:50:08.841786Z",
     "iopub.status.busy": "2023-12-31T11:50:08.841312Z",
     "iopub.status.idle": "2023-12-31T11:50:08.850204Z",
     "shell.execute_reply": "2023-12-31T11:50:08.849047Z"
    },
    "papermill": {
     "duration": 0.069206,
     "end_time": "2023-12-31T11:50:08.852625",
     "exception": false,
     "start_time": "2023-12-31T11:50:08.783419",
     "status": "completed"
    },
    "tags": []
   },
   "outputs": [
    {
     "data": {
      "text/plain": [
       "TtestResult(statistic=-2.1753117985877966, pvalue=0.034460415195071446, df=49)"
      ]
     },
     "execution_count": 28,
     "metadata": {},
     "output_type": "execute_result"
    }
   ],
   "source": [
    "from scipy import stats\n",
    "stats.ttest_1samp(measurements,popmean=170)"
   ]
  },
  {
   "cell_type": "markdown",
   "id": "8e994950",
   "metadata": {
    "papermill": {
     "duration": 0.05577,
     "end_time": "2023-12-31T11:50:08.964710",
     "exception": false,
     "start_time": "2023-12-31T11:50:08.908940",
     "status": "completed"
    },
    "tags": []
   },
   "source": [
    "***P-değeri 0.05'ten küçük olduğu için, nüfus ortalamasının 170 olduğunu iddia eden H0 hipotezi reddedilir. Bu nedenle, istatistiksel bir sonuç olarak örnek ortalamasının 170 olmadığını rahatlıkla ifade edebiliriz.***"
   ]
  },
  {
   "cell_type": "markdown",
   "id": "c92745c2",
   "metadata": {
    "papermill": {
     "duration": 0.056095,
     "end_time": "2023-12-31T11:50:09.078154",
     "exception": false,
     "start_time": "2023-12-31T11:50:09.022059",
     "status": "completed"
    },
    "tags": []
   },
   "source": [
    "<a id =\"5.2\"></a>\n",
    "## Nonparametrik Tek Örneklem T-Testi"
   ]
  },
  {
   "cell_type": "markdown",
   "id": "71129d94",
   "metadata": {
    "papermill": {
     "duration": 0.055996,
     "end_time": "2023-12-31T11:50:09.190493",
     "exception": false,
     "start_time": "2023-12-31T11:50:09.134497",
     "status": "completed"
    },
    "tags": []
   },
   "source": [
    "Eğer dağılımımız normal bir dağılıma uymasaydı, o durumda sign_test uygulayabilirdik."
   ]
  },
  {
   "cell_type": "code",
   "execution_count": 29,
   "id": "9ddb1276",
   "metadata": {
    "execution": {
     "iopub.execute_input": "2023-12-31T11:50:09.306618Z",
     "iopub.status.busy": "2023-12-31T11:50:09.306164Z",
     "iopub.status.idle": "2023-12-31T11:50:09.338372Z",
     "shell.execute_reply": "2023-12-31T11:50:09.337036Z"
    },
    "papermill": {
     "duration": 0.092946,
     "end_time": "2023-12-31T11:50:09.341113",
     "exception": false,
     "start_time": "2023-12-31T11:50:09.248167",
     "status": "completed"
    },
    "tags": []
   },
   "outputs": [
    {
     "data": {
      "text/plain": [
       "(-7.0, 0.06490864707227217)"
      ]
     },
     "execution_count": 29,
     "metadata": {},
     "output_type": "execute_result"
    }
   ],
   "source": [
    "from statsmodels.stats.descriptivestats import sign_test\n",
    "sign_test(measurements,170)"
   ]
  },
  {
   "cell_type": "markdown",
   "id": "702df30c",
   "metadata": {
    "papermill": {
     "duration": 0.057019,
     "end_time": "2023-12-31T11:50:09.454516",
     "exception": false,
     "start_time": "2023-12-31T11:50:09.397497",
     "status": "completed"
    },
    "tags": []
   },
   "source": [
    "Görüldüğü üzere, burada H0 reddedilemiyor, yani yanıltıcı bir değere sahibiz."
   ]
  },
  {
   "cell_type": "markdown",
   "id": "c5601d2e",
   "metadata": {
    "papermill": {
     "duration": 0.056024,
     "end_time": "2023-12-31T11:50:09.566964",
     "exception": false,
     "start_time": "2023-12-31T11:50:09.510940",
     "status": "completed"
    },
    "tags": []
   },
   "source": [
    "<a id =\"5.3\"></a>\n",
    "## Tek Örneklem Oran Testi"
   ]
  },
  {
   "cell_type": "markdown",
   "id": "d84ffdc0",
   "metadata": {
    "papermill": {
     "duration": 0.056791,
     "end_time": "2023-12-31T11:50:09.680977",
     "exception": false,
     "start_time": "2023-12-31T11:50:09.624186",
     "status": "completed"
    },
    "tags": []
   },
   "source": [
    "<span style=\"font-size: 15px; color: black; background-color: transparent;line-height: 1;\">Tek Örneklem Oran Testi, bir popülasyonun oranının belirli bir değere eşit olup olmadığını değerlendirmek için kullanılan istatistiksel bir testtir. Bu test, kategorik verilerle çalışırken, popülasyondaki belirli bir öznelliğin veya olayın yüzdesini incelemek için özellikle yararlıdır. Örneğin, bir reklam kampanyasının başarı oranını, bir hastalığın tedavi oranını veya bir ürünün hatalı ürün oranını değerlendirmek için kullanılabilir.</span>\n",
    "\n",
    "<span style=\"font-size: 15px; color: black; background-color: transparent;line-height: 1;\">\n",
    "Bu testte iki temel hipotez kullanılır:</span>\n",
    "\n",
    "\n",
    "* Null hipotezi (H0): Popülasyon oranı belirli bir değere eşittir, yani oran \"p\", hedef değerle aynıdır.\n",
    "* Alternatif hipotez (H1 veya Hₐ): Popülasyon oranı belirli bir değere eşit değildir, yani oran \"p\", hedef değerden farklıdır.\n",
    "\n",
    "<span style=\"font-size: 15px; color: black; background-color: transparent;line-height: 1;\">Test istatistiği, örneklem oranı ile popülasyon oranı arasındaki farkın ve örneklem büyüklüğünün bir fonksiyonu olarak hesaplanır. Ardından, bu istatistik belirli bir anlamlılık seviyesi (alfa) ile karşılaştırılır. Test istatistiği kabul edilen anlamlılık düzeyi içindeyse, null hipotezi reddedilir ve popülasyon oranının hedef değerden farklı olduğu sonucuna varılır.</span>\n",
    "\n",
    "<span style=\"font-size: 15px; color: black; background-color: transparent;line-height: 1;\">Tek Örneklem Oran Testi, \"p\" oranının belirli bir değerden istatistiksel olarak farklı olup olmadığını değerlendirmek için yaygın bir araçtır, bu nedenle karar verme süreçlerinde önemli bir araçtır.</span>"
   ]
  },
  {
   "cell_type": "markdown",
   "id": "3b434bef",
   "metadata": {
    "papermill": {
     "duration": 0.055458,
     "end_time": "2023-12-31T11:50:09.795035",
     "exception": false,
     "start_time": "2023-12-31T11:50:09.739577",
     "status": "completed"
    },
    "tags": []
   },
   "source": [
    "$H_0$ : P =  $P_0$ ${~~~~~~~~~~~~~~~~}$ $H_0$ : P <=  $P_0$  ${~~~~~~~~~~~~~}$    $H_0$ : P >=  $P_0$\n",
    " \n",
    "$H_1$: P ≠ $P_0$  ${~~~~~~~~~~~~~~~~}$ $H_1$: P > $P_0$   ${~~~~~~~~~~~~~~~~}$     $H_1$: P < $P_0$"
   ]
  },
  {
   "cell_type": "markdown",
   "id": "3f383436",
   "metadata": {
    "papermill": {
     "duration": 0.057066,
     "end_time": "2023-12-31T11:50:09.909829",
     "exception": false,
     "start_time": "2023-12-31T11:50:09.852763",
     "status": "completed"
    },
    "tags": []
   },
   "source": [
    "#### ***Problem***: Bir yazılım ile bir websitede reklam verilmiş ve bu reklama ilişkin yazılım tarafından 0.125 dönüşüm oranı elde edildiği fark edilmiş. Fakat bu durum kontrol edilmek isteniyor. Çünkü bu yüksek bir oran ve gelirler incelendiğinde örtüşmüyor\n",
    "\n",
    "***Details***:\n",
    "\n",
    "* 500 kişi bu reklamlara tıklamış, 40 tanesi siteye girip alışveriş yapmış.\n",
    "* Örnek üzerinden elde edilen dönüşüm oranı 40/500=0.08\n",
    "\n",
    "Eğer reklama odaklanırsak tıklayanlar/görenler odağında bir geri dönüş oranı,\n",
    "Eğer alışverişe odaklanırsakda alışveriş yapanlar / tıklayan odağında bir geri dönüş oranı elde edilir.\n",
    "\n",
    "$H_0$ : P =  0.125\n",
    "\n",
    "$H_1$: P ≠ 0.125"
   ]
  },
  {
   "cell_type": "code",
   "execution_count": 30,
   "id": "395d2767",
   "metadata": {
    "execution": {
     "iopub.execute_input": "2023-12-31T11:50:10.027834Z",
     "iopub.status.busy": "2023-12-31T11:50:10.027066Z",
     "iopub.status.idle": "2023-12-31T11:50:10.068191Z",
     "shell.execute_reply": "2023-12-31T11:50:10.066652Z"
    },
    "papermill": {
     "duration": 0.102679,
     "end_time": "2023-12-31T11:50:10.071064",
     "exception": false,
     "start_time": "2023-12-31T11:50:09.968385",
     "status": "completed"
    },
    "tags": []
   },
   "outputs": [
    {
     "data": {
      "text/plain": [
       "(-3.7090151628513017, 0.0002080669689845979)"
      ]
     },
     "execution_count": 30,
     "metadata": {},
     "output_type": "execute_result"
    }
   ],
   "source": [
    "from statsmodels.stats.proportion import proportions_ztest\n",
    "\n",
    "count=40 # Başarı sayısı\n",
    "nobs=500 # Gözlem sayısı\n",
    "value=0.125 # Test etmek istediğimiz oran\n",
    "\n",
    "proportions_ztest(count,nobs,value)"
   ]
  },
  {
   "cell_type": "markdown",
   "id": "8271d6fa",
   "metadata": {
    "papermill": {
     "duration": 0.055966,
     "end_time": "2023-12-31T11:50:10.183776",
     "exception": false,
     "start_time": "2023-12-31T11:50:10.127810",
     "status": "completed"
    },
    "tags": []
   },
   "source": [
    "Dönüşüm oranını normalde 0.08 olarak iddia ettiğimizde, bu oran hipotez testinde p < 0.05 olduğundan reddedilir."
   ]
  },
  {
   "cell_type": "markdown",
   "id": "4152ca6f",
   "metadata": {
    "papermill": {
     "duration": 0.062734,
     "end_time": "2023-12-31T11:50:10.327942",
     "exception": false,
     "start_time": "2023-12-31T11:50:10.265208",
     "status": "completed"
    },
    "tags": []
   },
   "source": [
    "<a id =\"5.4\"></a>\n",
    "## Bağımsız İki Örneklem T-Testi"
   ]
  },
  {
   "cell_type": "markdown",
   "id": "ee20ed09",
   "metadata": {
    "papermill": {
     "duration": 0.056118,
     "end_time": "2023-12-31T11:50:10.440732",
     "exception": false,
     "start_time": "2023-12-31T11:50:10.384614",
     "status": "completed"
    },
    "tags": []
   },
   "source": [
    "<span style=\"font-size: 15px; color: black; background-color: transparent;line-height: 1;\">Bağımsız İki Örneklem T Testi, iki farklı örneklem grubunun ortalamalarını karşılaştırmak ve bu gruplar arasındaki istatistiksel farkı değerlendirmek için kullanılan istatistiksel bir analiz yöntemidir. Bu test, iki grup arasında bağımsız bir ilişki olduğunda uygulanır ve iki farklı grup için aynı ölçüm değişkenini karşılaştırmak için kullanılır.</span>\n",
    "\n",
    "<span style=\"font-size: 15px; color: black; background-color: transparent;line-height: 1;\">Bağımsız İki Örneklem T Testi genellikle şu adımları izler:</span>\n",
    "\n",
    "\n",
    "**Hipotezlerin Belirlenmesi**:\n",
    "\n",
    "* Null Hipotez (H0): İki grup arasında istatistiksel bir fark yoktur. Başka bir deyişle, iki grup ortalamaları eşittir.\n",
    "* Alternatif Hipotez (H1 veya Hₐ): İki grup arasında istatistiksel olarak anlamlı bir fark vardır. Başka bir deyişle, iki grup ortalamaları farklıdır.\n",
    "\n",
    "**Veri Toplama**:\n",
    "\n",
    "* İlk ve ikinci gruplar için örnek veriler toplanır. Bu gruplar genellikle farklı popülasyonlardan veya koşullardan gelir.\n",
    "\n",
    "**Varyans Homojenliği Testi (Opsiyonel)**:\n",
    "\n",
    "* Levene testi gibi bir test, iki grup arasındaki varyansların homojen olup olmadığını değerlendirmek için yapılabilir.\n",
    "\n",
    "**Test İstatistiğinin Hesaplanması**:\n",
    "\n",
    "* Bağımsız iki örneklem t testi istatistiği, her iki gruptan elde edilen örnek veriler kullanılarak hesaplanır. Bu istatistik, ortalama farkını ve örneklem büyüklüklerini dikkate alır.\n",
    "\n",
    "**Anlamlılık Düzeyinin Belirlenmesi**:\n",
    "\n",
    "* Bir anlamlılık düzeyi (alfa) belirlenir, genellikle p<0.05 olarak ayarlanır.\n",
    "\n",
    "**Test İstatistiğinin Karşılaştırılması**:\n",
    "\n",
    "* Hesaplanan test istatistiği seçilen anlamlılık düzeyi ile karşılaştırılır. Test istatistiği bu düzeyden daha küçükse, null hipotez reddedilir ve iki grup arasında istatistiksel olarak anlamlı bir fark olduğunu gösterir.\n",
    "\n",
    "<span style=\"font-size: 15px; color: black; background-color: transparent;line-height: 1;\">Bağımsız İki Örneklem T Testi, farklı tedavi yöntemlerini, gruplar arasındaki cinsiyet farklarını veya ürünleri karşılaştırmak gibi çeşitli bağlamlarda yaygın olarak kullanılır. Grup farklarını belirleme ve bu farkların istatistiksel anlamlılığını belirleme konusunda önemli bir araçtır.</span>\n",
    "\n",
    "$H_0$ : $μ_1$ =  $μ_2$ ${~~~~~~~~~~~~~~~~}$ $H_0$ : $μ_1$ <=  $μ_2$  ${~~~~~~~~~~~~~}$    $H_0$ : $μ_1$ >=  $μ_2$\n",
    " \n",
    "$H_1$: $μ_1$ ≠ $μ_2$  ${~~~~~~~~~~~~~~~~}$ $H_1$: $μ_1$ > $μ_2$   ${~~~~~~~~~~~~~~~~}$     $H_1$: $μ_1$ < $μ_2$\n",
    "\n",
    "\n",
    "\n",
    "\n"
   ]
  },
  {
   "cell_type": "markdown",
   "id": "2580e02a",
   "metadata": {
    "papermill": {
     "duration": 0.055736,
     "end_time": "2023-12-31T11:50:10.553598",
     "exception": false,
     "start_time": "2023-12-31T11:50:10.497862",
     "status": "completed"
    },
    "tags": []
   },
   "source": [
    "***Problem***:\n",
    "\n",
    "##### ***Bir ML projesine yatırım yapıldı. Bu projenin ürettiği tahminlerle elde edilen gelir ile eski sistem tarafından üretilen gelir arasında anlamlı bir fark olup olmadığını test etmek isteniyor.***\n",
    "\n",
    "***Detaylar***:\n",
    "\n",
    "* Bir model geliştirilmiş ve web sitesine entegre edilmiştir\n",
    "* Site kullanıcıları belirli bir kurala göre iki gruba ayrılmıştır.\n",
    "* Grup A eski sistemini temsil ederken, Grup B yeni sistemi temsil eder.\n",
    "* Amacımız gelir açısından anlamlı bir fark olup olmadığını test etmektir."
   ]
  },
  {
   "cell_type": "code",
   "execution_count": 31,
   "id": "1ede4b84",
   "metadata": {
    "execution": {
     "iopub.execute_input": "2023-12-31T11:50:10.672481Z",
     "iopub.status.busy": "2023-12-31T11:50:10.672072Z",
     "iopub.status.idle": "2023-12-31T11:50:10.697500Z",
     "shell.execute_reply": "2023-12-31T11:50:10.696231Z"
    },
    "papermill": {
     "duration": 0.088522,
     "end_time": "2023-12-31T11:50:10.700172",
     "exception": false,
     "start_time": "2023-12-31T11:50:10.611650",
     "status": "completed"
    },
    "tags": []
   },
   "outputs": [
    {
     "data": {
      "text/html": [
       "<div>\n",
       "<style scoped>\n",
       "    .dataframe tbody tr th:only-of-type {\n",
       "        vertical-align: middle;\n",
       "    }\n",
       "\n",
       "    .dataframe tbody tr th {\n",
       "        vertical-align: top;\n",
       "    }\n",
       "\n",
       "    .dataframe thead th {\n",
       "        text-align: right;\n",
       "    }\n",
       "</style>\n",
       "<table border=\"1\" class=\"dataframe\">\n",
       "  <thead>\n",
       "    <tr style=\"text-align: right;\">\n",
       "      <th></th>\n",
       "      <th>A</th>\n",
       "      <th>B</th>\n",
       "    </tr>\n",
       "  </thead>\n",
       "  <tbody>\n",
       "    <tr>\n",
       "      <th>0</th>\n",
       "      <td>30</td>\n",
       "      <td>37</td>\n",
       "    </tr>\n",
       "    <tr>\n",
       "      <th>1</th>\n",
       "      <td>27</td>\n",
       "      <td>39</td>\n",
       "    </tr>\n",
       "    <tr>\n",
       "      <th>2</th>\n",
       "      <td>21</td>\n",
       "      <td>31</td>\n",
       "    </tr>\n",
       "    <tr>\n",
       "      <th>3</th>\n",
       "      <td>27</td>\n",
       "      <td>31</td>\n",
       "    </tr>\n",
       "    <tr>\n",
       "      <th>4</th>\n",
       "      <td>29</td>\n",
       "      <td>34</td>\n",
       "    </tr>\n",
       "  </tbody>\n",
       "</table>\n",
       "</div>"
      ],
      "text/plain": [
       "    A   B\n",
       "0  30  37\n",
       "1  27  39\n",
       "2  21  31\n",
       "3  27  31\n",
       "4  29  34"
      ]
     },
     "execution_count": 31,
     "metadata": {},
     "output_type": "execute_result"
    }
   ],
   "source": [
    "import pandas as pd\n",
    "\n",
    "A=pd.DataFrame([30,27,21,27,29,30,20,20,27,32,35,22,24,23,25,27,23,27,23,25,21,18,24,26,33,26,27,28,19,25],columns=[\"A\"])\n",
    "B=pd.DataFrame([37,39,31,31,34,38,30,36,29,28,38,28,37,37,30,32,31,31,27,32,33,33,33,31,32,33,26,32,33,29],columns=[\"B\"])\n",
    "\n",
    "A_B=pd.concat([A,B],axis=1)\n",
    "\n",
    "A_B.head()"
   ]
  },
  {
   "cell_type": "code",
   "execution_count": 32,
   "id": "872c3d1b",
   "metadata": {
    "execution": {
     "iopub.execute_input": "2023-12-31T11:50:10.817918Z",
     "iopub.status.busy": "2023-12-31T11:50:10.817510Z",
     "iopub.status.idle": "2023-12-31T11:50:10.838196Z",
     "shell.execute_reply": "2023-12-31T11:50:10.836586Z"
    },
    "papermill": {
     "duration": 0.081936,
     "end_time": "2023-12-31T11:50:10.840822",
     "exception": false,
     "start_time": "2023-12-31T11:50:10.758886",
     "status": "completed"
    },
    "tags": []
   },
   "outputs": [
    {
     "data": {
      "text/html": [
       "<div>\n",
       "<style scoped>\n",
       "    .dataframe tbody tr th:only-of-type {\n",
       "        vertical-align: middle;\n",
       "    }\n",
       "\n",
       "    .dataframe tbody tr th {\n",
       "        vertical-align: top;\n",
       "    }\n",
       "\n",
       "    .dataframe thead th {\n",
       "        text-align: right;\n",
       "    }\n",
       "</style>\n",
       "<table border=\"1\" class=\"dataframe\">\n",
       "  <thead>\n",
       "    <tr style=\"text-align: right;\">\n",
       "      <th></th>\n",
       "      <th>Group</th>\n",
       "      <th>Value</th>\n",
       "    </tr>\n",
       "  </thead>\n",
       "  <tbody>\n",
       "    <tr>\n",
       "      <th>0</th>\n",
       "      <td>A</td>\n",
       "      <td>30</td>\n",
       "    </tr>\n",
       "    <tr>\n",
       "      <th>1</th>\n",
       "      <td>B</td>\n",
       "      <td>37</td>\n",
       "    </tr>\n",
       "    <tr>\n",
       "      <th>2</th>\n",
       "      <td>A</td>\n",
       "      <td>27</td>\n",
       "    </tr>\n",
       "    <tr>\n",
       "      <th>3</th>\n",
       "      <td>B</td>\n",
       "      <td>39</td>\n",
       "    </tr>\n",
       "    <tr>\n",
       "      <th>4</th>\n",
       "      <td>A</td>\n",
       "      <td>21</td>\n",
       "    </tr>\n",
       "  </tbody>\n",
       "</table>\n",
       "</div>"
      ],
      "text/plain": [
       "  Group  Value\n",
       "0     A     30\n",
       "1     B     37\n",
       "2     A     27\n",
       "3     B     39\n",
       "4     A     21"
      ]
     },
     "execution_count": 32,
     "metadata": {},
     "output_type": "execute_result"
    }
   ],
   "source": [
    "AB=A_B.stack().reset_index().drop(columns=\"level_0\")\n",
    "AB.columns=[\"Group\",\"Value\"]\n",
    "\n",
    "AB.head()"
   ]
  },
  {
   "cell_type": "code",
   "execution_count": 33,
   "id": "e42d0e62",
   "metadata": {
    "execution": {
     "iopub.execute_input": "2023-12-31T11:50:10.955698Z",
     "iopub.status.busy": "2023-12-31T11:50:10.955201Z",
     "iopub.status.idle": "2023-12-31T11:50:11.631544Z",
     "shell.execute_reply": "2023-12-31T11:50:11.630297Z"
    },
    "papermill": {
     "duration": 0.737029,
     "end_time": "2023-12-31T11:50:11.634445",
     "exception": false,
     "start_time": "2023-12-31T11:50:10.897416",
     "status": "completed"
    },
    "tags": []
   },
   "outputs": [
    {
     "data": {
      "image/png": "[encoded data removed]",
      "text/plain": [
       "<Figure size 640x480 with 1 Axes>"
      ]
     },
     "metadata": {},
     "output_type": "display_data"
    }
   ],
   "source": [
    "import seaborn as sns\n",
    "sns.boxplot(x=\"Group\",y=\"Value\",data=AB);"
   ]
  },
  {
   "cell_type": "markdown",
   "id": "cb218137",
   "metadata": {
    "papermill": {
     "duration": 0.057269,
     "end_time": "2023-12-31T11:50:11.749658",
     "exception": false,
     "start_time": "2023-12-31T11:50:11.692389",
     "status": "completed"
    },
    "tags": []
   },
   "source": [
    "##### ***Görünüşe göre iki grup arasında bir fark var. Bu konunun gerçekten böyle olup olmadığını belirlemek için bir hipotez testi uygulayabiliriz.***"
   ]
  },
  {
   "cell_type": "markdown",
   "id": "d5074397",
   "metadata": {
    "papermill": {
     "duration": 0.057022,
     "end_time": "2023-12-31T11:50:11.864281",
     "exception": false,
     "start_time": "2023-12-31T11:50:11.807259",
     "status": "completed"
    },
    "tags": []
   },
   "source": [
    "### **Varsayım Kontrolleri**"
   ]
  },
  {
   "cell_type": "markdown",
   "id": "ef5903d4",
   "metadata": {
    "papermill": {
     "duration": 0.056816,
     "end_time": "2023-12-31T11:50:11.978077",
     "exception": false,
     "start_time": "2023-12-31T11:50:11.921261",
     "status": "completed"
    },
    "tags": []
   },
   "source": [
    "### Normallik Varsayımı Testi"
   ]
  },
  {
   "cell_type": "code",
   "execution_count": 34,
   "id": "82135cd2",
   "metadata": {
    "execution": {
     "iopub.execute_input": "2023-12-31T11:50:12.096307Z",
     "iopub.status.busy": "2023-12-31T11:50:12.095863Z",
     "iopub.status.idle": "2023-12-31T11:50:12.100622Z",
     "shell.execute_reply": "2023-12-31T11:50:12.099447Z"
    },
    "papermill": {
     "duration": 0.067866,
     "end_time": "2023-12-31T11:50:12.102947",
     "exception": false,
     "start_time": "2023-12-31T11:50:12.035081",
     "status": "completed"
    },
    "tags": []
   },
   "outputs": [],
   "source": [
    "# H0: Veri normal dağılıma uygundur\n",
    "# H1: Veri normal dağılıma uygun değildir"
   ]
  },
  {
   "cell_type": "code",
   "execution_count": 35,
   "id": "50cf6426",
   "metadata": {
    "execution": {
     "iopub.execute_input": "2023-12-31T11:50:12.224136Z",
     "iopub.status.busy": "2023-12-31T11:50:12.222719Z",
     "iopub.status.idle": "2023-12-31T11:50:12.230447Z",
     "shell.execute_reply": "2023-12-31T11:50:12.229328Z"
    },
    "papermill": {
     "duration": 0.071417,
     "end_time": "2023-12-31T11:50:12.232946",
     "exception": false,
     "start_time": "2023-12-31T11:50:12.161529",
     "status": "completed"
    },
    "tags": []
   },
   "outputs": [
    {
     "data": {
      "text/plain": [
       "ShapiroResult(statistic=0.9789243936538696, pvalue=0.7962851524353027)"
      ]
     },
     "execution_count": 35,
     "metadata": {},
     "output_type": "execute_result"
    }
   ],
   "source": [
    "shapiro(A_B.A)"
   ]
  },
  {
   "cell_type": "code",
   "execution_count": 36,
   "id": "995e86c2",
   "metadata": {
    "execution": {
     "iopub.execute_input": "2023-12-31T11:50:12.352197Z",
     "iopub.status.busy": "2023-12-31T11:50:12.351758Z",
     "iopub.status.idle": "2023-12-31T11:50:12.359832Z",
     "shell.execute_reply": "2023-12-31T11:50:12.358621Z"
    },
    "papermill": {
     "duration": 0.070194,
     "end_time": "2023-12-31T11:50:12.362147",
     "exception": false,
     "start_time": "2023-12-31T11:50:12.291953",
     "status": "completed"
    },
    "tags": []
   },
   "outputs": [
    {
     "data": {
      "text/plain": [
       "ShapiroResult(statistic=0.9561262130737305, pvalue=0.24584470689296722)"
      ]
     },
     "execution_count": 36,
     "metadata": {},
     "output_type": "execute_result"
    }
   ],
   "source": [
    "shapiro(A_B.B)"
   ]
  },
  {
   "cell_type": "markdown",
   "id": "9b52dc36",
   "metadata": {
    "papermill": {
     "duration": 0.056548,
     "end_time": "2023-12-31T11:50:12.476372",
     "exception": false,
     "start_time": "2023-12-31T11:50:12.419824",
     "status": "completed"
    },
    "tags": []
   },
   "source": [
    "##### ***Her iki grup için de normallik sağlanıyor***"
   ]
  },
  {
   "cell_type": "markdown",
   "id": "4c025e86",
   "metadata": {
    "papermill": {
     "duration": 0.058774,
     "end_time": "2023-12-31T11:50:12.595049",
     "exception": false,
     "start_time": "2023-12-31T11:50:12.536275",
     "status": "completed"
    },
    "tags": []
   },
   "source": [
    "### Varyans Homojenliği Testi"
   ]
  },
  {
   "cell_type": "code",
   "execution_count": 37,
   "id": "22c0a22d",
   "metadata": {
    "execution": {
     "iopub.execute_input": "2023-12-31T11:50:12.718258Z",
     "iopub.status.busy": "2023-12-31T11:50:12.717183Z",
     "iopub.status.idle": "2023-12-31T11:50:12.721621Z",
     "shell.execute_reply": "2023-12-31T11:50:12.720698Z"
    },
    "papermill": {
     "duration": 0.066919,
     "end_time": "2023-12-31T11:50:12.723967",
     "exception": false,
     "start_time": "2023-12-31T11:50:12.657048",
     "status": "completed"
    },
    "tags": []
   },
   "outputs": [],
   "source": [
    "# H0: Varyanslar homojendir\n",
    "# H1: Varyanslar homojen değildir."
   ]
  },
  {
   "cell_type": "code",
   "execution_count": 38,
   "id": "c2b524a1",
   "metadata": {
    "execution": {
     "iopub.execute_input": "2023-12-31T11:50:12.842710Z",
     "iopub.status.busy": "2023-12-31T11:50:12.841927Z",
     "iopub.status.idle": "2023-12-31T11:50:12.849356Z",
     "shell.execute_reply": "2023-12-31T11:50:12.848280Z"
    },
    "papermill": {
     "duration": 0.068849,
     "end_time": "2023-12-31T11:50:12.851612",
     "exception": false,
     "start_time": "2023-12-31T11:50:12.782763",
     "status": "completed"
    },
    "tags": []
   },
   "outputs": [
    {
     "data": {
      "text/plain": [
       "LeveneResult(statistic=1.1101802757158004, pvalue=0.2964124900636569)"
      ]
     },
     "execution_count": 38,
     "metadata": {},
     "output_type": "execute_result"
    }
   ],
   "source": [
    "stats.levene(A_B.A,A_B.B)"
   ]
  },
  {
   "cell_type": "markdown",
   "id": "0b7697fa",
   "metadata": {
    "papermill": {
     "duration": 0.056914,
     "end_time": "2023-12-31T11:50:12.966418",
     "exception": false,
     "start_time": "2023-12-31T11:50:12.909504",
     "status": "completed"
    },
    "tags": []
   },
   "source": [
    "<div class=\"alert alert-block alert-success\">Varyansların homojenliği ve normal dağılım varsayımları sağlanmıştır. Şimdi parametrik bir test uygulayabiliriz.\n",
    "</div>"
   ]
  },
  {
   "cell_type": "markdown",
   "id": "f68cb812",
   "metadata": {
    "papermill": {
     "duration": 0.05704,
     "end_time": "2023-12-31T11:50:13.081136",
     "exception": false,
     "start_time": "2023-12-31T11:50:13.024096",
     "status": "completed"
    },
    "tags": []
   },
   "source": [
    "### Hypothesis test"
   ]
  },
  {
   "cell_type": "code",
   "execution_count": 39,
   "id": "74ffc6ce",
   "metadata": {
    "execution": {
     "iopub.execute_input": "2023-12-31T11:50:13.198379Z",
     "iopub.status.busy": "2023-12-31T11:50:13.197614Z",
     "iopub.status.idle": "2023-12-31T11:50:13.201613Z",
     "shell.execute_reply": "2023-12-31T11:50:13.200835Z"
    },
    "papermill": {
     "duration": 0.064866,
     "end_time": "2023-12-31T11:50:13.203746",
     "exception": false,
     "start_time": "2023-12-31T11:50:13.138880",
     "status": "completed"
    },
    "tags": []
   },
   "outputs": [],
   "source": [
    "# H0: İki grup arasında anlamlı bir farklılık yoktur.\n",
    "# H1: ki grup arasında anlamlı bir farklılık vardır."
   ]
  },
  {
   "cell_type": "code",
   "execution_count": 40,
   "id": "b17c0b02",
   "metadata": {
    "execution": {
     "iopub.execute_input": "2023-12-31T11:50:13.326651Z",
     "iopub.status.busy": "2023-12-31T11:50:13.326205Z",
     "iopub.status.idle": "2023-12-31T11:50:13.335787Z",
     "shell.execute_reply": "2023-12-31T11:50:13.334687Z"
    },
    "papermill": {
     "duration": 0.073155,
     "end_time": "2023-12-31T11:50:13.338315",
     "exception": false,
     "start_time": "2023-12-31T11:50:13.265160",
     "status": "completed"
    },
    "tags": []
   },
   "outputs": [
    {
     "data": {
      "text/plain": [
       "TtestResult(statistic=-7.028690967745927, pvalue=2.6233215605475075e-09, df=58.0)"
      ]
     },
     "execution_count": 40,
     "metadata": {},
     "output_type": "execute_result"
    }
   ],
   "source": [
    "stats.ttest_ind(A_B[\"A\"],A_B[\"B\"],equal_var=True)\n"
   ]
  },
  {
   "cell_type": "markdown",
   "id": "8c429a26",
   "metadata": {
    "papermill": {
     "duration": 0.058258,
     "end_time": "2023-12-31T11:50:13.455278",
     "exception": false,
     "start_time": "2023-12-31T11:50:13.397020",
     "status": "completed"
    },
    "tags": []
   },
   "source": [
    "Bu iki grup arasında fark olmadığını iddia eden H0 hipotezi reddedilir.\n"
   ]
  },
  {
   "cell_type": "markdown",
   "id": "74264f2e",
   "metadata": {
    "papermill": {
     "duration": 0.059231,
     "end_time": "2023-12-31T11:50:13.572981",
     "exception": false,
     "start_time": "2023-12-31T11:50:13.513750",
     "status": "completed"
    },
    "tags": []
   },
   "source": [
    "<a id =\"5.5\"></a>\n",
    "## Nonparametrik Bağımsız İki Örneklem T-Testi\n",
    "\n",
    "<span style=\"font-size: 15px; color: white; background-color: transparent;line-height: 1;\">Bu, tüm varsayımlar sağlanmadığında kullanılabilir.</span>"
   ]
  },
  {
   "cell_type": "code",
   "execution_count": 41,
   "id": "ff33cacd",
   "metadata": {
    "execution": {
     "iopub.execute_input": "2023-12-31T11:50:13.692374Z",
     "iopub.status.busy": "2023-12-31T11:50:13.691716Z",
     "iopub.status.idle": "2023-12-31T11:50:13.701334Z",
     "shell.execute_reply": "2023-12-31T11:50:13.700228Z"
    },
    "papermill": {
     "duration": 0.072493,
     "end_time": "2023-12-31T11:50:13.703750",
     "exception": false,
     "start_time": "2023-12-31T11:50:13.631257",
     "status": "completed"
    },
    "tags": []
   },
   "outputs": [
    {
     "data": {
      "text/plain": [
       "MannwhitneyuResult(statistic=89.5, pvalue=9.557950378612535e-08)"
      ]
     },
     "execution_count": 41,
     "metadata": {},
     "output_type": "execute_result"
    }
   ],
   "source": [
    "stats.mannwhitneyu(A_B[\"A\"],A_B[\"B\"])"
   ]
  },
  {
   "cell_type": "markdown",
   "id": "f89aeb91",
   "metadata": {
    "papermill": {
     "duration": 0.057537,
     "end_time": "2023-12-31T11:50:13.819999",
     "exception": false,
     "start_time": "2023-12-31T11:50:13.762462",
     "status": "completed"
    },
    "tags": []
   },
   "source": [
    "<div class=\"alert alert-block alert-warning\">\n",
    "<b>Not:</b> Burada nonparametrik testin uygulanması sadece gösterme amaçlıdır; aksi takdirde yanlış yorumlanabilir.\n",
    "</div>"
   ]
  },
  {
   "cell_type": "markdown",
   "id": "96c1c4d8",
   "metadata": {
    "papermill": {
     "duration": 0.058897,
     "end_time": "2023-12-31T11:50:13.938768",
     "exception": false,
     "start_time": "2023-12-31T11:50:13.879871",
     "status": "completed"
    },
    "tags": []
   },
   "source": [
    "<a id =\"5.6\"></a>\n",
    "## Bağımlı İki Örneklem T-Testi"
   ]
  },
  {
   "cell_type": "markdown",
   "id": "08299aa8",
   "metadata": {
    "papermill": {
     "duration": 0.057893,
     "end_time": "2023-12-31T11:50:14.054824",
     "exception": false,
     "start_time": "2023-12-31T11:50:13.996931",
     "status": "completed"
    },
    "tags": []
   },
   "source": [
    "<span style=\"font-size: 15px; color: black; background-color: transparent;line-height: 1;\">Bağımlı İki Örneklem T Testi, aynı örneklem tarafından elde edilen iki farklı veri kümesi arasındaki istatistiksel farkı değerlendirmek için kullanılan bir istatistiksel testtir. Bu test, iki farklı ölçüm veya koşul arasındaki ilişkiyi incelemek için kullanılır. Örneğin, hastaların ilaç tedavisi öncesinde ve sonrasındaki kan basıncını karşılaştırmak veya eğitim programı öncesi ve sonrası sınav performansını değerlendirmek için kullanılabilir.</span>\n",
    "\n",
    "<span style=\"font-size: 15px; color: black; background-color: transparent;line-height: 1;\">Bağımlı İki Örneklem T Testi şu adımlarla gerçekleştirilir:</span>\n",
    "\n",
    "**Hipotezlerin Belirlenmesi**:\n",
    "\n",
    "* Null Hipotez (H0): İki örneklem arasındaki ortalama değerler arasında istatistiksel bir fark yoktur. Yani, veriler aynı dağılımı takip eder.\n",
    "* Alternatif Hipotez (H1 veya Hₐ): İki örneklem arasında istatistiksel olarak anlamlı bir fark vardır.\n",
    "\n",
    "**Veri Toplama**:\n",
    "\n",
    "* Aynı örneklemden iki farklı veri kümesi toplanır, genellikle aynı bireyler için iki farklı zaman noktasında alınan ölçümleri içerir.\n",
    "\n",
    "**Farkların Hesaplanması**:\n",
    "\n",
    "* İki veri kümesi arasındaki farklar hesaplanır, genellikle ikinci veri kümesindeki değerlerin birinci veri kümesindeki değerlerden çıkarılmasıyla yapılır.\n",
    "\n",
    "**Ortalama Fark ve Standart Hata Hesaplaması**:\n",
    "\n",
    "* Farkların ortalaması hesaplanır ve bu ortalama değer, standart hata hesaplamak için kullanılır.\n",
    "\n",
    "**Test İstatistiğinin Hesaplanması**:\n",
    "\n",
    "* Test istatistiği, farkların ortalamasını standart hata ile bölen bir formül temelinde hesaplanır.\n",
    "\n",
    "**Anlamlılık Düzeyinin Belirlenmesi**:\n",
    "\n",
    "* Bir anlamlılık düzeyi (alfa) belirlenir. Genellikle p<0.05 olarak seçilir.\n",
    "\n",
    "**Test İstatistiğinin Karşılaştırılması**:\n",
    "\n",
    "* Hesaplanan test istatistiği, seçilen anlamlılık düzeyi ile karşılaştırılır. Eğer test istatistiği bu düzeyden daha küçükse, null hipotez reddedilir ve iki örneklem arasında istatistiksel olarak anlamlı bir fark olduğunu gösterir.\n",
    "\n",
    "<span style=\"font-size: 15px; color: black; background-color: transparent;line-height: 1;\">Bağımlı İki Örneklem T Testi, aynı bireyler veya öğeler üzerinde iki farklı ölçüm veya koşul arasındaki farkı değerlendirmek için yaygın olarak kullanılır. Deneylerin etkililiğini, tedavi sonuçlarını veya eğitim programlarını değerlendirmek gibi çeşitli alanlarda oldukça faydalıdır.</span>\n",
    "\n",
    "$H_0$ : $μ_ö$ =  $μ_s$ ${~~~~~~~~~~~~~~~~}$ $H_0$ : $μ_ö$ <=  $μ_s$  ${~~~~~~~~~~~~~}$    $H_0$ : $μ_ö$ >=  $μ_s$\n",
    " \n",
    "$H_1$: $μ_ö$ ≠ $μ_s$  ${~~~~~~~~~~~~~~~~}$ $H_1$: $μ_ö$ > $μ_s$   ${~~~~~~~~~~~~~~~~}$     $H_1$: $μ_ö$ < $μ_s$"
   ]
  },
  {
   "cell_type": "markdown",
   "id": "538e9a18",
   "metadata": {
    "papermill": {
     "duration": 0.058072,
     "end_time": "2023-12-31T11:50:14.171121",
     "exception": false,
     "start_time": "2023-12-31T11:50:14.113049",
     "status": "completed"
    },
    "tags": []
   },
   "source": [
    "##### ***Problem***: Bir şirkette, pazarlama profesyonellerinin eğitim almadan önceki ve eğitim aldıktan sonraki satış performansı incelenmek isteniyor."
   ]
  },
  {
   "cell_type": "code",
   "execution_count": 42,
   "id": "14461a7f",
   "metadata": {
    "execution": {
     "iopub.execute_input": "2023-12-31T11:50:14.294492Z",
     "iopub.status.busy": "2023-12-31T11:50:14.293741Z",
     "iopub.status.idle": "2023-12-31T11:50:14.304509Z",
     "shell.execute_reply": "2023-12-31T11:50:14.303464Z"
    },
    "papermill": {
     "duration": 0.076573,
     "end_time": "2023-12-31T11:50:14.307108",
     "exception": false,
     "start_time": "2023-12-31T11:50:14.230535",
     "status": "completed"
    },
    "tags": []
   },
   "outputs": [],
   "source": [
    "before= pd.DataFrame([123,119,119,116,123,123,121,120,117,118,121,121,123,119,121,118,124,121,125,115,115,\n",
    "                     119,118,121,117,117,120,120,121,117,118,117,123,118,124,121,115,118,125,115],columns=[\"before\"])\n",
    "\n",
    "after = pd.DataFrame([118,127,122,132,129,123,129,132,128,130,128,138,140,130,134,134,124,140,134,129,\n",
    "                       129,138,134,124,122,126,133,127,130,130,130,132,117,130,125,129,133,120,127,123],columns=[\"after\"])"
   ]
  },
  {
   "cell_type": "code",
   "execution_count": 43,
   "id": "8a75cdb5",
   "metadata": {
    "execution": {
     "iopub.execute_input": "2023-12-31T11:50:14.425541Z",
     "iopub.status.busy": "2023-12-31T11:50:14.424907Z",
     "iopub.status.idle": "2023-12-31T11:50:14.435875Z",
     "shell.execute_reply": "2023-12-31T11:50:14.434755Z"
    },
    "papermill": {
     "duration": 0.073325,
     "end_time": "2023-12-31T11:50:14.438306",
     "exception": false,
     "start_time": "2023-12-31T11:50:14.364981",
     "status": "completed"
    },
    "tags": []
   },
   "outputs": [
    {
     "data": {
      "text/html": [
       "<div>\n",
       "<style scoped>\n",
       "    .dataframe tbody tr th:only-of-type {\n",
       "        vertical-align: middle;\n",
       "    }\n",
       "\n",
       "    .dataframe tbody tr th {\n",
       "        vertical-align: top;\n",
       "    }\n",
       "\n",
       "    .dataframe thead th {\n",
       "        text-align: right;\n",
       "    }\n",
       "</style>\n",
       "<table border=\"1\" class=\"dataframe\">\n",
       "  <thead>\n",
       "    <tr style=\"text-align: right;\">\n",
       "      <th></th>\n",
       "      <th>before</th>\n",
       "      <th>after</th>\n",
       "    </tr>\n",
       "  </thead>\n",
       "  <tbody>\n",
       "    <tr>\n",
       "      <th>0</th>\n",
       "      <td>123</td>\n",
       "      <td>118</td>\n",
       "    </tr>\n",
       "    <tr>\n",
       "      <th>1</th>\n",
       "      <td>119</td>\n",
       "      <td>127</td>\n",
       "    </tr>\n",
       "    <tr>\n",
       "      <th>2</th>\n",
       "      <td>119</td>\n",
       "      <td>122</td>\n",
       "    </tr>\n",
       "    <tr>\n",
       "      <th>3</th>\n",
       "      <td>116</td>\n",
       "      <td>132</td>\n",
       "    </tr>\n",
       "    <tr>\n",
       "      <th>4</th>\n",
       "      <td>123</td>\n",
       "      <td>129</td>\n",
       "    </tr>\n",
       "  </tbody>\n",
       "</table>\n",
       "</div>"
      ],
      "text/plain": [
       "   before  after\n",
       "0     123    118\n",
       "1     119    127\n",
       "2     119    122\n",
       "3     116    132\n",
       "4     123    129"
      ]
     },
     "execution_count": 43,
     "metadata": {},
     "output_type": "execute_result"
    }
   ],
   "source": [
    "discrete=pd.concat([before,after],axis=1)\n",
    "discrete.head()"
   ]
  },
  {
   "cell_type": "code",
   "execution_count": 44,
   "id": "4d768911",
   "metadata": {
    "execution": {
     "iopub.execute_input": "2023-12-31T11:50:14.559689Z",
     "iopub.status.busy": "2023-12-31T11:50:14.559028Z",
     "iopub.status.idle": "2023-12-31T11:50:14.573267Z",
     "shell.execute_reply": "2023-12-31T11:50:14.572089Z"
    },
    "papermill": {
     "duration": 0.077648,
     "end_time": "2023-12-31T11:50:14.575567",
     "exception": false,
     "start_time": "2023-12-31T11:50:14.497919",
     "status": "completed"
    },
    "tags": []
   },
   "outputs": [
    {
     "data": {
      "text/html": [
       "<div>\n",
       "<style scoped>\n",
       "    .dataframe tbody tr th:only-of-type {\n",
       "        vertical-align: middle;\n",
       "    }\n",
       "\n",
       "    .dataframe tbody tr th {\n",
       "        vertical-align: top;\n",
       "    }\n",
       "\n",
       "    .dataframe thead th {\n",
       "        text-align: right;\n",
       "    }\n",
       "</style>\n",
       "<table border=\"1\" class=\"dataframe\">\n",
       "  <thead>\n",
       "    <tr style=\"text-align: right;\">\n",
       "      <th></th>\n",
       "      <th>before_after</th>\n",
       "      <th>performance</th>\n",
       "    </tr>\n",
       "  </thead>\n",
       "  <tbody>\n",
       "    <tr>\n",
       "      <th>0</th>\n",
       "      <td>before</td>\n",
       "      <td>123</td>\n",
       "    </tr>\n",
       "    <tr>\n",
       "      <th>1</th>\n",
       "      <td>after</td>\n",
       "      <td>118</td>\n",
       "    </tr>\n",
       "    <tr>\n",
       "      <th>2</th>\n",
       "      <td>before</td>\n",
       "      <td>119</td>\n",
       "    </tr>\n",
       "    <tr>\n",
       "      <th>3</th>\n",
       "      <td>after</td>\n",
       "      <td>127</td>\n",
       "    </tr>\n",
       "    <tr>\n",
       "      <th>4</th>\n",
       "      <td>before</td>\n",
       "      <td>119</td>\n",
       "    </tr>\n",
       "  </tbody>\n",
       "</table>\n",
       "</div>"
      ],
      "text/plain": [
       "  before_after  performance\n",
       "0       before          123\n",
       "1        after          118\n",
       "2       before          119\n",
       "3        after          127\n",
       "4       before          119"
      ]
     },
     "execution_count": 44,
     "metadata": {},
     "output_type": "execute_result"
    }
   ],
   "source": [
    "jointly=discrete.stack().reset_index().drop(columns=\"level_0\")\n",
    "jointly.columns=[\"before_after\",\"performance\"]\n",
    "jointly.head()"
   ]
  },
  {
   "cell_type": "code",
   "execution_count": 45,
   "id": "08fa7b61",
   "metadata": {
    "execution": {
     "iopub.execute_input": "2023-12-31T11:50:14.694031Z",
     "iopub.status.busy": "2023-12-31T11:50:14.693615Z",
     "iopub.status.idle": "2023-12-31T11:50:14.950376Z",
     "shell.execute_reply": "2023-12-31T11:50:14.949247Z"
    },
    "papermill": {
     "duration": 0.320155,
     "end_time": "2023-12-31T11:50:14.953726",
     "exception": false,
     "start_time": "2023-12-31T11:50:14.633571",
     "status": "completed"
    },
    "tags": []
   },
   "outputs": [
    {
     "data": {
      "image/png": "[encoded data removed]",
      "text/plain": [
       "<Figure size 640x480 with 1 Axes>"
      ]
     },
     "metadata": {},
     "output_type": "display_data"
    }
   ],
   "source": [
    "import seaborn as sns\n",
    "sns.boxplot(x=\"before_after\",y=\"performance\",data=jointly);"
   ]
  },
  {
   "cell_type": "markdown",
   "id": "f0781c09",
   "metadata": {
    "papermill": {
     "duration": 0.058223,
     "end_time": "2023-12-31T11:50:15.071197",
     "exception": false,
     "start_time": "2023-12-31T11:50:15.012974",
     "status": "completed"
    },
    "tags": []
   },
   "source": [
    "#### Eğitim öncesi ve sonrası arasında görsel bir fark olduğu görünüyor."
   ]
  },
  {
   "cell_type": "markdown",
   "id": "692144f0",
   "metadata": {
    "papermill": {
     "duration": 0.060021,
     "end_time": "2023-12-31T11:50:15.189985",
     "exception": false,
     "start_time": "2023-12-31T11:50:15.129964",
     "status": "completed"
    },
    "tags": []
   },
   "source": [
    "### **Varsayım Kontrolleri**"
   ]
  },
  {
   "cell_type": "markdown",
   "id": "3135527c",
   "metadata": {
    "papermill": {
     "duration": 0.058904,
     "end_time": "2023-12-31T11:50:15.310728",
     "exception": false,
     "start_time": "2023-12-31T11:50:15.251824",
     "status": "completed"
    },
    "tags": []
   },
   "source": [
    "### Normallik Varsayım Testi"
   ]
  },
  {
   "cell_type": "code",
   "execution_count": 46,
   "id": "3a24c1f8",
   "metadata": {
    "execution": {
     "iopub.execute_input": "2023-12-31T11:50:15.432106Z",
     "iopub.status.busy": "2023-12-31T11:50:15.430932Z",
     "iopub.status.idle": "2023-12-31T11:50:15.435935Z",
     "shell.execute_reply": "2023-12-31T11:50:15.434986Z"
    },
    "papermill": {
     "duration": 0.068722,
     "end_time": "2023-12-31T11:50:15.438263",
     "exception": false,
     "start_time": "2023-12-31T11:50:15.369541",
     "status": "completed"
    },
    "tags": []
   },
   "outputs": [],
   "source": [
    "from scipy.stats import shapiro"
   ]
  },
  {
   "cell_type": "code",
   "execution_count": 47,
   "id": "ac0d36c8",
   "metadata": {
    "execution": {
     "iopub.execute_input": "2023-12-31T11:50:15.558633Z",
     "iopub.status.busy": "2023-12-31T11:50:15.558220Z",
     "iopub.status.idle": "2023-12-31T11:50:15.566059Z",
     "shell.execute_reply": "2023-12-31T11:50:15.564909Z"
    },
    "papermill": {
     "duration": 0.070226,
     "end_time": "2023-12-31T11:50:15.568492",
     "exception": false,
     "start_time": "2023-12-31T11:50:15.498266",
     "status": "completed"
    },
    "tags": []
   },
   "outputs": [
    {
     "data": {
      "text/plain": [
       "ShapiroResult(statistic=0.9543651342391968, pvalue=0.10722016543149948)"
      ]
     },
     "execution_count": 47,
     "metadata": {},
     "output_type": "execute_result"
    }
   ],
   "source": [
    "shapiro(discrete.before)"
   ]
  },
  {
   "cell_type": "code",
   "execution_count": 48,
   "id": "14bcbaa6",
   "metadata": {
    "execution": {
     "iopub.execute_input": "2023-12-31T11:50:15.689128Z",
     "iopub.status.busy": "2023-12-31T11:50:15.688746Z",
     "iopub.status.idle": "2023-12-31T11:50:15.696313Z",
     "shell.execute_reply": "2023-12-31T11:50:15.695014Z"
    },
    "papermill": {
     "duration": 0.070714,
     "end_time": "2023-12-31T11:50:15.698704",
     "exception": false,
     "start_time": "2023-12-31T11:50:15.627990",
     "status": "completed"
    },
    "tags": []
   },
   "outputs": [
    {
     "data": {
      "text/plain": [
       "ShapiroResult(statistic=0.9780092239379883, pvalue=0.6159630417823792)"
      ]
     },
     "execution_count": 48,
     "metadata": {},
     "output_type": "execute_result"
    }
   ],
   "source": [
    "shapiro(discrete.after)"
   ]
  },
  {
   "cell_type": "markdown",
   "id": "c797613c",
   "metadata": {
    "papermill": {
     "duration": 0.060329,
     "end_time": "2023-12-31T11:50:15.819381",
     "exception": false,
     "start_time": "2023-12-31T11:50:15.759052",
     "status": "completed"
    },
    "tags": []
   },
   "source": [
    "### Varyans Homojenliği Testi"
   ]
  },
  {
   "cell_type": "code",
   "execution_count": 49,
   "id": "55a46e9c",
   "metadata": {
    "execution": {
     "iopub.execute_input": "2023-12-31T11:50:15.939003Z",
     "iopub.status.busy": "2023-12-31T11:50:15.938545Z",
     "iopub.status.idle": "2023-12-31T11:50:15.947485Z",
     "shell.execute_reply": "2023-12-31T11:50:15.946271Z"
    },
    "papermill": {
     "duration": 0.071491,
     "end_time": "2023-12-31T11:50:15.949903",
     "exception": false,
     "start_time": "2023-12-31T11:50:15.878412",
     "status": "completed"
    },
    "tags": []
   },
   "outputs": [
    {
     "data": {
      "text/plain": [
       "LeveneResult(statistic=8.31303288672351, pvalue=0.0050844511807370246)"
      ]
     },
     "execution_count": 49,
     "metadata": {},
     "output_type": "execute_result"
    }
   ],
   "source": [
    "stats.levene(discrete.before,discrete.after)"
   ]
  },
  {
   "cell_type": "markdown",
   "id": "f87cdcd8",
   "metadata": {
    "papermill": {
     "duration": 0.059163,
     "end_time": "2023-12-31T11:50:16.069877",
     "exception": false,
     "start_time": "2023-12-31T11:50:16.010714",
     "status": "completed"
    },
    "tags": []
   },
   "source": [
    "<div class=\"alert alert-block alert-warning\">\n",
    "Normal dağılım varsayımları karşılanıyor, ancak varyansların homojenliği karşılanmıyor. Bu durumda varyansların homojen olmamasını göz ardı edebiliriz. Ancak, en az bir normal dağılım varsayımının karşılanmadığı durumlarda doğrudan nonparametrik bir test uygularız.\n",
    "</div>"
   ]
  },
  {
   "cell_type": "code",
   "execution_count": 50,
   "id": "9571de6c",
   "metadata": {
    "execution": {
     "iopub.execute_input": "2023-12-31T11:50:16.194107Z",
     "iopub.status.busy": "2023-12-31T11:50:16.193390Z",
     "iopub.status.idle": "2023-12-31T11:50:16.201074Z",
     "shell.execute_reply": "2023-12-31T11:50:16.200101Z"
    },
    "papermill": {
     "duration": 0.07142,
     "end_time": "2023-12-31T11:50:16.203631",
     "exception": false,
     "start_time": "2023-12-31T11:50:16.132211",
     "status": "completed"
    },
    "tags": []
   },
   "outputs": [
    {
     "data": {
      "text/plain": [
       "TtestResult(statistic=-9.281533480429937, pvalue=2.0235251764440722e-11, df=39)"
      ]
     },
     "execution_count": 50,
     "metadata": {},
     "output_type": "execute_result"
    }
   ],
   "source": [
    "stats.ttest_rel(discrete.before,discrete.after)"
   ]
  },
  {
   "cell_type": "markdown",
   "id": "0886c19d",
   "metadata": {
    "papermill": {
     "duration": 0.060848,
     "end_time": "2023-12-31T11:50:16.327240",
     "exception": false,
     "start_time": "2023-12-31T11:50:16.266392",
     "status": "completed"
    },
    "tags": []
   },
   "source": [
    "#### ***Her iki grubun ortalamalarının eşit olduğunu iddia eden H0 hipotezi reddedilir.***"
   ]
  },
  {
   "cell_type": "markdown",
   "id": "d28a9b07",
   "metadata": {
    "papermill": {
     "duration": 0.05936,
     "end_time": "2023-12-31T11:50:16.446201",
     "exception": false,
     "start_time": "2023-12-31T11:50:16.386841",
     "status": "completed"
    },
    "tags": []
   },
   "source": [
    "<a id =\"5.7\"></a>\n",
    "## Nonparametrik Bağımlı İki Örneklem T-Testi"
   ]
  },
  {
   "cell_type": "markdown",
   "id": "ae75e848",
   "metadata": {
    "papermill": {
     "duration": 0.060552,
     "end_time": "2023-12-31T11:50:16.566022",
     "exception": false,
     "start_time": "2023-12-31T11:50:16.505470",
     "status": "completed"
    },
    "tags": []
   },
   "source": [
    "<span style=\"font-size: 15px; color: black; background-color: transparent;line-height: 1;\">İki Örneklem Oran Testi, iki farklı grup veya popülasyonun oranlarını karşılaştırmak için kullanılan bir istatistik testidir. Bu test, farklı gruplarda iki farklı kategorik değişkenin yüzde oranlarını karşılaştırmak için kullanılır. Genellikle örneklem büyüklükleri büyük olduğunda ve normal dağılım varsayımı sağlandığında etkilidir.</span>\n",
    "\n",
    "<span style=\"font-size: 15px; color: black; background-color: transparent;line-height: 1;\">İki Örneklem Oran Testi aşağıdaki adımlar aracılığıyla gerçekleştirilir:</span>\n",
    "\n",
    "**Hipotezlerin Belirlenmesi**:\n",
    "\n",
    "* Null Hipotez (H0): İki grup arasında oranlar arasında istatistiksel bir fark yoktur. Başka bir deyişle, gruplar aynı oranlara sahiptir.\n",
    "* Alternatif Hipotez (H1 veya Hₐ): İki grup arasındaki oranlar arasında istatistiksel olarak anlamlı bir fark vardır.\n",
    "\n",
    "**Veri Toplama**:\n",
    "\n",
    "* İki farklı grup veya popülasyondan örnek veriler toplanır.\n",
    "\n",
    "**Oranların Hesaplanması**:\n",
    "\n",
    "* İki grup için kategorik verilerin yüzdelik oranları veya oranları hesaplanır. Örneğin, her iki grupta belirli bir olayın meydana gelme olasılığı hesaplanabilir.\n",
    "\n",
    "**Test İstatistiğinin Hesaplanması**:\n",
    "\n",
    "* İki örneklem oran testi için test istatistiği hesaplanır. Bu istatistik, gruplar arasındaki oran farkını standart hata ile böler.\n",
    "\n",
    "**Anlamlılık Düzeyinin Belirlenmesi**:\n",
    "\n",
    "* Bir anlamlılık düzeyi (alfa) belirlenir. Genellikle p<0.05 olarak seçilir.\n",
    "\n",
    "Test İstatistiğinin Karşılaştırılması:\n",
    "\n",
    "* Hesaplanan test istatistiği, seçilen anlamlılık düzeyi ile karşılaştırılır. Test istatistiği, bu düzeyden daha küçükse, null hipotez reddedilir ve iki grup arasındaki oranlarda istatistiksel olarak anlamlı bir fark olduğunu gösterir.\n",
    "\n",
    "<span style=\"font-size: 15px; color: black; background-color: transparent;line-height: 1;\">İki Örneklem Oran Testi, pazarlama kampanyalarının etkililiğini karşılaştırmak, iki ürünün kullanım oranlarını incelemek veya farklı gruplar arasındaki hastalık riskini karşılaştırmak gibi çeşitli uygulamalarda yaygın olarak kullanılır. Bu test, oranların karşılaştırılması gerektiğinde önemli bir araçtır.</span>\n",
    "\n",
    "$H_0$ : $P_1$ =  $P_2$ ${~~~~~~~~~~~~~~~~}$ $H_0$ : $P_1$ <=  $P_2$  ${~~~~~~~~~~~~~}$    $H_0$ : $P_1$ >=  $P_2$\n",
    " \n",
    "$H_1$: $P_1$ ≠ $P_2$  ${~~~~~~~~~~~~~~~~}$ $H_1$: $P_1$ > $P_2$   ${~~~~~~~~~~~~~~~~}$     $H_1$: $P_1$ < $P_2$"
   ]
  },
  {
   "cell_type": "markdown",
   "id": "c2073bdd",
   "metadata": {
    "papermill": {
     "duration": 0.059238,
     "end_time": "2023-12-31T11:50:16.685401",
     "exception": false,
     "start_time": "2023-12-31T11:50:16.626163",
     "status": "completed"
    },
    "tags": []
   },
   "source": [
    "#### ***Bu test, bu iki varsayımdan hiçbiri sağlanmadığında uygulanır.***"
   ]
  },
  {
   "cell_type": "code",
   "execution_count": 51,
   "id": "48a33949",
   "metadata": {
    "execution": {
     "iopub.execute_input": "2023-12-31T11:50:16.806778Z",
     "iopub.status.busy": "2023-12-31T11:50:16.806372Z",
     "iopub.status.idle": "2023-12-31T11:50:16.815295Z",
     "shell.execute_reply": "2023-12-31T11:50:16.814171Z"
    },
    "papermill": {
     "duration": 0.071956,
     "end_time": "2023-12-31T11:50:16.817831",
     "exception": false,
     "start_time": "2023-12-31T11:50:16.745875",
     "status": "completed"
    },
    "tags": []
   },
   "outputs": [
    {
     "data": {
      "text/plain": [
       "WilcoxonResult(statistic=15.0, pvalue=2.491492033374464e-07)"
      ]
     },
     "execution_count": 51,
     "metadata": {},
     "output_type": "execute_result"
    }
   ],
   "source": [
    "stats.wilcoxon(discrete.before,discrete.after,zero_method=\"wilcox\")"
   ]
  },
  {
   "cell_type": "markdown",
   "id": "f1cb8b83",
   "metadata": {
    "papermill": {
     "duration": 0.059058,
     "end_time": "2023-12-31T11:50:16.936032",
     "exception": false,
     "start_time": "2023-12-31T11:50:16.876974",
     "status": "completed"
    },
    "tags": []
   },
   "source": [
    "<a id =\"5.8\"></a>\n",
    "## İki Örneklem Oran Testi"
   ]
  },
  {
   "cell_type": "markdown",
   "id": "64ce12a3",
   "metadata": {
    "papermill": {
     "duration": 0.05913,
     "end_time": "2023-12-31T11:50:17.054192",
     "exception": false,
     "start_time": "2023-12-31T11:50:16.995062",
     "status": "completed"
    },
    "tags": []
   },
   "source": [
    "<div class=\"alert alert-block alert-info\">\n",
    "<b>Bilgi:</b> Bu testin uygulanabilmesi için her iki grup için örneklem büyüklüklerinin 30'dan büyük olması gereklidir.\n",
    "</div>"
   ]
  },
  {
   "cell_type": "markdown",
   "id": "d155d672",
   "metadata": {
    "papermill": {
     "duration": 0.058914,
     "end_time": "2023-12-31T11:50:17.173069",
     "exception": false,
     "start_time": "2023-12-31T11:50:17.114155",
     "status": "completed"
    },
    "tags": []
   },
   "source": [
    "#### **Problem**: Bir web sitesine reklam yerleştiriliyor. Belirli bir grup insana yeşil buton, diğerlerine ise kırmızı buton gösteriliyor. Görüntülenme/tıklama oranı ölçülüyor. Bu iki grup arasında herhangi bir fark olup olmadığını test etmek istiyoruz.\n",
    "\n",
    "**Detaylar**:\n",
    "\n",
    "* Yeşil düğmeye ait görüntülenme sayısı: 1000, Tıklamaların sayısı: 300\n",
    "* Kırmızı düğmeye ait görüntülenme sayısı: 1100, Tıklamaların sayısı: 250"
   ]
  },
  {
   "cell_type": "code",
   "execution_count": 52,
   "id": "dc7780e9",
   "metadata": {
    "execution": {
     "iopub.execute_input": "2023-12-31T11:50:17.294597Z",
     "iopub.status.busy": "2023-12-31T11:50:17.294172Z",
     "iopub.status.idle": "2023-12-31T11:50:17.299747Z",
     "shell.execute_reply": "2023-12-31T11:50:17.298534Z"
    },
    "papermill": {
     "duration": 0.069249,
     "end_time": "2023-12-31T11:50:17.302045",
     "exception": false,
     "start_time": "2023-12-31T11:50:17.232796",
     "status": "completed"
    },
    "tags": []
   },
   "outputs": [],
   "source": [
    "Number_of_Successes=np.array([300,250])\n",
    "Number_of_Observation=np.array([1000,1100])"
   ]
  },
  {
   "cell_type": "code",
   "execution_count": 53,
   "id": "7aa2f9ba",
   "metadata": {
    "execution": {
     "iopub.execute_input": "2023-12-31T11:50:17.422686Z",
     "iopub.status.busy": "2023-12-31T11:50:17.421954Z",
     "iopub.status.idle": "2023-12-31T11:50:17.430381Z",
     "shell.execute_reply": "2023-12-31T11:50:17.429072Z"
    },
    "papermill": {
     "duration": 0.072155,
     "end_time": "2023-12-31T11:50:17.433214",
     "exception": false,
     "start_time": "2023-12-31T11:50:17.361059",
     "status": "completed"
    },
    "tags": []
   },
   "outputs": [
    {
     "data": {
      "text/plain": [
       "(3.7857863233209255, 0.0001532232957772221)"
      ]
     },
     "execution_count": 53,
     "metadata": {},
     "output_type": "execute_result"
    }
   ],
   "source": [
    "from statsmodels.stats.proportion import proportions_ztest\n",
    "proportions_ztest(count=Number_of_Successes,nobs=Number_of_Observation)"
   ]
  },
  {
   "cell_type": "markdown",
   "id": "47c12abb",
   "metadata": {
    "papermill": {
     "duration": 0.060533,
     "end_time": "2023-12-31T11:50:17.553730",
     "exception": false,
     "start_time": "2023-12-31T11:50:17.493197",
     "status": "completed"
    },
    "tags": []
   },
   "source": [
    "**İki grup arasındaki görüntüleme/tıklama oranında fark olmadığını belirten H0 hipotezi reddedilir.**"
   ]
  },
  {
   "cell_type": "markdown",
   "id": "e85fc225",
   "metadata": {
    "papermill": {
     "duration": 0.059821,
     "end_time": "2023-12-31T11:50:17.673034",
     "exception": false,
     "start_time": "2023-12-31T11:50:17.613213",
     "status": "completed"
    },
    "tags": []
   },
   "source": [
    "<a id =\"6\"></a>\n",
    "<div style=\"background-color: #D3D3D3; font-family: newtimeroman; font-size: 120%; color: black; text-align: center; border-radius: 80px; padding: 7px; border: solid 5px #4F4F4F;\">\n",
    "    <h1 id=\"0.08\">ANOVA (Varyans Analizi)</h1>\n",
    "</div>"
   ]
  },
  {
   "cell_type": "markdown",
   "id": "bfaa2e5e",
   "metadata": {
    "papermill": {
     "duration": 0.059043,
     "end_time": "2023-12-31T11:50:17.791458",
     "exception": false,
     "start_time": "2023-12-31T11:50:17.732415",
     "status": "completed"
    },
    "tags": []
   },
   "source": [
    "<span style=\"font-size: 15px; color: black; background-color: transparent;line-height: 1;\">ANOVA (Varyans Analizi), bir veya daha fazla grup ile grup ortalamaları arasındaki varyans arasındaki istatistiksel farkları incelemek ve değerlendirmek için kullanılan bir istatistiksel analiz yöntemidir. Temel olarak ANOVA, farklı grupların ortalamalarının eşit olup olmadığını test etmek için kullanılır. Bu gruplar farklı tedavi yöntemlerini, veri alt kümelerini kategorize edilen grupları veya bağımsız bir değişken tarafından tanımlanan herhangi bir grupları temsil edebilir.</span>\n",
    "\n",
    "<span style=\"font-size: 15px; color: black; background-color: transparent;line-height: 1;\">ANOVA'nın üç temel türü vardır:</span>\n",
    "\n",
    "* One-Way ANOVA: Tek bir bağımsız değişkenin (örneğin, farklı tedavi yöntemleri) farklı gruplar üzerindeki etkisini incelemek için kullanılır.\n",
    "\n",
    "* Two-Way ANOVA:  İki bağımsız değişkenin (örneğin, tedavi yöntemleri ve cinsiyet) gruplar üzerindeki etkilerini incelemek için kullanılır.\n",
    "\n",
    "* Repeated Measures ANOVA: Aynı örnekleme üzerinde farklı koşullar altında yapılan ölçümleri analiz etmek için kullanılır. Örneğin, aynı bireyler üzerinde farklı zamanlarda yapılan ölçümleri karşılaştırmak için kullanılabilir.\n",
    "\n",
    "\n",
    "<span style=\"font-size: 15px; color: black; background-color: transparent;line-height: 1;\">ANOVA, gruplar arasındaki farkların istatistiksel olarak anlamlı olup olmadığını belirlemek için bir test istatistiği kullanır. Test sonucuna göre grup ortalamaları arasında anlamlı bir fark olup olmadığı belirlenir. ANOVA sonuçları, gruplar arasındaki olumlu bir farklılığın olduğunu gösteriyorsa, daha fazla analizler (örneğin, post-hoc testler) yapılabilir.\n",
    "</span>\n",
    "\n",
    "<span style=\"font-size: 15px; color: black; background-color: transparent;line-height: 1;\">ANOVA, gruplar arasındaki farkları incelemek için araştırma çalışmaları, tıp, psikoloji, sosyal bilimler, işletme ve birçok diğer alanlarda geniş bir şekilde kullanılır.</span>\n",
    "\n",
    "* ***Litaritürde F istatistiği olarakda geçmektedir.***\n",
    "\n",
    "$H_0$ : $μ_1$ =  $μ_2$ =  $μ_3$\n",
    "\n",
    "$H_1$ : Eşit değildir. (En az birisi farklı).\n",
    "\n"
   ]
  },
  {
   "cell_type": "markdown",
   "id": "61e6e612",
   "metadata": {
    "papermill": {
     "duration": 0.059782,
     "end_time": "2023-12-31T11:50:17.912903",
     "exception": false,
     "start_time": "2023-12-31T11:50:17.853121",
     "status": "completed"
    },
    "tags": []
   },
   "source": [
    "***Varsayımlar***:\n",
    "\n",
    "* Grupların bağımsızlığı\n",
    "* Normal dağılım\n",
    "* Varyans homojenliği"
   ]
  },
  {
   "cell_type": "markdown",
   "id": "742b416e",
   "metadata": {
    "papermill": {
     "duration": 0.060794,
     "end_time": "2023-12-31T11:50:18.034151",
     "exception": false,
     "start_time": "2023-12-31T11:50:17.973357",
     "status": "completed"
    },
    "tags": []
   },
   "source": [
    "#### **Problem**: Bir haber sitesinde başlık tiplerine göre tıklama sayilarının aralarında fark olup olmadığı incelenmek isteniyor.\n",
    "\n",
    "A : Haber olduğu gibi sunuluyor.\n",
    "\n",
    "B : Haber yönlendirici başlık ile sunuluyor.\n",
    "\n",
    "C : Haber ilgi çekici bir manşet ile sunuluyor."
   ]
  },
  {
   "cell_type": "code",
   "execution_count": 54,
   "id": "81e13b46",
   "metadata": {
    "execution": {
     "iopub.execute_input": "2023-12-31T11:50:18.156141Z",
     "iopub.status.busy": "2023-12-31T11:50:18.155759Z",
     "iopub.status.idle": "2023-12-31T11:50:18.161599Z",
     "shell.execute_reply": "2023-12-31T11:50:18.160421Z"
    },
    "papermill": {
     "duration": 0.069149,
     "end_time": "2023-12-31T11:50:18.163871",
     "exception": false,
     "start_time": "2023-12-31T11:50:18.094722",
     "status": "completed"
    },
    "tags": []
   },
   "outputs": [],
   "source": [
    "A=np.random.normal(25,5,30)\n",
    "B=np.random.normal(30,5,30)\n",
    "C=np.random.normal(38,5,30)"
   ]
  },
  {
   "cell_type": "code",
   "execution_count": 55,
   "id": "324d6ac3",
   "metadata": {
    "execution": {
     "iopub.execute_input": "2023-12-31T11:50:18.290606Z",
     "iopub.status.busy": "2023-12-31T11:50:18.290202Z",
     "iopub.status.idle": "2023-12-31T11:50:18.302387Z",
     "shell.execute_reply": "2023-12-31T11:50:18.301165Z"
    },
    "papermill": {
     "duration": 0.081229,
     "end_time": "2023-12-31T11:50:18.305238",
     "exception": false,
     "start_time": "2023-12-31T11:50:18.224009",
     "status": "completed"
    },
    "tags": []
   },
   "outputs": [
    {
     "data": {
      "text/html": [
       "<div>\n",
       "<style scoped>\n",
       "    .dataframe tbody tr th:only-of-type {\n",
       "        vertical-align: middle;\n",
       "    }\n",
       "\n",
       "    .dataframe tbody tr th {\n",
       "        vertical-align: top;\n",
       "    }\n",
       "\n",
       "    .dataframe thead th {\n",
       "        text-align: right;\n",
       "    }\n",
       "</style>\n",
       "<table border=\"1\" class=\"dataframe\">\n",
       "  <thead>\n",
       "    <tr style=\"text-align: right;\">\n",
       "      <th></th>\n",
       "      <th>Group_A</th>\n",
       "      <th>Group_B</th>\n",
       "      <th>Group_C</th>\n",
       "    </tr>\n",
       "  </thead>\n",
       "  <tbody>\n",
       "    <tr>\n",
       "      <th>0</th>\n",
       "      <td>26</td>\n",
       "      <td>25</td>\n",
       "      <td>38</td>\n",
       "    </tr>\n",
       "    <tr>\n",
       "      <th>1</th>\n",
       "      <td>30</td>\n",
       "      <td>21</td>\n",
       "      <td>38</td>\n",
       "    </tr>\n",
       "    <tr>\n",
       "      <th>2</th>\n",
       "      <td>17</td>\n",
       "      <td>29</td>\n",
       "      <td>40</td>\n",
       "    </tr>\n",
       "    <tr>\n",
       "      <th>3</th>\n",
       "      <td>31</td>\n",
       "      <td>25</td>\n",
       "      <td>37</td>\n",
       "    </tr>\n",
       "    <tr>\n",
       "      <th>4</th>\n",
       "      <td>24</td>\n",
       "      <td>25</td>\n",
       "      <td>38</td>\n",
       "    </tr>\n",
       "  </tbody>\n",
       "</table>\n",
       "</div>"
      ],
      "text/plain": [
       "   Group_A  Group_B  Group_C\n",
       "0       26       25       38\n",
       "1       30       21       38\n",
       "2       17       29       40\n",
       "3       31       25       37\n",
       "4       24       25       38"
      ]
     },
     "execution_count": 55,
     "metadata": {},
     "output_type": "execute_result"
    }
   ],
   "source": [
    "ABC=pd.DataFrame({\"Group_A\":A.astype(int),\"Group_B\":B.astype(int),\"Group_C\":C.astype(int)})\n",
    "ABC.head()"
   ]
  },
  {
   "cell_type": "code",
   "execution_count": 56,
   "id": "eaebdeb1",
   "metadata": {
    "execution": {
     "iopub.execute_input": "2023-12-31T11:50:18.428235Z",
     "iopub.status.busy": "2023-12-31T11:50:18.427805Z",
     "iopub.status.idle": "2023-12-31T11:50:18.443059Z",
     "shell.execute_reply": "2023-12-31T11:50:18.441952Z"
    },
    "papermill": {
     "duration": 0.079498,
     "end_time": "2023-12-31T11:50:18.445517",
     "exception": false,
     "start_time": "2023-12-31T11:50:18.366019",
     "status": "completed"
    },
    "tags": []
   },
   "outputs": [
    {
     "data": {
      "text/html": [
       "<div>\n",
       "<style scoped>\n",
       "    .dataframe tbody tr th:only-of-type {\n",
       "        vertical-align: middle;\n",
       "    }\n",
       "\n",
       "    .dataframe tbody tr th {\n",
       "        vertical-align: top;\n",
       "    }\n",
       "\n",
       "    .dataframe thead th {\n",
       "        text-align: right;\n",
       "    }\n",
       "</style>\n",
       "<table border=\"1\" class=\"dataframe\">\n",
       "  <thead>\n",
       "    <tr style=\"text-align: right;\">\n",
       "      <th></th>\n",
       "      <th>Group</th>\n",
       "      <th>Click</th>\n",
       "    </tr>\n",
       "  </thead>\n",
       "  <tbody>\n",
       "    <tr>\n",
       "      <th>0</th>\n",
       "      <td>Group_A</td>\n",
       "      <td>26</td>\n",
       "    </tr>\n",
       "    <tr>\n",
       "      <th>1</th>\n",
       "      <td>Group_B</td>\n",
       "      <td>25</td>\n",
       "    </tr>\n",
       "    <tr>\n",
       "      <th>2</th>\n",
       "      <td>Group_C</td>\n",
       "      <td>38</td>\n",
       "    </tr>\n",
       "    <tr>\n",
       "      <th>3</th>\n",
       "      <td>Group_A</td>\n",
       "      <td>30</td>\n",
       "    </tr>\n",
       "    <tr>\n",
       "      <th>4</th>\n",
       "      <td>Group_B</td>\n",
       "      <td>21</td>\n",
       "    </tr>\n",
       "  </tbody>\n",
       "</table>\n",
       "</div>"
      ],
      "text/plain": [
       "     Group  Click\n",
       "0  Group_A     26\n",
       "1  Group_B     25\n",
       "2  Group_C     38\n",
       "3  Group_A     30\n",
       "4  Group_B     21"
      ]
     },
     "execution_count": 56,
     "metadata": {},
     "output_type": "execute_result"
    }
   ],
   "source": [
    "jointly=ABC.stack().reset_index().drop(columns=\"level_0\")\n",
    "jointly.columns=[\"Group\", \"Click\"]\n",
    "jointly.head()"
   ]
  },
  {
   "cell_type": "code",
   "execution_count": 57,
   "id": "07fce279",
   "metadata": {
    "execution": {
     "iopub.execute_input": "2023-12-31T11:50:18.567917Z",
     "iopub.status.busy": "2023-12-31T11:50:18.566800Z",
     "iopub.status.idle": "2023-12-31T11:50:18.841583Z",
     "shell.execute_reply": "2023-12-31T11:50:18.840461Z"
    },
    "papermill": {
     "duration": 0.338716,
     "end_time": "2023-12-31T11:50:18.844130",
     "exception": false,
     "start_time": "2023-12-31T11:50:18.505414",
     "status": "completed"
    },
    "tags": []
   },
   "outputs": [
    {
     "data": {
      "image/png": "[encoded data removed]",
      "text/plain": [
       "<Figure size 640x480 with 1 Axes>"
      ]
     },
     "metadata": {},
     "output_type": "display_data"
    }
   ],
   "source": [
    "sns.boxplot(x=\"Group\",y=\"Click\",data=jointly);"
   ]
  },
  {
   "cell_type": "markdown",
   "id": "bde1491f",
   "metadata": {
    "papermill": {
     "duration": 0.060023,
     "end_time": "2023-12-31T11:50:18.964341",
     "exception": false,
     "start_time": "2023-12-31T11:50:18.904318",
     "status": "completed"
    },
    "tags": []
   },
   "source": [
    "##### ***Bu grafikte gruplar arasında bir fark var gibi görünüyor. Bir göz atalım.***"
   ]
  },
  {
   "cell_type": "markdown",
   "id": "2050bd9b",
   "metadata": {
    "papermill": {
     "duration": 0.060383,
     "end_time": "2023-12-31T11:50:19.084981",
     "exception": false,
     "start_time": "2023-12-31T11:50:19.024598",
     "status": "completed"
    },
    "tags": []
   },
   "source": [
    "<a id =\"6.1\"></a>\n",
    "### **Parametrik Hipotez Testi**"
   ]
  },
  {
   "cell_type": "markdown",
   "id": "5883b650",
   "metadata": {
    "papermill": {
     "duration": 0.06008,
     "end_time": "2023-12-31T11:50:19.205172",
     "exception": false,
     "start_time": "2023-12-31T11:50:19.145092",
     "status": "completed"
    },
    "tags": []
   },
   "source": [
    "### **Varsayım Kontrolleri**"
   ]
  },
  {
   "cell_type": "markdown",
   "id": "284ef7f8",
   "metadata": {
    "papermill": {
     "duration": 0.060501,
     "end_time": "2023-12-31T11:50:19.327970",
     "exception": false,
     "start_time": "2023-12-31T11:50:19.267469",
     "status": "completed"
    },
    "tags": []
   },
   "source": [
    "### Normallik Varsayımı Testi"
   ]
  },
  {
   "cell_type": "code",
   "execution_count": 58,
   "id": "7f99833d",
   "metadata": {
    "execution": {
     "iopub.execute_input": "2023-12-31T11:50:19.451610Z",
     "iopub.status.busy": "2023-12-31T11:50:19.450330Z",
     "iopub.status.idle": "2023-12-31T11:50:19.458420Z",
     "shell.execute_reply": "2023-12-31T11:50:19.457354Z"
    },
    "papermill": {
     "duration": 0.072554,
     "end_time": "2023-12-31T11:50:19.460731",
     "exception": false,
     "start_time": "2023-12-31T11:50:19.388177",
     "status": "completed"
    },
    "tags": []
   },
   "outputs": [
    {
     "data": {
      "text/plain": [
       "ShapiroResult(statistic=0.9691731929779053, pvalue=0.5168063044548035)"
      ]
     },
     "execution_count": 58,
     "metadata": {},
     "output_type": "execute_result"
    }
   ],
   "source": [
    "shapiro(ABC.Group_A)"
   ]
  },
  {
   "cell_type": "code",
   "execution_count": 59,
   "id": "ea24266c",
   "metadata": {
    "execution": {
     "iopub.execute_input": "2023-12-31T11:50:19.587104Z",
     "iopub.status.busy": "2023-12-31T11:50:19.586007Z",
     "iopub.status.idle": "2023-12-31T11:50:19.593577Z",
     "shell.execute_reply": "2023-12-31T11:50:19.592342Z"
    },
    "papermill": {
     "duration": 0.074427,
     "end_time": "2023-12-31T11:50:19.595905",
     "exception": false,
     "start_time": "2023-12-31T11:50:19.521478",
     "status": "completed"
    },
    "tags": []
   },
   "outputs": [
    {
     "data": {
      "text/plain": [
       "ShapiroResult(statistic=0.974890410900116, pvalue=0.6794990301132202)"
      ]
     },
     "execution_count": 59,
     "metadata": {},
     "output_type": "execute_result"
    }
   ],
   "source": [
    "shapiro(ABC.Group_B)"
   ]
  },
  {
   "cell_type": "code",
   "execution_count": 60,
   "id": "023693a3",
   "metadata": {
    "execution": {
     "iopub.execute_input": "2023-12-31T11:50:19.745187Z",
     "iopub.status.busy": "2023-12-31T11:50:19.743869Z",
     "iopub.status.idle": "2023-12-31T11:50:19.752202Z",
     "shell.execute_reply": "2023-12-31T11:50:19.751102Z"
    },
    "papermill": {
     "duration": 0.078631,
     "end_time": "2023-12-31T11:50:19.754534",
     "exception": false,
     "start_time": "2023-12-31T11:50:19.675903",
     "status": "completed"
    },
    "tags": []
   },
   "outputs": [
    {
     "data": {
      "text/plain": [
       "ShapiroResult(statistic=0.9535415768623352, pvalue=0.21012698113918304)"
      ]
     },
     "execution_count": 60,
     "metadata": {},
     "output_type": "execute_result"
    }
   ],
   "source": [
    "shapiro(ABC.Group_C)"
   ]
  },
  {
   "cell_type": "markdown",
   "id": "97354b0c",
   "metadata": {
    "papermill": {
     "duration": 0.062191,
     "end_time": "2023-12-31T11:50:19.883201",
     "exception": false,
     "start_time": "2023-12-31T11:50:19.821010",
     "status": "completed"
    },
    "tags": []
   },
   "source": [
    "### Varyans Homojenliği Testi"
   ]
  },
  {
   "cell_type": "code",
   "execution_count": 61,
   "id": "a8963833",
   "metadata": {
    "execution": {
     "iopub.execute_input": "2023-12-31T11:50:20.016175Z",
     "iopub.status.busy": "2023-12-31T11:50:20.014977Z",
     "iopub.status.idle": "2023-12-31T11:50:20.024282Z",
     "shell.execute_reply": "2023-12-31T11:50:20.023307Z"
    },
    "papermill": {
     "duration": 0.076095,
     "end_time": "2023-12-31T11:50:20.027440",
     "exception": false,
     "start_time": "2023-12-31T11:50:19.951345",
     "status": "completed"
    },
    "tags": []
   },
   "outputs": [
    {
     "data": {
      "text/plain": [
       "LeveneResult(statistic=0.9153649623233406, pvalue=0.40419129131183407)"
      ]
     },
     "execution_count": 61,
     "metadata": {},
     "output_type": "execute_result"
    }
   ],
   "source": [
    "stats.levene(ABC.Group_A,ABC.Group_B,ABC.Group_C)"
   ]
  },
  {
   "cell_type": "markdown",
   "id": "620a3ab8",
   "metadata": {
    "papermill": {
     "duration": 0.063403,
     "end_time": "2023-12-31T11:50:20.166007",
     "exception": false,
     "start_time": "2023-12-31T11:50:20.102604",
     "status": "completed"
    },
    "tags": []
   },
   "source": [
    "### Hipotez Testi"
   ]
  },
  {
   "cell_type": "code",
   "execution_count": 62,
   "id": "5a97a0ec",
   "metadata": {
    "execution": {
     "iopub.execute_input": "2023-12-31T11:50:20.330497Z",
     "iopub.status.busy": "2023-12-31T11:50:20.329075Z",
     "iopub.status.idle": "2023-12-31T11:50:20.338405Z",
     "shell.execute_reply": "2023-12-31T11:50:20.337417Z"
    },
    "papermill": {
     "duration": 0.08883,
     "end_time": "2023-12-31T11:50:20.340801",
     "exception": false,
     "start_time": "2023-12-31T11:50:20.251971",
     "status": "completed"
    },
    "tags": []
   },
   "outputs": [
    {
     "data": {
      "text/plain": [
       "F_onewayResult(statistic=38.5119865981168, pvalue=1.0486214403982402e-12)"
      ]
     },
     "execution_count": 62,
     "metadata": {},
     "output_type": "execute_result"
    }
   ],
   "source": [
    "from scipy.stats import f_oneway\n",
    "f_oneway(ABC.Group_A,ABC.Group_B,ABC.Group_C)"
   ]
  },
  {
   "cell_type": "markdown",
   "id": "5d01fdd5",
   "metadata": {
    "papermill": {
     "duration": 0.061215,
     "end_time": "2023-12-31T11:50:20.463644",
     "exception": false,
     "start_time": "2023-12-31T11:50:20.402429",
     "status": "completed"
    },
    "tags": []
   },
   "source": [
    "##### ***Bu durumda, tüm ortalamaların eşit olduğunu iddia eden boş hipotez (H0) reddedilir.***\n",
    "\n",
    "##### ***Bu farkın hangi grubun neden olduğunu bulmak istersek, Tukey testi ile bunu öğrenebiliriz***"
   ]
  },
  {
   "cell_type": "code",
   "execution_count": 63,
   "id": "faa925a7",
   "metadata": {
    "execution": {
     "iopub.execute_input": "2023-12-31T11:50:20.589733Z",
     "iopub.status.busy": "2023-12-31T11:50:20.588638Z",
     "iopub.status.idle": "2023-12-31T11:50:20.995702Z",
     "shell.execute_reply": "2023-12-31T11:50:20.994382Z"
    },
    "papermill": {
     "duration": 0.473569,
     "end_time": "2023-12-31T11:50:20.998525",
     "exception": false,
     "start_time": "2023-12-31T11:50:20.524956",
     "status": "completed"
    },
    "tags": []
   },
   "outputs": [],
   "source": [
    "from statsmodels.stats.multicomp import MultiComparison\n",
    "comparison = MultiComparison(jointly[\"Click\"],jointly[\"Group\"])\n",
    "tukey = comparison.tukeyhsd(0.000000000005)"
   ]
  },
  {
   "cell_type": "code",
   "execution_count": 64,
   "id": "0797c323",
   "metadata": {
    "execution": {
     "iopub.execute_input": "2023-12-31T11:50:21.127845Z",
     "iopub.status.busy": "2023-12-31T11:50:21.127400Z",
     "iopub.status.idle": "2023-12-31T11:50:21.139584Z",
     "shell.execute_reply": "2023-12-31T11:50:21.138252Z"
    },
    "papermill": {
     "duration": 0.081493,
     "end_time": "2023-12-31T11:50:21.142329",
     "exception": false,
     "start_time": "2023-12-31T11:50:21.060836",
     "status": "completed"
    },
    "tags": []
   },
   "outputs": [
    {
     "data": {
      "text/html": [
       "<table class=\"simpletable\">\n",
       "<caption>Multiple Comparison of Means - Tukey HSD, FWER=0.00</caption>\n",
       "<tr>\n",
       "  <th>group1</th>  <th>group2</th>  <th>meandiff</th>  <th>p-adj</th>  <th>lower</th>   <th>upper</th>  <th>reject</th>\n",
       "</tr>\n",
       "<tr>\n",
       "  <td>Group_A</td> <td>Group_B</td>  <td>5.5333</td>  <td>0.0002</td> <td>-5.4149</td> <td>16.4816</td>  <td>False</td>\n",
       "</tr>\n",
       "<tr>\n",
       "  <td>Group_A</td> <td>Group_C</td>  <td>11.6667</td>   <td>0.0</td>  <td>0.7184</td>  <td>22.6149</td>  <td>True</td> \n",
       "</tr>\n",
       "<tr>\n",
       "  <td>Group_B</td> <td>Group_C</td>  <td>6.1333</td>    <td>0.0</td>  <td>-4.8149</td> <td>17.0816</td>  <td>False</td>\n",
       "</tr>\n",
       "</table>"
      ],
      "text/latex": [
       "\\begin{center}\n",
       "\\begin{tabular}{ccccccc}\n",
       "\\toprule\n",
       "\\textbf{group1} & \\textbf{group2} & \\textbf{meandiff} & \\textbf{p-adj} & \\textbf{lower} & \\textbf{upper} & \\textbf{reject}  \\\\\n",
       "\\midrule\n",
       "    Group\\_A    &     Group\\_B    &       5.5333      &     0.0002     &    -5.4149     &    16.4816     &      False       \\\\\n",
       "    Group\\_A    &     Group\\_C    &      11.6667      &      0.0       &     0.7184     &    22.6149     &       True       \\\\\n",
       "    Group\\_B    &     Group\\_C    &       6.1333      &      0.0       &    -4.8149     &    17.0816     &      False       \\\\\n",
       "\\bottomrule\n",
       "\\end{tabular}\n",
       "%\\caption{Multiple Comparison of Means - Tukey HSD, FWER=0.00}\n",
       "\\end{center}"
      ],
      "text/plain": [
       "<class 'statsmodels.iolib.table.SimpleTable'>"
      ]
     },
     "execution_count": 64,
     "metadata": {},
     "output_type": "execute_result"
    }
   ],
   "source": [
    "tukey.summary()"
   ]
  },
  {
   "cell_type": "markdown",
   "id": "25c30b9c",
   "metadata": {
    "papermill": {
     "duration": 0.063375,
     "end_time": "2023-12-31T11:50:21.268656",
     "exception": false,
     "start_time": "2023-12-31T11:50:21.205281",
     "status": "completed"
    },
    "tags": []
   },
   "source": [
    "##### ***Bu farka en çok katkı sağlayan iki grup, A ve C gruplarıdır.***"
   ]
  },
  {
   "cell_type": "markdown",
   "id": "1d1dee31",
   "metadata": {
    "papermill": {
     "duration": 0.061671,
     "end_time": "2023-12-31T11:50:21.396067",
     "exception": false,
     "start_time": "2023-12-31T11:50:21.334396",
     "status": "completed"
    },
    "tags": []
   },
   "source": [
    "<a id =\"6.2\"></a>\n",
    "### **Nonparametrik Hipotez Testi**"
   ]
  },
  {
   "cell_type": "markdown",
   "id": "eff83401",
   "metadata": {
    "papermill": {
     "duration": 0.061419,
     "end_time": "2023-12-31T11:50:21.521029",
     "exception": false,
     "start_time": "2023-12-31T11:50:21.459610",
     "status": "completed"
    },
    "tags": []
   },
   "source": [
    "##### **Varsayımlar karşılanmadığında kullanılacak hipotez testi.**"
   ]
  },
  {
   "cell_type": "code",
   "execution_count": 65,
   "id": "005b554d",
   "metadata": {
    "execution": {
     "iopub.execute_input": "2023-12-31T11:50:21.646755Z",
     "iopub.status.busy": "2023-12-31T11:50:21.646323Z",
     "iopub.status.idle": "2023-12-31T11:50:21.656849Z",
     "shell.execute_reply": "2023-12-31T11:50:21.655830Z"
    },
    "papermill": {
     "duration": 0.07585,
     "end_time": "2023-12-31T11:50:21.659333",
     "exception": false,
     "start_time": "2023-12-31T11:50:21.583483",
     "status": "completed"
    },
    "tags": []
   },
   "outputs": [
    {
     "data": {
      "text/plain": [
       "KruskalResult(statistic=43.5402580492424, pvalue=3.5103716157943383e-10)"
      ]
     },
     "execution_count": 65,
     "metadata": {},
     "output_type": "execute_result"
    }
   ],
   "source": [
    "from scipy.stats import kruskal\n",
    "kruskal(ABC.Group_A,ABC.Group_B,ABC.Group_C)"
   ]
  },
  {
   "cell_type": "markdown",
   "id": "4c477b1c",
   "metadata": {
    "papermill": {
     "duration": 0.062771,
     "end_time": "2023-12-31T11:50:21.786311",
     "exception": false,
     "start_time": "2023-12-31T11:50:21.723540",
     "status": "completed"
    },
    "tags": []
   },
   "source": [
    "<a id =\"7\"></a>\n",
    "<div style=\"background-color: #D3D3D3; font-family: newtimeroman; font-size: 120%; color: black; text-align: center; border-radius: 80px; padding: 7px; border: solid 5px #4F4F4F;\">\n",
    "    <h1 id=\"0.09\">Korelasyon Analizi</h1>\n",
    "</div>"
   ]
  },
  {
   "cell_type": "markdown",
   "id": "3e99fab6",
   "metadata": {
    "papermill": {
     "duration": 0.061538,
     "end_time": "2023-12-31T11:50:21.909929",
     "exception": false,
     "start_time": "2023-12-31T11:50:21.848391",
     "status": "completed"
    },
    "tags": []
   },
   "source": [
    "<span style=\"font-size: 15px; color: black; background-color: transparent;line-height: 1;\">Korelasyon analizi, iki veya daha fazla değişken arasındaki ilişkiyi inceleyen istatistiksel bir analiz yöntemidir. Korelasyon, iki değişken arasındaki ilişkinin derecesini ve yönünü (pozitif veya negatif) ölçer. Korelasyon analizi, bir veri setindeki değişkenler arasındaki ilişkiyi anlama, bu ilişkiyi ölçme ve gelecekteki tahminlerde veya karar verme süreçlerinde kullanma konusunda önemli bir araçtır.</span>\n",
    "\n",
    "<span style=\"font-size: 15px; color: black; background-color: transparent;line-height: 1;\">Korelasyon analizi genellikle Pearson Korelasyon Katsayısı veya Spearman Korelasyon Katsayısı gibi ölçüler kullanılarak gerçekleştirilir. İşte bu iki tür korelasyonun temel özellikleri:</span>\n",
    "\n",
    "* Pearson Korelasyon Katsayısı: Pearson korelasyon, iki sürekli değişken arasındaki doğrusal ilişkiyi ölçer. Değişkenler arasındaki ilişkinin değeri +1 ile -1 arasında bir değere sahiptir. +1, mükemmel pozitif bir korelasyonu temsil eder (iki değişken arasında pozitif bir doğrusal ilişki olduğunu gösterir), -1 ise mükemmel negatif bir korelasyonu temsil eder (iki değişken arasında negatif bir doğrusal ilişki olduğunu gösterir). 0, değişkenler arasında bir ilişki olmadığını gösterir.\n",
    "\n",
    "* Spearman Korelasyon Katsayısı: Spearman korelasyon, iki değişken arasındaki ilişkiyi ölçer, ancak bu ilişki zorunlu olarak doğrusal değildir; sıralamaya dayalıdır. Spearman korelasyon, sıralama verileri veya sıralı ölçekler arasındaki ilişkileri incelemek için yaygın olarak kullanılır.\n",
    "\n",
    "<span style=\"font-size: 15px; color: black; background-color: transparent;line-height: 1;\">Korelasyon analizi, bir değişkenin diğerini nasıl etkilediğini anlamak, tahminler yapmak veya bağımsız değişkenlerin bir sonucu nasıl etkilediğini incelemek için kullanılır. Örneğin, bir pazarlamacı, reklam harcamaları ile satışlar arasındaki korelasyonu inceleyerek reklam stratejilerini optimize etmek için kullanabilir. Korelasyon analizi aynı zamanda bilimsel araştırmalarda, ekonomik analizlerde ve birçok diğer disiplinde veri analizi için hayati bir araçtır.</span>\n",
    "\n",
    "$H_0$ : ᴩ  =  0\n",
    "\n",
    "$H_1$: ᴩ ≠ 0"
   ]
  },
  {
   "cell_type": "markdown",
   "id": "7d273584",
   "metadata": {
    "papermill": {
     "duration": 0.063325,
     "end_time": "2023-12-31T11:50:22.035639",
     "exception": false,
     "start_time": "2023-12-31T11:50:21.972314",
     "status": "completed"
    },
    "tags": []
   },
   "source": [
    "### **Varsayım Kontrolleri**\n",
    "\n",
    "* Her iki değişken için de normallik varsayımına bakılır,\n",
    "* Eğer varsayım karşılanıyorsa, o zaman **Pearson** Korelasyon Katsayısı kullanılır.\n",
    "* Eğer varsayım karşılanmıyorsa, o zaman **Spearman** Korelasyon Katsayısı kullanılır."
   ]
  },
  {
   "cell_type": "markdown",
   "id": "c8926508",
   "metadata": {
    "papermill": {
     "duration": 0.061257,
     "end_time": "2023-12-31T11:50:22.159521",
     "exception": false,
     "start_time": "2023-12-31T11:50:22.098264",
     "status": "completed"
    },
    "tags": []
   },
   "source": [
    "#### **Problem**: tip ile total_bill arasında bir korelasyon var mı?"
   ]
  },
  {
   "cell_type": "code",
   "execution_count": 66,
   "id": "1660e304",
   "metadata": {
    "execution": {
     "iopub.execute_input": "2023-12-31T11:50:22.286994Z",
     "iopub.status.busy": "2023-12-31T11:50:22.286190Z",
     "iopub.status.idle": "2023-12-31T11:50:22.999889Z",
     "shell.execute_reply": "2023-12-31T11:50:22.998225Z"
    },
    "papermill": {
     "duration": 0.78144,
     "end_time": "2023-12-31T11:50:23.002890",
     "exception": false,
     "start_time": "2023-12-31T11:50:22.221450",
     "status": "completed"
    },
    "tags": []
   },
   "outputs": [
    {
     "data": {
      "text/html": [
       "<div>\n",
       "<style scoped>\n",
       "    .dataframe tbody tr th:only-of-type {\n",
       "        vertical-align: middle;\n",
       "    }\n",
       "\n",
       "    .dataframe tbody tr th {\n",
       "        vertical-align: top;\n",
       "    }\n",
       "\n",
       "    .dataframe thead th {\n",
       "        text-align: right;\n",
       "    }\n",
       "</style>\n",
       "<table border=\"1\" class=\"dataframe\">\n",
       "  <thead>\n",
       "    <tr style=\"text-align: right;\">\n",
       "      <th></th>\n",
       "      <th>total_bill</th>\n",
       "      <th>tip</th>\n",
       "      <th>sex</th>\n",
       "      <th>smoker</th>\n",
       "      <th>day</th>\n",
       "      <th>time</th>\n",
       "      <th>size</th>\n",
       "    </tr>\n",
       "  </thead>\n",
       "  <tbody>\n",
       "    <tr>\n",
       "      <th>0</th>\n",
       "      <td>16.99</td>\n",
       "      <td>1.01</td>\n",
       "      <td>Female</td>\n",
       "      <td>No</td>\n",
       "      <td>Sun</td>\n",
       "      <td>Dinner</td>\n",
       "      <td>2</td>\n",
       "    </tr>\n",
       "    <tr>\n",
       "      <th>1</th>\n",
       "      <td>10.34</td>\n",
       "      <td>1.66</td>\n",
       "      <td>Male</td>\n",
       "      <td>No</td>\n",
       "      <td>Sun</td>\n",
       "      <td>Dinner</td>\n",
       "      <td>3</td>\n",
       "    </tr>\n",
       "    <tr>\n",
       "      <th>2</th>\n",
       "      <td>21.01</td>\n",
       "      <td>3.50</td>\n",
       "      <td>Male</td>\n",
       "      <td>No</td>\n",
       "      <td>Sun</td>\n",
       "      <td>Dinner</td>\n",
       "      <td>3</td>\n",
       "    </tr>\n",
       "    <tr>\n",
       "      <th>3</th>\n",
       "      <td>23.68</td>\n",
       "      <td>3.31</td>\n",
       "      <td>Male</td>\n",
       "      <td>No</td>\n",
       "      <td>Sun</td>\n",
       "      <td>Dinner</td>\n",
       "      <td>2</td>\n",
       "    </tr>\n",
       "    <tr>\n",
       "      <th>4</th>\n",
       "      <td>24.59</td>\n",
       "      <td>3.61</td>\n",
       "      <td>Female</td>\n",
       "      <td>No</td>\n",
       "      <td>Sun</td>\n",
       "      <td>Dinner</td>\n",
       "      <td>4</td>\n",
       "    </tr>\n",
       "  </tbody>\n",
       "</table>\n",
       "</div>"
      ],
      "text/plain": [
       "   total_bill   tip     sex smoker  day    time  size\n",
       "0       16.99  1.01  Female     No  Sun  Dinner     2\n",
       "1       10.34  1.66    Male     No  Sun  Dinner     3\n",
       "2       21.01  3.50    Male     No  Sun  Dinner     3\n",
       "3       23.68  3.31    Male     No  Sun  Dinner     2\n",
       "4       24.59  3.61  Female     No  Sun  Dinner     4"
      ]
     },
     "execution_count": 66,
     "metadata": {},
     "output_type": "execute_result"
    }
   ],
   "source": [
    "import seaborn as sns\n",
    "tips=sns.load_dataset(\"tips\")\n",
    "df=tips.copy()\n",
    "df.head()"
   ]
  },
  {
   "cell_type": "markdown",
   "id": "e53fc268",
   "metadata": {
    "papermill": {
     "duration": 0.062476,
     "end_time": "2023-12-31T11:50:23.129005",
     "exception": false,
     "start_time": "2023-12-31T11:50:23.066529",
     "status": "completed"
    },
    "tags": []
   },
   "source": [
    "##### Bu veri setinde \"tip\", \"total_bill\" e dahil olduğu için, total_bill den tip değişkenini çıkarmamız gerekiyor."
   ]
  },
  {
   "cell_type": "code",
   "execution_count": 67,
   "id": "1e8795c7",
   "metadata": {
    "execution": {
     "iopub.execute_input": "2023-12-31T11:50:23.256125Z",
     "iopub.status.busy": "2023-12-31T11:50:23.254852Z",
     "iopub.status.idle": "2023-12-31T11:50:23.272166Z",
     "shell.execute_reply": "2023-12-31T11:50:23.271152Z"
    },
    "papermill": {
     "duration": 0.083577,
     "end_time": "2023-12-31T11:50:23.274554",
     "exception": false,
     "start_time": "2023-12-31T11:50:23.190977",
     "status": "completed"
    },
    "tags": []
   },
   "outputs": [
    {
     "data": {
      "text/html": [
       "<div>\n",
       "<style scoped>\n",
       "    .dataframe tbody tr th:only-of-type {\n",
       "        vertical-align: middle;\n",
       "    }\n",
       "\n",
       "    .dataframe tbody tr th {\n",
       "        vertical-align: top;\n",
       "    }\n",
       "\n",
       "    .dataframe thead th {\n",
       "        text-align: right;\n",
       "    }\n",
       "</style>\n",
       "<table border=\"1\" class=\"dataframe\">\n",
       "  <thead>\n",
       "    <tr style=\"text-align: right;\">\n",
       "      <th></th>\n",
       "      <th>total_bill</th>\n",
       "      <th>tip</th>\n",
       "      <th>sex</th>\n",
       "      <th>smoker</th>\n",
       "      <th>day</th>\n",
       "      <th>time</th>\n",
       "      <th>size</th>\n",
       "    </tr>\n",
       "  </thead>\n",
       "  <tbody>\n",
       "    <tr>\n",
       "      <th>0</th>\n",
       "      <td>15.98</td>\n",
       "      <td>1.01</td>\n",
       "      <td>Female</td>\n",
       "      <td>No</td>\n",
       "      <td>Sun</td>\n",
       "      <td>Dinner</td>\n",
       "      <td>2</td>\n",
       "    </tr>\n",
       "    <tr>\n",
       "      <th>1</th>\n",
       "      <td>8.68</td>\n",
       "      <td>1.66</td>\n",
       "      <td>Male</td>\n",
       "      <td>No</td>\n",
       "      <td>Sun</td>\n",
       "      <td>Dinner</td>\n",
       "      <td>3</td>\n",
       "    </tr>\n",
       "    <tr>\n",
       "      <th>2</th>\n",
       "      <td>17.51</td>\n",
       "      <td>3.50</td>\n",
       "      <td>Male</td>\n",
       "      <td>No</td>\n",
       "      <td>Sun</td>\n",
       "      <td>Dinner</td>\n",
       "      <td>3</td>\n",
       "    </tr>\n",
       "    <tr>\n",
       "      <th>3</th>\n",
       "      <td>20.37</td>\n",
       "      <td>3.31</td>\n",
       "      <td>Male</td>\n",
       "      <td>No</td>\n",
       "      <td>Sun</td>\n",
       "      <td>Dinner</td>\n",
       "      <td>2</td>\n",
       "    </tr>\n",
       "    <tr>\n",
       "      <th>4</th>\n",
       "      <td>20.98</td>\n",
       "      <td>3.61</td>\n",
       "      <td>Female</td>\n",
       "      <td>No</td>\n",
       "      <td>Sun</td>\n",
       "      <td>Dinner</td>\n",
       "      <td>4</td>\n",
       "    </tr>\n",
       "  </tbody>\n",
       "</table>\n",
       "</div>"
      ],
      "text/plain": [
       "   total_bill   tip     sex smoker  day    time  size\n",
       "0       15.98  1.01  Female     No  Sun  Dinner     2\n",
       "1        8.68  1.66    Male     No  Sun  Dinner     3\n",
       "2       17.51  3.50    Male     No  Sun  Dinner     3\n",
       "3       20.37  3.31    Male     No  Sun  Dinner     2\n",
       "4       20.98  3.61  Female     No  Sun  Dinner     4"
      ]
     },
     "execution_count": 67,
     "metadata": {},
     "output_type": "execute_result"
    }
   ],
   "source": [
    "df.total_bill = df.total_bill - df.tip\n",
    "df.head()"
   ]
  },
  {
   "cell_type": "code",
   "execution_count": 68,
   "id": "d6db64b7",
   "metadata": {
    "execution": {
     "iopub.execute_input": "2023-12-31T11:50:23.405538Z",
     "iopub.status.busy": "2023-12-31T11:50:23.404426Z",
     "iopub.status.idle": "2023-12-31T11:50:23.696077Z",
     "shell.execute_reply": "2023-12-31T11:50:23.694535Z"
    },
    "papermill": {
     "duration": 0.358246,
     "end_time": "2023-12-31T11:50:23.698758",
     "exception": false,
     "start_time": "2023-12-31T11:50:23.340512",
     "status": "completed"
    },
    "tags": []
   },
   "outputs": [
    {
     "data": {
      "image/png": "[encoded data removed]",
      "text/plain": [
       "<Figure size 640x480 with 1 Axes>"
      ]
     },
     "metadata": {},
     "output_type": "display_data"
    }
   ],
   "source": [
    "df.plot.scatter(\"tip\",\"total_bill\");"
   ]
  },
  {
   "cell_type": "markdown",
   "id": "e30e0eb3",
   "metadata": {
    "papermill": {
     "duration": 0.062942,
     "end_time": "2023-12-31T11:50:23.825750",
     "exception": false,
     "start_time": "2023-12-31T11:50:23.762808",
     "status": "completed"
    },
    "tags": []
   },
   "source": [
    "##### Grafikte görüldüğü gibi, bu iki değişken arasında pozitif bir korelasyon varmış gibi görünüyor."
   ]
  },
  {
   "cell_type": "markdown",
   "id": "26c90bce",
   "metadata": {
    "papermill": {
     "duration": 0.062839,
     "end_time": "2023-12-31T11:50:23.951886",
     "exception": false,
     "start_time": "2023-12-31T11:50:23.889047",
     "status": "completed"
    },
    "tags": []
   },
   "source": [
    "### Normallik Varsayımı Testi"
   ]
  },
  {
   "cell_type": "code",
   "execution_count": 69,
   "id": "6841d734",
   "metadata": {
    "execution": {
     "iopub.execute_input": "2023-12-31T11:50:24.080310Z",
     "iopub.status.busy": "2023-12-31T11:50:24.079883Z",
     "iopub.status.idle": "2023-12-31T11:50:24.087880Z",
     "shell.execute_reply": "2023-12-31T11:50:24.086696Z"
    },
    "papermill": {
     "duration": 0.075761,
     "end_time": "2023-12-31T11:50:24.090702",
     "exception": false,
     "start_time": "2023-12-31T11:50:24.014941",
     "status": "completed"
    },
    "tags": []
   },
   "outputs": [
    {
     "data": {
      "text/plain": [
       "ShapiroResult(statistic=0.8978114128112793, pvalue=8.200817629144819e-12)"
      ]
     },
     "execution_count": 69,
     "metadata": {},
     "output_type": "execute_result"
    }
   ],
   "source": [
    "shapiro(df.tip)"
   ]
  },
  {
   "cell_type": "code",
   "execution_count": 70,
   "id": "70c59831",
   "metadata": {
    "execution": {
     "iopub.execute_input": "2023-12-31T11:50:24.220219Z",
     "iopub.status.busy": "2023-12-31T11:50:24.219842Z",
     "iopub.status.idle": "2023-12-31T11:50:24.227730Z",
     "shell.execute_reply": "2023-12-31T11:50:24.226443Z"
    },
    "papermill": {
     "duration": 0.075807,
     "end_time": "2023-12-31T11:50:24.230279",
     "exception": false,
     "start_time": "2023-12-31T11:50:24.154472",
     "status": "completed"
    },
    "tags": []
   },
   "outputs": [
    {
     "data": {
      "text/plain": [
       "ShapiroResult(statistic=0.9135653972625732, pvalue=1.1060685700670092e-10)"
      ]
     },
     "execution_count": 70,
     "metadata": {},
     "output_type": "execute_result"
    }
   ],
   "source": [
    "shapiro(df.total_bill)"
   ]
  },
  {
   "cell_type": "markdown",
   "id": "8e2d99fe",
   "metadata": {
    "papermill": {
     "duration": 0.064364,
     "end_time": "2023-12-31T11:50:24.362491",
     "exception": false,
     "start_time": "2023-12-31T11:50:24.298127",
     "status": "completed"
    },
    "tags": []
   },
   "source": [
    "##### Varsayımlar karşılanmıyor; bu nedenle Spearman korelasyon katsayısını kullanacağız. Ancak, onlar karşılanmış gibi devam edelim."
   ]
  },
  {
   "cell_type": "markdown",
   "id": "8f55f57f",
   "metadata": {
    "papermill": {
     "duration": 0.063024,
     "end_time": "2023-12-31T11:50:24.488257",
     "exception": false,
     "start_time": "2023-12-31T11:50:24.425233",
     "status": "completed"
    },
    "tags": []
   },
   "source": [
    "### Korelasyon Katsayısı"
   ]
  },
  {
   "cell_type": "code",
   "execution_count": 71,
   "id": "e2b04fc2",
   "metadata": {
    "execution": {
     "iopub.execute_input": "2023-12-31T11:50:24.619159Z",
     "iopub.status.busy": "2023-12-31T11:50:24.617976Z",
     "iopub.status.idle": "2023-12-31T11:50:24.627755Z",
     "shell.execute_reply": "2023-12-31T11:50:24.626436Z"
    },
    "papermill": {
     "duration": 0.079098,
     "end_time": "2023-12-31T11:50:24.630758",
     "exception": false,
     "start_time": "2023-12-31T11:50:24.551660",
     "status": "completed"
    },
    "tags": []
   },
   "outputs": [
    {
     "name": "stdout",
     "output_type": "stream",
     "text": [
      "Pearson Korelasyon Katsayısı:  0.5766634471096374\n",
      "Spearman Korelasyon Katsayısı:  0.593691939408997\n"
     ]
    }
   ],
   "source": [
    "print(\"Pearson Korelasyon Katsayısı: \",df[\"tip\"].corr(df[\"total_bill\"])) # Pearson\n",
    "print(\"Spearman Korelasyon Katsayısı: \",df[\"tip\"].corr(df[\"total_bill\"],method=\"spearman\")) # Spearman"
   ]
  },
  {
   "cell_type": "markdown",
   "id": "2903d0f8",
   "metadata": {
    "papermill": {
     "duration": 0.06359,
     "end_time": "2023-12-31T11:50:24.758885",
     "exception": false,
     "start_time": "2023-12-31T11:50:24.695295",
     "status": "completed"
    },
    "tags": []
   },
   "source": [
    "<a id =\"7.1\"></a>\n",
    "### Parametrik Korelasyon Hipotez Testi"
   ]
  },
  {
   "cell_type": "code",
   "execution_count": 72,
   "id": "52144dc3",
   "metadata": {
    "execution": {
     "iopub.execute_input": "2023-12-31T11:50:24.890528Z",
     "iopub.status.busy": "2023-12-31T11:50:24.890024Z",
     "iopub.status.idle": "2023-12-31T11:50:24.899266Z",
     "shell.execute_reply": "2023-12-31T11:50:24.898043Z"
    },
    "papermill": {
     "duration": 0.079007,
     "end_time": "2023-12-31T11:50:24.902017",
     "exception": false,
     "start_time": "2023-12-31T11:50:24.823010",
     "status": "completed"
    },
    "tags": []
   },
   "outputs": [
    {
     "data": {
      "text/plain": [
       "PearsonRResult(statistic=0.5766634471096381, pvalue=5.018290084948537e-23)"
      ]
     },
     "execution_count": 72,
     "metadata": {},
     "output_type": "execute_result"
    }
   ],
   "source": [
    "from scipy.stats import pearsonr\n",
    "pearsonr(df.tip,df.total_bill)"
   ]
  },
  {
   "cell_type": "markdown",
   "id": "a50afb9d",
   "metadata": {
    "papermill": {
     "duration": 0.064316,
     "end_time": "2023-12-31T11:50:25.031812",
     "exception": false,
     "start_time": "2023-12-31T11:50:24.967496",
     "status": "completed"
    },
    "tags": []
   },
   "source": [
    "##### Değişkenler arasında anlamlı bir ilişki olmadığını belirten boş hipotezi (H0) reddediyoruz."
   ]
  },
  {
   "cell_type": "markdown",
   "id": "9aff3ca1",
   "metadata": {
    "papermill": {
     "duration": 0.06528,
     "end_time": "2023-12-31T11:50:25.161284",
     "exception": false,
     "start_time": "2023-12-31T11:50:25.096004",
     "status": "completed"
    },
    "tags": []
   },
   "source": [
    "<a id =\"7.2\"></a>\n",
    "### Nonparametrik Korelasyon Hipotez Testi"
   ]
  },
  {
   "cell_type": "markdown",
   "id": "a683a340",
   "metadata": {
    "papermill": {
     "duration": 0.063674,
     "end_time": "2023-12-31T11:50:25.290608",
     "exception": false,
     "start_time": "2023-12-31T11:50:25.226934",
     "status": "completed"
    },
    "tags": []
   },
   "source": [
    "##### **Varsayımlar karşılanmadığında uygulanan bir yöntem.**"
   ]
  },
  {
   "cell_type": "code",
   "execution_count": 73,
   "id": "bdab3441",
   "metadata": {
    "execution": {
     "iopub.execute_input": "2023-12-31T11:50:25.423704Z",
     "iopub.status.busy": "2023-12-31T11:50:25.423030Z",
     "iopub.status.idle": "2023-12-31T11:50:25.432110Z",
     "shell.execute_reply": "2023-12-31T11:50:25.430982Z"
    },
    "papermill": {
     "duration": 0.078271,
     "end_time": "2023-12-31T11:50:25.434634",
     "exception": false,
     "start_time": "2023-12-31T11:50:25.356363",
     "status": "completed"
    },
    "tags": []
   },
   "outputs": [
    {
     "data": {
      "text/plain": [
       "SignificanceResult(statistic=0.593691939408997, pvalue=1.2452285137560276e-24)"
      ]
     },
     "execution_count": 73,
     "metadata": {},
     "output_type": "execute_result"
    }
   ],
   "source": [
    "from scipy import stats\n",
    "stats.spearmanr(df.tip,df.total_bill)"
   ]
  },
  {
   "cell_type": "markdown",
   "id": "f1da4a5e",
   "metadata": {
    "papermill": {
     "duration": 0.064564,
     "end_time": "2023-12-31T11:50:25.563767",
     "exception": false,
     "start_time": "2023-12-31T11:50:25.499203",
     "status": "completed"
    },
    "tags": []
   },
   "source": [
    "##### Değişkenler arasında anlamlı bir ilişki olmadığını belirten boş hipotezi (H0) reddediyoruz.\n",
    "\n",
    "##### Bir diğer test olan Kendall Tau testi, Spearman'ın alternatifi olarak da kullanılabilir."
   ]
  },
  {
   "cell_type": "code",
   "execution_count": 74,
   "id": "d6c022b0",
   "metadata": {
    "execution": {
     "iopub.execute_input": "2023-12-31T11:50:25.696072Z",
     "iopub.status.busy": "2023-12-31T11:50:25.695644Z",
     "iopub.status.idle": "2023-12-31T11:50:25.703913Z",
     "shell.execute_reply": "2023-12-31T11:50:25.702757Z"
    },
    "papermill": {
     "duration": 0.078153,
     "end_time": "2023-12-31T11:50:25.706375",
     "exception": false,
     "start_time": "2023-12-31T11:50:25.628222",
     "status": "completed"
    },
    "tags": []
   },
   "outputs": [
    {
     "data": {
      "text/plain": [
       "SignificanceResult(statistic=0.4400790074919885, pvalue=7.131027725873621e-24)"
      ]
     },
     "execution_count": 74,
     "metadata": {},
     "output_type": "execute_result"
    }
   ],
   "source": [
    "stats.kendalltau(df.tip,df.total_bill)"
   ]
  },
  {
   "cell_type": "markdown",
   "id": "203dde82",
   "metadata": {
    "papermill": {
     "duration": 0.063576,
     "end_time": "2023-12-31T11:50:25.834485",
     "exception": false,
     "start_time": "2023-12-31T11:50:25.770909",
     "status": "completed"
    },
    "tags": []
   },
   "source": [
    "<p style=\"text-align:center;\"><span style=\"font-size:50px;\"><span style=\"color:#D3D3D3\"><span style=\"font-family:cursive;\"><span style=\"font-weight:1000\">Okuduğunuz için teşekkür ederim 😊</span></span></span></span></p>"
   ]
  }
 ],
 "metadata": {
  "kaggle": {
   "accelerator": "none",
   "dataSources": [],
   "dockerImageVersionId": 30558,
   "isGpuEnabled": false,
   "isInternetEnabled": true,
   "language": "python",
   "sourceType": "notebook"
  },
  "kernelspec": {
   "display_name": "Python 3",
   "language": "python",
   "name": "python3"
  },
  "language_info": {
   "codemirror_mode": {
    "name": "ipython",
    "version": 3
   },
   "file_extension": ".py",
   "mimetype": "text/x-python",
   "name": "python",
   "nbconvert_exporter": "python",
   "pygments_lexer": "ipython3",
   "version": "3.10.12"
  },
  "papermill": {
   "default_parameters": {},
   "duration": 52.423605,
   "end_time": "2023-12-31T11:50:26.519148",
   "environment_variables": {},
   "exception": null,
   "input_path": "__notebook__.ipynb",
   "output_path": "__notebook__.ipynb",
   "parameters": {},
   "start_time": "2023-12-31T11:49:34.095543",
   "version": "2.4.0"
  }
 },
 "nbformat": 4,
 "nbformat_minor": 5
}
